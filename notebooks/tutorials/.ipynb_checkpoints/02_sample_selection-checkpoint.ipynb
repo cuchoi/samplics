{
 "cells": [
  {
   "cell_type": "markdown",
   "execution_count": null,
   "metadata": {},
   "outputs": [],
   "source": [
    "# 2. Sample Selection "
   ]
  },
  {
   "cell_type": "markdown",
   "execution_count": null,
   "metadata": {},
   "outputs": [],
   "source": [
    "This tutorial will walk you through the use of the class *Selection* to select a random sample from a frame of finite sample units.\n",
    "\n",
    "## Objective:\n",
    "- Overview of some common sample selection techniques\n",
    "- Introduction to the attributes and methods of class *Selection*\n",
    "\n",
    "**Important.** This tutorial is not designed to teach sample selection but rather aims to provide a minimum review as reference for the user. At the end of this tutorial, the user should have a good understanding of the *Selection* API. \n"
   ]
  },
  {
   "cell_type": "code",
   "execution_count": null,
   "metadata": {},
   "outputs": [],
   "source": [
    "import numpy as np\n",
    "import pandas as pd\n",
    "\n",
    "from survmeth import Selection"
   ]
  },
  {
   "cell_type": "markdown",
   "execution_count": null,
   "metadata": {},
   "outputs": [],
   "source": [
    "The file *sample_frame.csv* - shown below - contains syntethic data of 100 clusters classified by region. Clusters represent a group of households. In the file, each clusters has an associated number of households (number_households) and a status variable indicating whether the cluster is in scope or not. \n",
    "\n",
    "This synthetic data represents a simplified version of enumeration areas (EAs) frame from countries used by major household survey programs such as the Demographic and Health (DHS), the Population-based HIV Impact Assessment (PHIA) and the Multiple Cluster Indicator Survey (MICS). "
   ]
  },
  {
   "cell_type": "code",
   "execution_count": 38,
   "metadata": {},
   "outputs": [
    {
     "data": {
      "text/html": "<div>\n<style scoped>\n    .dataframe tbody tr th:only-of-type {\n        vertical-align: middle;\n    }\n\n    .dataframe tbody tr th {\n        vertical-align: top;\n    }\n\n    .dataframe thead th {\n        text-align: right;\n    }\n</style>\n<table border=\"1\" class=\"dataframe\">\n  <thead>\n    <tr style=\"text-align: right;\">\n      <th></th>\n      <th>cluster</th>\n      <th>region</th>\n      <th>number_households</th>\n      <th>cluster_status</th>\n      <th>comment</th>\n    </tr>\n  </thead>\n  <tbody>\n    <tr>\n      <th>0</th>\n      <td>1</td>\n      <td>North</td>\n      <td>105</td>\n      <td>1</td>\n      <td>NaN</td>\n    </tr>\n    <tr>\n      <th>1</th>\n      <td>2</td>\n      <td>North</td>\n      <td>85</td>\n      <td>1</td>\n      <td>NaN</td>\n    </tr>\n    <tr>\n      <th>2</th>\n      <td>3</td>\n      <td>North</td>\n      <td>95</td>\n      <td>1</td>\n      <td>NaN</td>\n    </tr>\n    <tr>\n      <th>3</th>\n      <td>4</td>\n      <td>North</td>\n      <td>75</td>\n      <td>1</td>\n      <td>NaN</td>\n    </tr>\n    <tr>\n      <th>4</th>\n      <td>5</td>\n      <td>North</td>\n      <td>120</td>\n      <td>1</td>\n      <td>NaN</td>\n    </tr>\n    <tr>\n      <th>5</th>\n      <td>6</td>\n      <td>North</td>\n      <td>90</td>\n      <td>1</td>\n      <td>NaN</td>\n    </tr>\n    <tr>\n      <th>6</th>\n      <td>7</td>\n      <td>North</td>\n      <td>130</td>\n      <td>1</td>\n      <td>NaN</td>\n    </tr>\n    <tr>\n      <th>7</th>\n      <td>8</td>\n      <td>North</td>\n      <td>55</td>\n      <td>1</td>\n      <td>NaN</td>\n    </tr>\n    <tr>\n      <th>8</th>\n      <td>9</td>\n      <td>North</td>\n      <td>30</td>\n      <td>1</td>\n      <td>NaN</td>\n    </tr>\n    <tr>\n      <th>9</th>\n      <td>10</td>\n      <td>North</td>\n      <td>600</td>\n      <td>1</td>\n      <td>due to a large building</td>\n    </tr>\n    <tr>\n      <th>10</th>\n      <td>11</td>\n      <td>South</td>\n      <td>25</td>\n      <td>1</td>\n      <td>NaN</td>\n    </tr>\n    <tr>\n      <th>11</th>\n      <td>12</td>\n      <td>South</td>\n      <td>250</td>\n      <td>1</td>\n      <td>NaN</td>\n    </tr>\n    <tr>\n      <th>12</th>\n      <td>13</td>\n      <td>South</td>\n      <td>105</td>\n      <td>1</td>\n      <td>NaN</td>\n    </tr>\n    <tr>\n      <th>13</th>\n      <td>14</td>\n      <td>South</td>\n      <td>75</td>\n      <td>1</td>\n      <td>NaN</td>\n    </tr>\n    <tr>\n      <th>14</th>\n      <td>15</td>\n      <td>South</td>\n      <td>205</td>\n      <td>1</td>\n      <td>NaN</td>\n    </tr>\n    <tr>\n      <th>15</th>\n      <td>16</td>\n      <td>South</td>\n      <td>190</td>\n      <td>1</td>\n      <td>NaN</td>\n    </tr>\n    <tr>\n      <th>16</th>\n      <td>17</td>\n      <td>South</td>\n      <td>95</td>\n      <td>1</td>\n      <td>NaN</td>\n    </tr>\n    <tr>\n      <th>17</th>\n      <td>18</td>\n      <td>South</td>\n      <td>85</td>\n      <td>1</td>\n      <td>NaN</td>\n    </tr>\n    <tr>\n      <th>18</th>\n      <td>19</td>\n      <td>South</td>\n      <td>50</td>\n      <td>1</td>\n      <td>NaN</td>\n    </tr>\n    <tr>\n      <th>19</th>\n      <td>20</td>\n      <td>South</td>\n      <td>110</td>\n      <td>1</td>\n      <td>NaN</td>\n    </tr>\n  </tbody>\n</table>\n</div>",
      "text/plain": "    cluster region  number_households  cluster_status                  comment\n0         1  North                105               1                      NaN\n1         2  North                 85               1                      NaN\n2         3  North                 95               1                      NaN\n3         4  North                 75               1                      NaN\n4         5  North                120               1                      NaN\n5         6  North                 90               1                      NaN\n6         7  North                130               1                      NaN\n7         8  North                 55               1                      NaN\n8         9  North                 30               1                      NaN\n9        10  North                600               1  due to a large building\n10       11  South                 25               1                      NaN\n11       12  South                250               1                      NaN\n12       13  South                105               1                      NaN\n13       14  South                 75               1                      NaN\n14       15  South                205               1                      NaN\n15       16  South                190               1                      NaN\n16       17  South                 95               1                      NaN\n17       18  South                 85               1                      NaN\n18       19  South                 50               1                      NaN\n19       20  South                110               1                      NaN"
     },
     "execution_count": 38,
     "metadata": {},
     "output_type": "execute_result"
    }
   ],
   "source": [
    "psu_frame = pd.read_csv(\"psu_frame.csv\")\n",
    "\n",
    "psu_frame.head(20)"
   ]
  },
  {
   "cell_type": "markdown",
   "execution_count": null,
   "metadata": {},
   "outputs": [],
   "source": [
    "In the sections below, the user will select samples using several random selection procedures. In each section, a short review of the selection method will be provided to the user. The three main selection methods implemented with class *Selection* are the simple random selection (SRS), the systematic selection (SYS), and the probability proportional to size (PPS).\n",
    "\n",
    "The class *Selection* has two main methods that is *inclusion_probs* and *select*. *inclusion_probs* computes the probability of selection and *select* provides the random sample. For more details visit: samplics.io/readthedocs/samplics.sampling\n",
    "\n",
    "Some of the attributes of the class *Selection are the following:\n",
    "- *method* which indicates the selection method. The current methods are: srs, sys, pps-brewer, pps-hv (for the Hanarav-Vajayan algorithm), pps-murphy, pps-sampford, and pps-sys.\n",
    "- *stratification* indicates if selection is stratified.\n",
    "- *with_replacement* indicates if selection is with replacement.\n",
    "- *fpc* provides the finite population correction - **(To Do list)**"
   ]
  },
  {
   "cell_type": "markdown",
   "execution_count": null,
   "metadata": {},
   "outputs": [],
   "source": [
    "## Sampling STAGE 1 - Selection of Primary Sampling Units (PSUs)\n",
    "\n",
    "Often, sampling frames are not available for the sampling units of interest. For example, most countries do not have a accurate list of all available housholds or people living in the country. Even if such frame exist, it may be operationally and finacially not feasible to directly select sampling units without any form of clustering. \n",
    "\n",
    "Hence, stage sampling is a common strategy used by large households national surveys for selecting samples of households and people. "
   ]
  },
  {
   "cell_type": "markdown",
   "execution_count": null,
   "metadata": {},
   "outputs": [],
   "source": [
    "### PSU Probability of Selection \n",
    "\n",
    "The sampling units will be selected with probabilities proportional to size (pps). <br>\n",
    "The measure of size is the number of households (number_households) provided in <br>\n",
    "the sampling frame. The sample will be stratified by region. \n",
    "\n",
    "The probabilities, for stratified pps, is obtained as follow:  $p_k = \\frac{n M_k}{\\sum_{i=1}^{N}{M_i}}$ <br>\n",
    "where $p_k$ is the probability of selection for unit $k$, $M_k$ is the measure of size (mos), <br>\n",
    "$N$ is the total number of clusters in the sampling frame."
   ]
  },
  {
   "cell_type": "markdown",
   "execution_count": null,
   "metadata": {},
   "outputs": [],
   "source": [
    "### Sample size by stratum \n",
    "\n",
    "The table below provides the stratum (region), the sample size (sample_size), <br>\n",
    "the total size measure (total_size), and the ratio (ratio = $\\frac{n}{\\sum_{i=1}^{N}{M_i}}$)."
   ]
  },
  {
   "cell_type": "code",
   "execution_count": null,
   "metadata": {},
   "outputs": [],
   "source": [
    "psu_sample_size = psu_frame.groupby(\"region\").sum()\n",
    "psu_sample_size[\"sample_size\"] = 2\n",
    "psu_sample_size.sample_size[\"North\"] = 1\n",
    "psu_sample_size.sample_size[\"West\"] = 5\n",
    "psu_sample_size[\"region\"] = psu_sample_size.index\n",
    "psu_sample_size.drop(columns=\"cluster_id\", inplace=True)\n",
    "psu_sample_size.rename(columns={\n",
    "    \"cluster_status\": \"total_clusters\",\n",
    "    \"number_households\": \"total_households\"\n",
    "}, inplace=True)\n",
    "psu_sample_size.reset_index(drop=True, inplace=True)\n",
    "\n",
    "psu_sample_size"
   ]
  },
  {
   "cell_type": "code",
   "execution_count": null,
   "metadata": {},
   "outputs": [],
   "source": [
    "# Merge sample information to frame\n",
    "psu_frame = pd.merge(psu_frame, psu_sample_size, on=\"region\")\n",
    "\n",
    "# Probabilities of selection\n",
    "psu_frame[\"psu_probs_ref\"] = psu_frame[\"sample_size\"] * psu_frame[\"number_households\"] / psu_frame[\"total_households\"]\n",
    "\n",
    "psu_frame.head()"
   ]
  },
  {
   "cell_type": "code",
   "execution_count": null,
   "metadata": {},
   "outputs": [],
   "source": [
    "stratified_pps = svm.SizeSelection(stratification=True, with_replacement=False)\n",
    "\n",
    "psu_sample_size = dict(\n",
    "    {\"North\": 1, \"South\": 2, \"East\": 2, \"West\": 5}\n",
    ")\n",
    "psu = psu_frame[\"cluster_id\"]\n",
    "psu_mos = psu_frame[\"number_households\"]\n",
    "region = psu_frame[\"region\"]\n",
    "\n",
    "psu_probs = stratified_pps.inclusion_probability(psu, psu_sample_size, psu_mos, region)\n",
    "\n",
    "psu_frame[\"psu_probs\"] = psu_probs\n",
    "\n",
    "psu_weight = np.zeros(psu_probs.size)\n",
    "for i in range(psu_probs.size):\n",
    "    if psu_probs[i] != 0:\n",
    "        psu_weight[i] = 1 / psu_probs[i]\n",
    "\n",
    "psu_frame[\"psu_weight\"] = psu_weight\n",
    "psu_frame.head(15)"
   ]
  },
  {
   "cell_type": "markdown",
   "execution_count": null,
   "metadata": {},
   "outputs": [],
   "source": [
    "### PSU Selection"
   ]
  },
  {
   "cell_type": "markdown",
   "execution_count": null,
   "metadata": {},
   "outputs": [],
   "source": [
    "Provide the steps for systematic selection\n",
    "\n",
    "Have a set python script to show each of the step separately\n",
    "\n",
    "Finish with SurvMeth"
   ]
  },
  {
   "cell_type": "code",
   "execution_count": null,
   "metadata": {},
   "outputs": [],
   "source": [
    "np.random.seed(23)\n",
    "psu_sample, psu_hits = stratified_pps.select(psu, psu_sample_size, psu_mos, region)\n",
    "\n",
    "psu_frame[\"psu_sample\"] = psu_sample\n",
    "psu_frame[\"psu_hits\"] = psu_hits\n",
    "\n",
    "psu_frame.head(15)\n",
    "\n",
    "#print(np.sum(psu_frame[\"psu_sample\"].values))\n",
    "#print(np.sum(psu_frame[\"psu_hits\"].values))"
   ]
  },
  {
   "cell_type": "markdown",
   "execution_count": null,
   "metadata": {},
   "outputs": [],
   "source": [
    "The sample is given by filtering the rows with psu_sample == 1"
   ]
  },
  {
   "cell_type": "code",
   "execution_count": null,
   "metadata": {},
   "outputs": [],
   "source": [
    "psu_frame.loc[psu_frame[\"psu_sample\"]==1]"
   ]
  },
  {
   "cell_type": "markdown",
   "execution_count": null,
   "metadata": {},
   "outputs": [],
   "source": [
    "## Sampling STAGE 2 - Selection of Secondary Sampling Unit (SSU)"
   ]
  },
  {
   "cell_type": "markdown",
   "execution_count": null,
   "metadata": {},
   "outputs": [],
   "source": [
    "Provide the steps for systematic selection\n",
    "\n",
    "Have a set python script to show each of the step separately\n",
    "\n",
    "Finish with SurvMeth"
   ]
  },
  {
   "cell_type": "code",
   "execution_count": null,
   "metadata": {},
   "outputs": [],
   "source": [
    "# Create a synthetic second stage frame\n",
    "census_size = psu_frame.loc[psu_frame[\"psu_sample\"]==1, \"number_households\"].values\n",
    "stratum_names = psu_frame.loc[psu_frame[\"psu_sample\"]==1, \"region\"].values\n",
    "cluster_id = psu_frame.loc[psu_frame[\"psu_sample\"]==1, \"cluster_id\"].values\n",
    "\n",
    "np.random.seed(323241)\n",
    "\n",
    "listing_size = np.zeros(census_size.size)\n",
    "for k in range(census_size.size):\n",
    "    listing_size[k] = np.random.normal(1.05*census_size[k], 0.1*census_size[k])\n",
    "    \n",
    "listing_size = listing_size.astype(int)\n",
    "\n",
    "hh_id = rr_id = cl_id = []\n",
    "for k, s in enumerate(listing_size):\n",
    "    hh_k1 = np.char.array(np.repeat(stratum_names[k], s)).astype(str)\n",
    "    hh_k2 = np.char.array(np.arange(1, s+1)).astype(str)\n",
    "    cl_k = np.repeat(cluster_id[k], s)\n",
    "    hh_k = np.char.add(hh_k1, np.char.array(cl_k).astype(str))\n",
    "    hh_k = np.char.add(hh_k, hh_k2)\n",
    "    hh_id = np.append(hh_id, hh_k)\n",
    "    rr_id = np.append(rr_id, hh_k1)\n",
    "    cl_id = np.append(cl_id, cl_k)\n",
    "    \n",
    "#(np.size(hh_id), sum(census_size), sum(listing_size))\n",
    "\n",
    "ssu_frame = pd.DataFrame(cl_id.astype(int))\n",
    "ssu_frame.rename(columns={0: \"cluster_id\"}, inplace=True)\n",
    "ssu_frame[\"region\"] = rr_id\n",
    "ssu_frame[\"ssu_id\"] = hh_id\n",
    "\n",
    "#ssu_frame.head(15)\n",
    "#ssu_frame.sample(15)\n",
    "ssu_frame.groupby(\"cluster_id\").count()"
   ]
  },
  {
   "cell_type": "code",
   "execution_count": null,
   "metadata": {},
   "outputs": [],
   "source": [
    "stratified_srs = svm.SimpleSelection(stratification=True, with_replacement=False)\n",
    "\n",
    "ssu_sample_size = 12\n",
    "ssu = ssu_frame[\"ssu_id\"]\n",
    "cluster = ssu_frame[\"cluster_id\"]\n",
    "\n",
    "np.unique(ssu, return_counts=True)\n",
    "\n",
    "ssu_probs = stratified_srs.inclusion_probability(ssu, ssu_sample_size, cluster)\n",
    "\n",
    "ssu_frame[\"ssu_probs\"] = ssu_probs\n",
    "\n",
    "ssu_weight = np.zeros(ssu_probs.size)\n",
    "for i in range(ssu_probs.size):\n",
    "    if ssu_probs[i] != 0:\n",
    "        ssu_weight[i] = 1 / ssu_probs[i]\n",
    "\n",
    "ssu_frame[\"ssu_weight\"] = ssu_weight\n",
    "ssu_frame.sample(15)"
   ]
  },
  {
   "cell_type": "code",
   "execution_count": null,
   "metadata": {},
   "outputs": [],
   "source": [
    "np.random.seed(11135)\n",
    "ssu_sample, ssu_hits = stratified_srs.select(ssu, ssu_sample_size, cluster)\n",
    "\n",
    "ssu_frame[\"ssu_sample\"] = ssu_sample\n",
    "ssu_frame[\"ssu_hits\"] = ssu_hits\n",
    "\n",
    "ssu_frame.sample(15)\n",
    "\n",
    "#print(np.sum(ssu_frame[\"ssu_sample\"].values))\n",
    "#print(np.sum(ssu_frame[\"ssu_hits\"].values))"
   ]
  },
  {
   "cell_type": "markdown",
   "execution_count": null,
   "metadata": {},
   "outputs": [],
   "source": [
    "## Sampling STAGE 3 - Tertiary Sampling Unit (TSU)"
   ]
  },
  {
   "cell_type": "markdown",
   "execution_count": null,
   "metadata": {},
   "outputs": [],
   "source": [
    "Maybe not necessary"
   ]
  },
  {
   "cell_type": "markdown",
   "execution_count": null,
   "metadata": {},
   "outputs": [],
   "source": [
    "## Base (Design) Weight"
   ]
  },
  {
   "cell_type": "code",
   "execution_count": null,
   "metadata": {},
   "outputs": [],
   "source": []
  }
 ],
 "metadata": {
  "kernelspec": {
   "display_name": "Python 3.6.7 64-bit ('.venv': venv)",
   "language": "python",
   "name": "python36764bitvenvvenv391d0bae624c416dbf93218f3ec89504"
  },
  "language_info": {
   "codemirror_mode": {
    "name": "ipython",
    "version": 3
   },
   "file_extension": ".py",
   "mimetype": "text/x-python",
   "name": "python",
   "nbconvert_exporter": "python",
   "pygments_lexer": "ipython3",
   "version": "3.6.7-final"
  }
 },
 "nbformat": 4,
 "nbformat_minor": 4
}