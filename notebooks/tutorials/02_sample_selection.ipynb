{
 "cells": [
  {
   "cell_type": "markdown",
   "execution_count": null,
   "metadata": {},
   "outputs": [],
   "source": [
    "# 2. Sample Selection "
   ]
  },
  {
   "cell_type": "markdown",
   "execution_count": null,
   "metadata": {},
   "outputs": [],
   "source": [
    "## Table of Contents\n",
    "\n",
    "- [Objective](#section0)\n",
    "\n",
    "- [Sampling Stage 1 - Selection of Primary Sampling Units (PSUs)](#section1)\n",
    "    - [PSU Probabilty of Selection](#section11)\n",
    "    - [PSU Selection](#section12)\n",
    "\n",
    "- [Sampling Stage 2 - Selection of Secondary Sampling Units (SSUs)](#section2)\n",
    "    - [SSU Probabilty of Selection](#section21)\n",
    "    - [SSU Selection](#section22)\n"
   ]
  },
  {
   "cell_type": "markdown",
   "execution_count": null,
   "metadata": {},
   "outputs": [],
   "source": [
    "## Objective <a name=\"section0\"></a>\n",
    "\n",
    "This tutorial illustrates the use of the class *Sample* for selecting a random sample from a frame of finite sample units. More precisely, the objective of this tutorial are:\n",
    "\n",
    "- Overview of some common sample selection techniques\n",
    "- Introduction to the attributes and methods of class *Selection*\n",
    "\n",
    "**Important.** This tutorial is not designed to teach sample selection but rather aims to provide a minimum review as reference for the user. At the end of this tutorial, the user should have a good understanding of the *Selection* API. \n"
   ]
  },
  {
   "cell_type": "code",
   "execution_count": 1,
   "metadata": {},
   "outputs": [],
   "source": [
    "#%load_ext lab_black \n",
    "\n",
    "# In this cell, all the necessary python packages and classes are imported in the workspace.\n",
    "import numpy as np\n",
    "import pandas as pd\n",
    "\n",
    "# first run (from the terminal): pip3 install survmeth\n",
    "from samplics import Sample"
   ]
  },
  {
   "cell_type": "markdown",
   "execution_count": null,
   "metadata": {},
   "outputs": [],
   "source": [
    "In the sections below, we select samples using several random selection procedures. In each section, a short review of the selection method will be provided to the user. The three main selection methods implemented in class *Selection* are the simple random selection (SRS), the systematic selection (SYS), and the probability proportional to size (PPS).\n",
    "\n",
    "The class *Selection* has two main methods that is *inclusion_probs* and *select*. *inclusion_probs* computes the probability of selection and *select* is used to random samples. For more details visit: samplics.io/readthedocs/samplics.sampling\n",
    "\n",
    "Some of the attributes of the class *Sample* are the following:\n",
    "- *method* which indicates the selection method. The current implemented methods are: srs, sys, pps-brewer, pps-hv (for the Hanarav-Vajayan algorithm), pps-murphy, pps-sampford, and pps-sys.\n",
    "- *stratification* indicates if selection is stratified.\n",
    "- *with_replacement* indicates if selection is with replacement.\n",
    "- *fpc* provides the finite population correction - **(To Do list)**"
   ]
  },
  {
   "cell_type": "markdown",
   "execution_count": null,
   "metadata": {},
   "outputs": [],
   "source": [
    "## Sampling at Stage 1 - Selection of Primary Sampling Units (PSUs) <a name=\"section1\"></a>\n",
    "\n",
    "The file *sample_frame.csv* - shown below - contains syntethic data of 100 clusters classified by region. Clusters represent a group of households. In the file, each clusters has an associated number of households (number_households) and a status variable indicating whether the cluster is in scope or not. \n",
    "\n",
    "This synthetic data represents a simplified version of enumeration areas (EAs) frame found in countries and used by major household survey programs such as the Demographic and Health (DHS), the Population-based HIV Impact Assessment (PHIA) and the Multiple Cluster Indicator Survey (MICS). "
   ]
  },
  {
   "cell_type": "code",
   "execution_count": 2,
   "metadata": {},
   "outputs": [
    {
     "data": {
      "text/html": "<div>\n<style scoped>\n    .dataframe tbody tr th:only-of-type {\n        vertical-align: middle;\n    }\n\n    .dataframe tbody tr th {\n        vertical-align: top;\n    }\n\n    .dataframe thead th {\n        text-align: right;\n    }\n</style>\n<table border=\"1\" class=\"dataframe\">\n  <thead>\n    <tr style=\"text-align: right;\">\n      <th></th>\n      <th>cluster</th>\n      <th>region</th>\n      <th>number_households_census</th>\n      <th>cluster_status</th>\n      <th>comment</th>\n    </tr>\n  </thead>\n  <tbody>\n    <tr>\n      <th>0</th>\n      <td>1</td>\n      <td>North</td>\n      <td>105</td>\n      <td>1</td>\n      <td>NaN</td>\n    </tr>\n    <tr>\n      <th>1</th>\n      <td>2</td>\n      <td>North</td>\n      <td>85</td>\n      <td>1</td>\n      <td>NaN</td>\n    </tr>\n    <tr>\n      <th>2</th>\n      <td>3</td>\n      <td>North</td>\n      <td>95</td>\n      <td>1</td>\n      <td>NaN</td>\n    </tr>\n    <tr>\n      <th>3</th>\n      <td>4</td>\n      <td>North</td>\n      <td>75</td>\n      <td>1</td>\n      <td>NaN</td>\n    </tr>\n    <tr>\n      <th>4</th>\n      <td>5</td>\n      <td>North</td>\n      <td>120</td>\n      <td>1</td>\n      <td>NaN</td>\n    </tr>\n    <tr>\n      <th>5</th>\n      <td>6</td>\n      <td>North</td>\n      <td>90</td>\n      <td>1</td>\n      <td>NaN</td>\n    </tr>\n    <tr>\n      <th>6</th>\n      <td>7</td>\n      <td>North</td>\n      <td>130</td>\n      <td>1</td>\n      <td>NaN</td>\n    </tr>\n    <tr>\n      <th>7</th>\n      <td>8</td>\n      <td>North</td>\n      <td>55</td>\n      <td>1</td>\n      <td>NaN</td>\n    </tr>\n    <tr>\n      <th>8</th>\n      <td>9</td>\n      <td>North</td>\n      <td>30</td>\n      <td>1</td>\n      <td>NaN</td>\n    </tr>\n    <tr>\n      <th>9</th>\n      <td>10</td>\n      <td>North</td>\n      <td>600</td>\n      <td>1</td>\n      <td>due to a large building</td>\n    </tr>\n    <tr>\n      <th>10</th>\n      <td>11</td>\n      <td>South</td>\n      <td>25</td>\n      <td>1</td>\n      <td>NaN</td>\n    </tr>\n    <tr>\n      <th>11</th>\n      <td>12</td>\n      <td>South</td>\n      <td>250</td>\n      <td>1</td>\n      <td>NaN</td>\n    </tr>\n    <tr>\n      <th>12</th>\n      <td>13</td>\n      <td>South</td>\n      <td>105</td>\n      <td>1</td>\n      <td>NaN</td>\n    </tr>\n    <tr>\n      <th>13</th>\n      <td>14</td>\n      <td>South</td>\n      <td>75</td>\n      <td>1</td>\n      <td>NaN</td>\n    </tr>\n    <tr>\n      <th>14</th>\n      <td>15</td>\n      <td>South</td>\n      <td>205</td>\n      <td>1</td>\n      <td>NaN</td>\n    </tr>\n    <tr>\n      <th>15</th>\n      <td>16</td>\n      <td>South</td>\n      <td>190</td>\n      <td>1</td>\n      <td>NaN</td>\n    </tr>\n    <tr>\n      <th>16</th>\n      <td>17</td>\n      <td>South</td>\n      <td>95</td>\n      <td>1</td>\n      <td>NaN</td>\n    </tr>\n    <tr>\n      <th>17</th>\n      <td>18</td>\n      <td>South</td>\n      <td>85</td>\n      <td>1</td>\n      <td>NaN</td>\n    </tr>\n    <tr>\n      <th>18</th>\n      <td>19</td>\n      <td>South</td>\n      <td>50</td>\n      <td>1</td>\n      <td>NaN</td>\n    </tr>\n    <tr>\n      <th>19</th>\n      <td>20</td>\n      <td>South</td>\n      <td>110</td>\n      <td>1</td>\n      <td>NaN</td>\n    </tr>\n    <tr>\n      <th>20</th>\n      <td>21</td>\n      <td>South</td>\n      <td>130</td>\n      <td>1</td>\n      <td>NaN</td>\n    </tr>\n    <tr>\n      <th>21</th>\n      <td>22</td>\n      <td>South</td>\n      <td>180</td>\n      <td>1</td>\n      <td>NaN</td>\n    </tr>\n    <tr>\n      <th>22</th>\n      <td>23</td>\n      <td>South</td>\n      <td>65</td>\n      <td>1</td>\n      <td>NaN</td>\n    </tr>\n    <tr>\n      <th>23</th>\n      <td>24</td>\n      <td>South</td>\n      <td>75</td>\n      <td>1</td>\n      <td>NaN</td>\n    </tr>\n    <tr>\n      <th>24</th>\n      <td>25</td>\n      <td>South</td>\n      <td>95</td>\n      <td>1</td>\n      <td>NaN</td>\n    </tr>\n  </tbody>\n</table>\n</div>",
      "text/plain": "    cluster region  number_households_census  cluster_status  \\\n0         1  North                       105               1   \n1         2  North                        85               1   \n2         3  North                        95               1   \n3         4  North                        75               1   \n4         5  North                       120               1   \n5         6  North                        90               1   \n6         7  North                       130               1   \n7         8  North                        55               1   \n8         9  North                        30               1   \n9        10  North                       600               1   \n10       11  South                        25               1   \n11       12  South                       250               1   \n12       13  South                       105               1   \n13       14  South                        75               1   \n14       15  South                       205               1   \n15       16  South                       190               1   \n16       17  South                        95               1   \n17       18  South                        85               1   \n18       19  South                        50               1   \n19       20  South                       110               1   \n20       21  South                       130               1   \n21       22  South                       180               1   \n22       23  South                        65               1   \n23       24  South                        75               1   \n24       25  South                        95               1   \n\n                    comment  \n0                       NaN  \n1                       NaN  \n2                       NaN  \n3                       NaN  \n4                       NaN  \n5                       NaN  \n6                       NaN  \n7                       NaN  \n8                       NaN  \n9   due to a large building  \n10                      NaN  \n11                      NaN  \n12                      NaN  \n13                      NaN  \n14                      NaN  \n15                      NaN  \n16                      NaN  \n17                      NaN  \n18                      NaN  \n19                      NaN  \n20                      NaN  \n21                      NaN  \n22                      NaN  \n23                      NaN  \n24                      NaN  "
     },
     "execution_count": 2,
     "metadata": {},
     "output_type": "execute_result"
    }
   ],
   "source": [
    "psu_frame = pd.read_csv(\"psu_frame.csv\")\n",
    "\n",
    "psu_frame.head(25)"
   ]
  },
  {
   "cell_type": "markdown",
   "execution_count": null,
   "metadata": {},
   "outputs": [],
   "source": [
    "Often, sampling frames are not available for the sampling units of interest. For example, most countries do not have a accurate list of all available housholds or people living in the country. Even if such frame exist, it may be operationally and finacially not feasible to directly select sampling units without any form of clustering. \n",
    "\n",
    "Hence, stage sampling is a common strategy used by large households national surveys for selecting samples of households and people. At the first stage, geographic or admistrative clusters of households are selected. At the second stage, a frame of households is created from the selected clusters and a sample of households are selected. At the third stage (if applicable), a sample of people is selected from the household in the sample. This is a high level description of the process; usually implementations are much less straighforward with many adjustments to address complexities. "
   ]
  },
  {
   "cell_type": "markdown",
   "execution_count": null,
   "metadata": {},
   "outputs": [],
   "source": [
    "### PSU Probability of Selection <a name=\"section11\"></a>\n",
    "\n",
    "At the first stage, we use the proportional to size (pps) method to select a random sample of clusters. The measure of size is the number of households (number_households) as provided in the psu sampling frame. The sample is stratified by region. The probabilities, for stratified pps, is obtained as follow: \\begin{equation} p_{hi} = \\frac{n_h M_{hi}}{\\sum_{i=1}^{N_h}{M_{hi}}} \\end{equation} where $p_{hi}$ is the probability of selection for unit $i$ from stratum $h$, $M_{hi}$ is the measure of size (mos), $n_h$ and $N_h$ are the sample size and the total number of clusters in stratum $h$, respectively."
   ]
  },
  {
   "cell_type": "markdown",
   "execution_count": null,
   "metadata": {},
   "outputs": [],
   "source": [
    "### PSU Sample size\n",
    "\n",
    "For a stratified sample design, the sample size is python dictionary. A Python dictionary allows us to pair the strata with the sample sizes. Let say that we want to select 3 clusters from stratum *East*, 2 from *West*, 2 from *North* and 3 from *South*. The code below shows how to create the Python dictionary. Note that is is important to correctly spell out the keys of the dictionary which correspond to the values of the variable representing stratum (in our case it's *region*)."
   ]
  },
  {
   "cell_type": "code",
   "execution_count": 3,
   "metadata": {},
   "outputs": [
    {
     "name": "stdout",
     "output_type": "stream",
     "text": "{'East': 3, 'West': 2, 'North': 2, 'South': 3}\n"
    }
   ],
   "source": [
    "psu_sample_size = {\"East\":3, \"West\": 2, \"North\": 2, \"South\": 3}\n",
    "print(psu_sample_size)"
   ]
  },
  {
   "cell_type": "markdown",
   "execution_count": null,
   "metadata": {},
   "outputs": [],
   "source": [
    "The function *array_to_dict()* converts an array to a dictionnary by pairing the values of the array to their frequency. We can use this function to calculates the number of clusters per stratum and store it in a Python dictionnary. Then, we modify the values of the dictionnary to create the sample size dictionnary.\n",
    "\n",
    "If some of the clusters are certainties then an exception will be raised. Hence, the user will have to manually handle the certaininty. Better handling of certainties is planned for future versions of the *SAMPLICS*."
   ]
  },
  {
   "cell_type": "code",
   "execution_count": 4,
   "metadata": {},
   "outputs": [
    {
     "name": "stdout",
     "output_type": "stream",
     "text": "The number of clusters per stratum is: {'East': 25, 'North': 10, 'South': 20, 'West': 45} \n\nThe sample size per stratum is: {'East': 3, 'North': 2, 'South': 3, 'West': 2}\n"
    }
   ],
   "source": [
    "from samplics import array_to_dict\n",
    "\n",
    "frame_size = array_to_dict(psu_frame[\"region\"])\n",
    "print(f\"The number of clusters per stratum is: {frame_size} \\n\")\n",
    "\n",
    "psu_sample_size = frame_size.copy()\n",
    "psu_sample_size[\"East\"] = 3\n",
    "psu_sample_size[\"North\"] = 2\n",
    "psu_sample_size[\"South\"] = 3\n",
    "psu_sample_size[\"West\"] = 2\n",
    "print(f\"The sample size per stratum is: {psu_sample_size}\")"
   ]
  },
  {
   "cell_type": "code",
   "execution_count": 5,
   "metadata": {},
   "outputs": [
    {
     "data": {
      "text/html": "<div>\n<style scoped>\n    .dataframe tbody tr th:only-of-type {\n        vertical-align: middle;\n    }\n\n    .dataframe tbody tr th {\n        vertical-align: top;\n    }\n\n    .dataframe thead th {\n        text-align: right;\n    }\n</style>\n<table border=\"1\" class=\"dataframe\">\n  <thead>\n    <tr style=\"text-align: right;\">\n      <th></th>\n      <th>cluster</th>\n      <th>region</th>\n      <th>number_households_census</th>\n      <th>cluster_status</th>\n      <th>comment</th>\n      <th>psu_prob</th>\n    </tr>\n  </thead>\n  <tbody>\n    <tr>\n      <th>0</th>\n      <td>1</td>\n      <td>North</td>\n      <td>105</td>\n      <td>1</td>\n      <td>NaN</td>\n      <td>0.151625</td>\n    </tr>\n    <tr>\n      <th>1</th>\n      <td>2</td>\n      <td>North</td>\n      <td>85</td>\n      <td>1</td>\n      <td>NaN</td>\n      <td>0.122744</td>\n    </tr>\n    <tr>\n      <th>2</th>\n      <td>3</td>\n      <td>North</td>\n      <td>95</td>\n      <td>1</td>\n      <td>NaN</td>\n      <td>0.137184</td>\n    </tr>\n    <tr>\n      <th>3</th>\n      <td>4</td>\n      <td>North</td>\n      <td>75</td>\n      <td>1</td>\n      <td>NaN</td>\n      <td>0.108303</td>\n    </tr>\n    <tr>\n      <th>4</th>\n      <td>5</td>\n      <td>North</td>\n      <td>120</td>\n      <td>1</td>\n      <td>NaN</td>\n      <td>0.173285</td>\n    </tr>\n    <tr>\n      <th>5</th>\n      <td>6</td>\n      <td>North</td>\n      <td>90</td>\n      <td>1</td>\n      <td>NaN</td>\n      <td>0.129964</td>\n    </tr>\n    <tr>\n      <th>6</th>\n      <td>7</td>\n      <td>North</td>\n      <td>130</td>\n      <td>1</td>\n      <td>NaN</td>\n      <td>0.187726</td>\n    </tr>\n    <tr>\n      <th>7</th>\n      <td>8</td>\n      <td>North</td>\n      <td>55</td>\n      <td>1</td>\n      <td>NaN</td>\n      <td>0.079422</td>\n    </tr>\n    <tr>\n      <th>8</th>\n      <td>9</td>\n      <td>North</td>\n      <td>30</td>\n      <td>1</td>\n      <td>NaN</td>\n      <td>0.043321</td>\n    </tr>\n    <tr>\n      <th>9</th>\n      <td>10</td>\n      <td>North</td>\n      <td>600</td>\n      <td>1</td>\n      <td>due to a large building</td>\n      <td>0.866426</td>\n    </tr>\n    <tr>\n      <th>10</th>\n      <td>11</td>\n      <td>South</td>\n      <td>25</td>\n      <td>1</td>\n      <td>NaN</td>\n      <td>0.027523</td>\n    </tr>\n    <tr>\n      <th>11</th>\n      <td>12</td>\n      <td>South</td>\n      <td>250</td>\n      <td>1</td>\n      <td>NaN</td>\n      <td>0.275229</td>\n    </tr>\n    <tr>\n      <th>12</th>\n      <td>13</td>\n      <td>South</td>\n      <td>105</td>\n      <td>1</td>\n      <td>NaN</td>\n      <td>0.115596</td>\n    </tr>\n    <tr>\n      <th>13</th>\n      <td>14</td>\n      <td>South</td>\n      <td>75</td>\n      <td>1</td>\n      <td>NaN</td>\n      <td>0.082569</td>\n    </tr>\n    <tr>\n      <th>14</th>\n      <td>15</td>\n      <td>South</td>\n      <td>205</td>\n      <td>1</td>\n      <td>NaN</td>\n      <td>0.225688</td>\n    </tr>\n  </tbody>\n</table>\n</div>",
      "text/plain": "    cluster region  number_households_census  cluster_status  \\\n0         1  North                       105               1   \n1         2  North                        85               1   \n2         3  North                        95               1   \n3         4  North                        75               1   \n4         5  North                       120               1   \n5         6  North                        90               1   \n6         7  North                       130               1   \n7         8  North                        55               1   \n8         9  North                        30               1   \n9        10  North                       600               1   \n10       11  South                        25               1   \n11       12  South                       250               1   \n12       13  South                       105               1   \n13       14  South                        75               1   \n14       15  South                       205               1   \n\n                    comment  psu_prob  \n0                       NaN  0.151625  \n1                       NaN  0.122744  \n2                       NaN  0.137184  \n3                       NaN  0.108303  \n4                       NaN  0.173285  \n5                       NaN  0.129964  \n6                       NaN  0.187726  \n7                       NaN  0.079422  \n8                       NaN  0.043321  \n9   due to a large building  0.866426  \n10                      NaN  0.027523  \n11                      NaN  0.275229  \n12                      NaN  0.115596  \n13                      NaN  0.082569  \n14                      NaN  0.225688  "
     },
     "execution_count": 5,
     "metadata": {},
     "output_type": "execute_result"
    }
   ],
   "source": [
    "stage1_design = Sample(method=\"pps-sys\", stratification=True, with_replacement=False)\n",
    "\n",
    "psu_frame[\"psu_prob\"] = stage1_design.inclusion_probs(\n",
    "    psu_frame[\"cluster\"], \n",
    "    psu_sample_size, \n",
    "    psu_frame[\"region\"],\n",
    "    psu_frame[\"number_households_census\"],\n",
    "    )\n",
    "\n",
    "psu_frame.head(15)"
   ]
  },
  {
   "cell_type": "markdown",
   "execution_count": null,
   "metadata": {},
   "outputs": [],
   "source": [
    "### PSU Selection <a name=\"section12\"></a>\n",
    "\n",
    "In this subsection, we will select a sample of psus using pps method. Above, we have calculated the probability of selection. That step is not necessary when using *SAMPLICS*. As shown below, *select()* method returns three arrays. \n",
    "* The first array indicating the selected units (i.e. 1=selected and 0=not selected). \n",
    "* The second array provide the number of hits usefull when teh sample is selected with replacement. \n",
    "* The third array is the probability of selection. \n",
    "\n",
    "NB: *np.random.seed()* fixes the random seed to allow us to reproduce the random selection. "
   ]
  },
  {
   "cell_type": "code",
   "execution_count": 6,
   "metadata": {},
   "outputs": [
    {
     "data": {
      "text/html": "<div>\n<style scoped>\n    .dataframe tbody tr th:only-of-type {\n        vertical-align: middle;\n    }\n\n    .dataframe tbody tr th {\n        vertical-align: top;\n    }\n\n    .dataframe thead th {\n        text-align: right;\n    }\n</style>\n<table border=\"1\" class=\"dataframe\">\n  <thead>\n    <tr style=\"text-align: right;\">\n      <th></th>\n      <th>cluster</th>\n      <th>region</th>\n      <th>number_households_census</th>\n      <th>cluster_status</th>\n      <th>comment</th>\n      <th>psu_prob</th>\n      <th>psu_sample</th>\n      <th>psu_hits</th>\n      <th>psu_probs</th>\n    </tr>\n  </thead>\n  <tbody>\n    <tr>\n      <th>0</th>\n      <td>1</td>\n      <td>North</td>\n      <td>105</td>\n      <td>1</td>\n      <td>NaN</td>\n      <td>0.151625</td>\n      <td>0</td>\n      <td>0</td>\n      <td>0.151625</td>\n    </tr>\n    <tr>\n      <th>1</th>\n      <td>2</td>\n      <td>North</td>\n      <td>85</td>\n      <td>1</td>\n      <td>NaN</td>\n      <td>0.122744</td>\n      <td>0</td>\n      <td>0</td>\n      <td>0.122744</td>\n    </tr>\n    <tr>\n      <th>2</th>\n      <td>3</td>\n      <td>North</td>\n      <td>95</td>\n      <td>1</td>\n      <td>NaN</td>\n      <td>0.137184</td>\n      <td>0</td>\n      <td>0</td>\n      <td>0.137184</td>\n    </tr>\n    <tr>\n      <th>3</th>\n      <td>4</td>\n      <td>North</td>\n      <td>75</td>\n      <td>1</td>\n      <td>NaN</td>\n      <td>0.108303</td>\n      <td>0</td>\n      <td>0</td>\n      <td>0.108303</td>\n    </tr>\n    <tr>\n      <th>4</th>\n      <td>5</td>\n      <td>North</td>\n      <td>120</td>\n      <td>1</td>\n      <td>NaN</td>\n      <td>0.173285</td>\n      <td>0</td>\n      <td>0</td>\n      <td>0.173285</td>\n    </tr>\n    <tr>\n      <th>5</th>\n      <td>6</td>\n      <td>North</td>\n      <td>90</td>\n      <td>1</td>\n      <td>NaN</td>\n      <td>0.129964</td>\n      <td>0</td>\n      <td>0</td>\n      <td>0.129964</td>\n    </tr>\n    <tr>\n      <th>6</th>\n      <td>7</td>\n      <td>North</td>\n      <td>130</td>\n      <td>1</td>\n      <td>NaN</td>\n      <td>0.187726</td>\n      <td>1</td>\n      <td>1</td>\n      <td>0.187726</td>\n    </tr>\n    <tr>\n      <th>7</th>\n      <td>8</td>\n      <td>North</td>\n      <td>55</td>\n      <td>1</td>\n      <td>NaN</td>\n      <td>0.079422</td>\n      <td>0</td>\n      <td>0</td>\n      <td>0.079422</td>\n    </tr>\n    <tr>\n      <th>8</th>\n      <td>9</td>\n      <td>North</td>\n      <td>30</td>\n      <td>1</td>\n      <td>NaN</td>\n      <td>0.043321</td>\n      <td>0</td>\n      <td>0</td>\n      <td>0.043321</td>\n    </tr>\n    <tr>\n      <th>9</th>\n      <td>10</td>\n      <td>North</td>\n      <td>600</td>\n      <td>1</td>\n      <td>due to a large building</td>\n      <td>0.866426</td>\n      <td>1</td>\n      <td>1</td>\n      <td>0.866426</td>\n    </tr>\n    <tr>\n      <th>10</th>\n      <td>11</td>\n      <td>South</td>\n      <td>25</td>\n      <td>1</td>\n      <td>NaN</td>\n      <td>0.027523</td>\n      <td>0</td>\n      <td>0</td>\n      <td>0.027523</td>\n    </tr>\n    <tr>\n      <th>11</th>\n      <td>12</td>\n      <td>South</td>\n      <td>250</td>\n      <td>1</td>\n      <td>NaN</td>\n      <td>0.275229</td>\n      <td>0</td>\n      <td>0</td>\n      <td>0.275229</td>\n    </tr>\n    <tr>\n      <th>12</th>\n      <td>13</td>\n      <td>South</td>\n      <td>105</td>\n      <td>1</td>\n      <td>NaN</td>\n      <td>0.115596</td>\n      <td>0</td>\n      <td>0</td>\n      <td>0.115596</td>\n    </tr>\n    <tr>\n      <th>13</th>\n      <td>14</td>\n      <td>South</td>\n      <td>75</td>\n      <td>1</td>\n      <td>NaN</td>\n      <td>0.082569</td>\n      <td>0</td>\n      <td>0</td>\n      <td>0.082569</td>\n    </tr>\n    <tr>\n      <th>14</th>\n      <td>15</td>\n      <td>South</td>\n      <td>205</td>\n      <td>1</td>\n      <td>NaN</td>\n      <td>0.225688</td>\n      <td>0</td>\n      <td>0</td>\n      <td>0.225688</td>\n    </tr>\n  </tbody>\n</table>\n</div>",
      "text/plain": "    cluster region  number_households_census  cluster_status  \\\n0         1  North                       105               1   \n1         2  North                        85               1   \n2         3  North                        95               1   \n3         4  North                        75               1   \n4         5  North                       120               1   \n5         6  North                        90               1   \n6         7  North                       130               1   \n7         8  North                        55               1   \n8         9  North                        30               1   \n9        10  North                       600               1   \n10       11  South                        25               1   \n11       12  South                       250               1   \n12       13  South                       105               1   \n13       14  South                        75               1   \n14       15  South                       205               1   \n\n                    comment  psu_prob  psu_sample  psu_hits  psu_probs  \n0                       NaN  0.151625           0         0   0.151625  \n1                       NaN  0.122744           0         0   0.122744  \n2                       NaN  0.137184           0         0   0.137184  \n3                       NaN  0.108303           0         0   0.108303  \n4                       NaN  0.173285           0         0   0.173285  \n5                       NaN  0.129964           0         0   0.129964  \n6                       NaN  0.187726           1         1   0.187726  \n7                       NaN  0.079422           0         0   0.079422  \n8                       NaN  0.043321           0         0   0.043321  \n9   due to a large building  0.866426           1         1   0.866426  \n10                      NaN  0.027523           0         0   0.027523  \n11                      NaN  0.275229           0         0   0.275229  \n12                      NaN  0.115596           0         0   0.115596  \n13                      NaN  0.082569           0         0   0.082569  \n14                      NaN  0.225688           0         0   0.225688  "
     },
     "execution_count": 6,
     "metadata": {},
     "output_type": "execute_result"
    }
   ],
   "source": [
    "np.random.seed(23)\n",
    "\n",
    "psu_frame[\"psu_sample\"], psu_frame[\"psu_hits\"], psu_frame[\"psu_probs\"] = stage1_design.select(\n",
    "    psu_frame[\"cluster\"], \n",
    "    psu_sample_size, \n",
    "    psu_frame[\"region\"], \n",
    "    psu_frame[\"number_households_census\"]\n",
    "    )\n",
    "\n",
    "psu_frame.head(15)"
   ]
  },
  {
   "cell_type": "markdown",
   "execution_count": null,
   "metadata": {},
   "outputs": [],
   "source": [
    "The default setting (sample_only=False) returns the entire frame. We can easily reduce the output data to the sample by filtering i.e. psu_sample == 1. However, if we are only inetrested in the sample, we could use *sample_only=True* when calling *select()*. This will reduce the output data to the sampled units and will convert the data to a pandas dataframe (pd.DataFrame). Note that the columns in the dataframe will be reduced to the minimum."
   ]
  },
  {
   "cell_type": "code",
   "execution_count": 8,
   "metadata": {},
   "outputs": [
    {
     "data": {
      "text/html": "<div>\n<style scoped>\n    .dataframe tbody tr th:only-of-type {\n        vertical-align: middle;\n    }\n\n    .dataframe tbody tr th {\n        vertical-align: top;\n    }\n\n    .dataframe thead th {\n        text-align: right;\n    }\n</style>\n<table border=\"1\" class=\"dataframe\">\n  <thead>\n    <tr style=\"text-align: right;\">\n      <th></th>\n      <th>_samp_unit</th>\n      <th>_stratum</th>\n      <th>_mos</th>\n      <th>_sample</th>\n      <th>_hits</th>\n      <th>_probs</th>\n    </tr>\n  </thead>\n  <tbody>\n    <tr>\n      <th>6</th>\n      <td>7</td>\n      <td>North</td>\n      <td>130</td>\n      <td>1</td>\n      <td>1</td>\n      <td>0.187726</td>\n    </tr>\n    <tr>\n      <th>9</th>\n      <td>10</td>\n      <td>North</td>\n      <td>600</td>\n      <td>1</td>\n      <td>1</td>\n      <td>0.866426</td>\n    </tr>\n    <tr>\n      <th>15</th>\n      <td>16</td>\n      <td>South</td>\n      <td>190</td>\n      <td>1</td>\n      <td>1</td>\n      <td>0.209174</td>\n    </tr>\n    <tr>\n      <th>23</th>\n      <td>24</td>\n      <td>South</td>\n      <td>75</td>\n      <td>1</td>\n      <td>1</td>\n      <td>0.082569</td>\n    </tr>\n    <tr>\n      <th>28</th>\n      <td>29</td>\n      <td>South</td>\n      <td>200</td>\n      <td>1</td>\n      <td>1</td>\n      <td>0.220183</td>\n    </tr>\n    <tr>\n      <th>33</th>\n      <td>34</td>\n      <td>East</td>\n      <td>305</td>\n      <td>1</td>\n      <td>1</td>\n      <td>0.210587</td>\n    </tr>\n    <tr>\n      <th>44</th>\n      <td>45</td>\n      <td>East</td>\n      <td>450</td>\n      <td>1</td>\n      <td>1</td>\n      <td>0.310702</td>\n    </tr>\n    <tr>\n      <th>51</th>\n      <td>52</td>\n      <td>East</td>\n      <td>700</td>\n      <td>1</td>\n      <td>1</td>\n      <td>0.483314</td>\n    </tr>\n    <tr>\n      <th>63</th>\n      <td>64</td>\n      <td>West</td>\n      <td>300</td>\n      <td>1</td>\n      <td>1</td>\n      <td>0.091673</td>\n    </tr>\n    <tr>\n      <th>85</th>\n      <td>86</td>\n      <td>West</td>\n      <td>280</td>\n      <td>1</td>\n      <td>1</td>\n      <td>0.085561</td>\n    </tr>\n  </tbody>\n</table>\n</div>",
      "text/plain": "    _samp_unit _stratum  _mos  _sample  _hits    _probs\n6            7    North   130        1      1  0.187726\n9           10    North   600        1      1  0.866426\n15          16    South   190        1      1  0.209174\n23          24    South    75        1      1  0.082569\n28          29    South   200        1      1  0.220183\n33          34     East   305        1      1  0.210587\n44          45     East   450        1      1  0.310702\n51          52     East   700        1      1  0.483314\n63          64     West   300        1      1  0.091673\n85          86     West   280        1      1  0.085561"
     },
     "execution_count": 8,
     "metadata": {},
     "output_type": "execute_result"
    }
   ],
   "source": [
    "np.random.seed(23)\n",
    "\n",
    "psu_sample = stage1_design.select(\n",
    "    psu_frame[\"cluster\"], \n",
    "    psu_sample_size, \n",
    "    psu_frame[\"region\"], \n",
    "    psu_frame[\"number_households_census\"],\n",
    "    sample_only = True\n",
    "    )\n",
    "\n",
    "psu_sample"
   ]
  },
  {
   "cell_type": "markdown",
   "execution_count": null,
   "metadata": {},
   "outputs": [],
   "source": [
    "The systematic selection method can be implemented with or without replacement. Other available algorithms for selecting sample with unequal probablities of selection are Brewer, Hanurav-Vijayan, Murphy (only for sample size of 2), and sampford methods. All these sampling techniques can be specified as shown below then calling *select()* is similar. \n",
    "\n",
    "```python \n",
    "$ Sample(method=\"pps-sys\", with_replacement=True)\n",
    "$ Sample(method=\"pps-sys\", with_replacement=False)\n",
    "$ Sample(method=\"pps-brewer\", with_replacement=False)\n",
    "$ Sample(method=\"pps-hv\", with_replacement=False)\n",
    "$ Sample(method=\"pps-murphy\", with_replacement=False)\n",
    "$ Sample(method=\"pps-sampford\", with_replacement=False)\n",
    "```\n",
    "For example, if we wanted to select the sample using the sampford method, we could use the following code. "
   ]
  },
  {
   "cell_type": "code",
   "execution_count": 9,
   "metadata": {},
   "outputs": [
    {
     "data": {
      "text/html": "<div>\n<style scoped>\n    .dataframe tbody tr th:only-of-type {\n        vertical-align: middle;\n    }\n\n    .dataframe tbody tr th {\n        vertical-align: top;\n    }\n\n    .dataframe thead th {\n        text-align: right;\n    }\n</style>\n<table border=\"1\" class=\"dataframe\">\n  <thead>\n    <tr style=\"text-align: right;\">\n      <th></th>\n      <th>_samp_unit</th>\n      <th>_stratum</th>\n      <th>_mos</th>\n      <th>_sample</th>\n      <th>_hits</th>\n      <th>_probs</th>\n    </tr>\n  </thead>\n  <tbody>\n    <tr>\n      <th>2</th>\n      <td>3</td>\n      <td>North</td>\n      <td>95</td>\n      <td>1</td>\n      <td>1</td>\n      <td>0.137184</td>\n    </tr>\n    <tr>\n      <th>9</th>\n      <td>10</td>\n      <td>North</td>\n      <td>600</td>\n      <td>1</td>\n      <td>1</td>\n      <td>0.866426</td>\n    </tr>\n    <tr>\n      <th>10</th>\n      <td>11</td>\n      <td>South</td>\n      <td>25</td>\n      <td>1</td>\n      <td>1</td>\n      <td>0.027523</td>\n    </tr>\n    <tr>\n      <th>19</th>\n      <td>20</td>\n      <td>South</td>\n      <td>110</td>\n      <td>1</td>\n      <td>1</td>\n      <td>0.121101</td>\n    </tr>\n    <tr>\n      <th>24</th>\n      <td>25</td>\n      <td>South</td>\n      <td>95</td>\n      <td>1</td>\n      <td>1</td>\n      <td>0.104587</td>\n    </tr>\n    <tr>\n      <th>35</th>\n      <td>36</td>\n      <td>East</td>\n      <td>95</td>\n      <td>1</td>\n      <td>1</td>\n      <td>0.065593</td>\n    </tr>\n    <tr>\n      <th>37</th>\n      <td>38</td>\n      <td>East</td>\n      <td>80</td>\n      <td>1</td>\n      <td>1</td>\n      <td>0.055236</td>\n    </tr>\n    <tr>\n      <th>50</th>\n      <td>51</td>\n      <td>East</td>\n      <td>135</td>\n      <td>1</td>\n      <td>1</td>\n      <td>0.093211</td>\n    </tr>\n    <tr>\n      <th>93</th>\n      <td>94</td>\n      <td>West</td>\n      <td>60</td>\n      <td>1</td>\n      <td>1</td>\n      <td>0.018335</td>\n    </tr>\n    <tr>\n      <th>95</th>\n      <td>96</td>\n      <td>West</td>\n      <td>95</td>\n      <td>1</td>\n      <td>1</td>\n      <td>0.029030</td>\n    </tr>\n  </tbody>\n</table>\n</div>",
      "text/plain": "    _samp_unit _stratum  _mos  _sample  _hits    _probs\n2            3    North    95        1      1  0.137184\n9           10    North   600        1      1  0.866426\n10          11    South    25        1      1  0.027523\n19          20    South   110        1      1  0.121101\n24          25    South    95        1      1  0.104587\n35          36     East    95        1      1  0.065593\n37          38     East    80        1      1  0.055236\n50          51     East   135        1      1  0.093211\n93          94     West    60        1      1  0.018335\n95          96     West    95        1      1  0.029030"
     },
     "execution_count": 9,
     "metadata": {},
     "output_type": "execute_result"
    }
   ],
   "source": [
    "np.random.seed(23)\n",
    "\n",
    "stage1_sampford = Sample(method=\"pps-sampford\", stratification=True, with_replacement=False)\n",
    "\n",
    "psu_sample = stage1_sampford.select(\n",
    "    psu_frame[\"cluster\"], \n",
    "    psu_sample_size, \n",
    "    psu_frame[\"region\"], \n",
    "    psu_frame[\"number_households_census\"],\n",
    "    sample_only=True\n",
    "    )\n",
    "\n",
    "psu_sample.head(15)"
   ]
  },
  {
   "cell_type": "markdown",
   "execution_count": null,
   "metadata": {},
   "outputs": [],
   "source": [
    "## Sampling at Stage 2 - Selection of Secondary Sampling Unit (SSU) <a name=\"section2\"></a>"
   ]
  },
  {
   "cell_type": "markdown",
   "execution_count": null,
   "metadata": {},
   "outputs": [],
   "source": [
    "To select the second stage sample, we need the second stage frame that is the list of all the households in the 10 clusters (psus) selected above. DHS, PHIA, MICS and other large  scale surveys visit the selected clusters and construct the list of all households in the selected clusters. In this tutorial, we will simulate the second stage frame. \n",
    "\n",
    "Assume that the psu frame was obtained from the previous census conducted several years before. We also assume that, the change in the number of households since the previous census follows a normal distribution with a mean equal to 5% higher than the census value and a variance of 0.15 times the number of households from the census."
   ]
  },
  {
   "cell_type": "code",
   "execution_count": 10,
   "metadata": {},
   "outputs": [
    {
     "data": {
      "text/html": "<div>\n<style scoped>\n    .dataframe tbody tr th:only-of-type {\n        vertical-align: middle;\n    }\n\n    .dataframe tbody tr th {\n        vertical-align: top;\n    }\n\n    .dataframe thead th {\n        text-align: right;\n    }\n</style>\n<table border=\"1\" class=\"dataframe\">\n  <thead>\n    <tr style=\"text-align: right;\">\n      <th></th>\n      <th>cluster</th>\n      <th>region</th>\n      <th>household</th>\n    </tr>\n  </thead>\n  <tbody>\n    <tr>\n      <th>0</th>\n      <td>7</td>\n      <td>North</td>\n      <td>71</td>\n    </tr>\n    <tr>\n      <th>1</th>\n      <td>7</td>\n      <td>North</td>\n      <td>72</td>\n    </tr>\n    <tr>\n      <th>2</th>\n      <td>7</td>\n      <td>North</td>\n      <td>73</td>\n    </tr>\n    <tr>\n      <th>3</th>\n      <td>7</td>\n      <td>North</td>\n      <td>74</td>\n    </tr>\n    <tr>\n      <th>4</th>\n      <td>7</td>\n      <td>North</td>\n      <td>75</td>\n    </tr>\n    <tr>\n      <th>5</th>\n      <td>7</td>\n      <td>North</td>\n      <td>76</td>\n    </tr>\n    <tr>\n      <th>6</th>\n      <td>7</td>\n      <td>North</td>\n      <td>77</td>\n    </tr>\n    <tr>\n      <th>7</th>\n      <td>7</td>\n      <td>North</td>\n      <td>78</td>\n    </tr>\n    <tr>\n      <th>8</th>\n      <td>7</td>\n      <td>North</td>\n      <td>79</td>\n    </tr>\n    <tr>\n      <th>9</th>\n      <td>7</td>\n      <td>North</td>\n      <td>710</td>\n    </tr>\n    <tr>\n      <th>10</th>\n      <td>7</td>\n      <td>North</td>\n      <td>711</td>\n    </tr>\n    <tr>\n      <th>11</th>\n      <td>7</td>\n      <td>North</td>\n      <td>712</td>\n    </tr>\n    <tr>\n      <th>12</th>\n      <td>7</td>\n      <td>North</td>\n      <td>713</td>\n    </tr>\n    <tr>\n      <th>13</th>\n      <td>7</td>\n      <td>North</td>\n      <td>714</td>\n    </tr>\n    <tr>\n      <th>14</th>\n      <td>7</td>\n      <td>North</td>\n      <td>715</td>\n    </tr>\n  </tbody>\n</table>\n</div>",
      "text/plain": "    cluster region household\n0         7  North        71\n1         7  North        72\n2         7  North        73\n3         7  North        74\n4         7  North        75\n5         7  North        76\n6         7  North        77\n7         7  North        78\n8         7  North        79\n9         7  North       710\n10        7  North       711\n11        7  North       712\n12        7  North       713\n13        7  North       714\n14        7  North       715"
     },
     "execution_count": 10,
     "metadata": {},
     "output_type": "execute_result"
    }
   ],
   "source": [
    "# Create a synthetic second stage frame\n",
    "census_size = psu_frame.loc[psu_frame[\"psu_sample\"]==1, \"number_households_census\"].values\n",
    "stratum_names = psu_frame.loc[psu_frame[\"psu_sample\"]==1, \"region\"].values\n",
    "cluster = psu_frame.loc[psu_frame[\"psu_sample\"]==1, \"cluster\"].values\n",
    "\n",
    "np.random.seed(15)\n",
    "\n",
    "listing_size = np.zeros(census_size.size)\n",
    "for k in range(census_size.size):\n",
    "    listing_size[k] = np.random.normal(1.05*census_size[k], 0.15*census_size[k])\n",
    "    \n",
    "listing_size = listing_size.astype(int)\n",
    "hh_id = rr_id = cl_id = []\n",
    "for k, s in enumerate(listing_size):\n",
    "    hh_k1 = np.char.array(np.repeat(stratum_names[k], s)).astype(str)\n",
    "    hh_k2 = np.char.array(np.arange(1, s+1)).astype(str)\n",
    "    cl_k = np.repeat(cluster[k], s)\n",
    "    hh_k = np.char.add(np.char.array(cl_k).astype(str), hh_k2)\n",
    "    hh_id = np.append(hh_id, hh_k)\n",
    "    rr_id = np.append(rr_id, hh_k1)\n",
    "    cl_id = np.append(cl_id, cl_k)\n",
    "\n",
    "ssu_frame = pd.DataFrame(cl_id.astype(int))\n",
    "ssu_frame.rename(columns={0: \"cluster\"}, inplace=True)\n",
    "ssu_frame[\"region\"] = rr_id\n",
    "ssu_frame[\"household\"] = hh_id\n",
    "\n",
    "ssu_frame.head(15)"
   ]
  },
  {
   "cell_type": "code",
   "execution_count": 11,
   "metadata": {},
   "outputs": [
    {
     "ename": "KeyError",
     "evalue": "\"None of [Index(['cluster', 'region', 'number_households_census'], dtype='object')] are in the [columns]\"",
     "output_type": "error",
     "traceback": [
      "\u001b[0;31m---------------------------------------------------------------------------\u001b[0m",
      "\u001b[0;31mKeyError\u001b[0m                                  Traceback (most recent call last)",
      "\u001b[0;32m<ipython-input-11-2ae0781a50f0>\u001b[0m in \u001b[0;36m<module>\u001b[0;34m\u001b[0m\n\u001b[1;32m      5\u001b[0m \u001b[0;34m\u001b[0m\u001b[0m\n\u001b[1;32m      6\u001b[0m pd.merge(\n\u001b[0;32m----> 7\u001b[0;31m     \u001b[0mpsu_sample\u001b[0m\u001b[0;34m[\u001b[0m\u001b[0;34m[\u001b[0m\u001b[0;34m\"cluster\"\u001b[0m\u001b[0;34m,\u001b[0m \u001b[0;34m\"region\"\u001b[0m\u001b[0;34m,\u001b[0m \u001b[0;34m\"number_households_census\"\u001b[0m\u001b[0;34m]\u001b[0m\u001b[0;34m]\u001b[0m\u001b[0;34m,\u001b[0m\u001b[0;34m\u001b[0m\u001b[0;34m\u001b[0m\u001b[0m\n\u001b[0m\u001b[1;32m      8\u001b[0m     \u001b[0mssu_counts\u001b[0m\u001b[0;34m[\u001b[0m\u001b[0;34m[\u001b[0m\u001b[0;34m\"cluster\"\u001b[0m\u001b[0;34m,\u001b[0m \u001b[0;34m\"number_households_listed\"\u001b[0m\u001b[0;34m]\u001b[0m\u001b[0;34m]\u001b[0m\u001b[0;34m,\u001b[0m \u001b[0mon\u001b[0m\u001b[0;34m=\u001b[0m\u001b[0;34m[\u001b[0m\u001b[0;34m\"cluster\"\u001b[0m\u001b[0;34m]\u001b[0m\u001b[0;34m\u001b[0m\u001b[0;34m\u001b[0m\u001b[0m\n\u001b[1;32m      9\u001b[0m     )\n",
      "\u001b[0;32m~/Dev/survey-methods/samplics/.venv/lib/python3.7/site-packages/pandas/core/frame.py\u001b[0m in \u001b[0;36m__getitem__\u001b[0;34m(self, key)\u001b[0m\n\u001b[1;32m   2999\u001b[0m             \u001b[0;32mif\u001b[0m \u001b[0mis_iterator\u001b[0m\u001b[0;34m(\u001b[0m\u001b[0mkey\u001b[0m\u001b[0;34m)\u001b[0m\u001b[0;34m:\u001b[0m\u001b[0;34m\u001b[0m\u001b[0;34m\u001b[0m\u001b[0m\n\u001b[1;32m   3000\u001b[0m                 \u001b[0mkey\u001b[0m \u001b[0;34m=\u001b[0m \u001b[0mlist\u001b[0m\u001b[0;34m(\u001b[0m\u001b[0mkey\u001b[0m\u001b[0;34m)\u001b[0m\u001b[0;34m\u001b[0m\u001b[0;34m\u001b[0m\u001b[0m\n\u001b[0;32m-> 3001\u001b[0;31m             \u001b[0mindexer\u001b[0m \u001b[0;34m=\u001b[0m \u001b[0mself\u001b[0m\u001b[0;34m.\u001b[0m\u001b[0mloc\u001b[0m\u001b[0;34m.\u001b[0m\u001b[0m_convert_to_indexer\u001b[0m\u001b[0;34m(\u001b[0m\u001b[0mkey\u001b[0m\u001b[0;34m,\u001b[0m \u001b[0maxis\u001b[0m\u001b[0;34m=\u001b[0m\u001b[0;36m1\u001b[0m\u001b[0;34m,\u001b[0m \u001b[0mraise_missing\u001b[0m\u001b[0;34m=\u001b[0m\u001b[0;32mTrue\u001b[0m\u001b[0;34m)\u001b[0m\u001b[0;34m\u001b[0m\u001b[0;34m\u001b[0m\u001b[0m\n\u001b[0m\u001b[1;32m   3002\u001b[0m \u001b[0;34m\u001b[0m\u001b[0m\n\u001b[1;32m   3003\u001b[0m         \u001b[0;31m# take() does not accept boolean indexers\u001b[0m\u001b[0;34m\u001b[0m\u001b[0;34m\u001b[0m\u001b[0;34m\u001b[0m\u001b[0m\n",
      "\u001b[0;32m~/Dev/survey-methods/samplics/.venv/lib/python3.7/site-packages/pandas/core/indexing.py\u001b[0m in \u001b[0;36m_convert_to_indexer\u001b[0;34m(self, obj, axis, is_setter, raise_missing)\u001b[0m\n\u001b[1;32m   1283\u001b[0m                 \u001b[0;31m# When setting, missing keys are not allowed, even with .loc:\u001b[0m\u001b[0;34m\u001b[0m\u001b[0;34m\u001b[0m\u001b[0;34m\u001b[0m\u001b[0m\n\u001b[1;32m   1284\u001b[0m                 \u001b[0mkwargs\u001b[0m \u001b[0;34m=\u001b[0m \u001b[0;34m{\u001b[0m\u001b[0;34m\"raise_missing\"\u001b[0m\u001b[0;34m:\u001b[0m \u001b[0;32mTrue\u001b[0m \u001b[0;32mif\u001b[0m \u001b[0mis_setter\u001b[0m \u001b[0;32melse\u001b[0m \u001b[0mraise_missing\u001b[0m\u001b[0;34m}\u001b[0m\u001b[0;34m\u001b[0m\u001b[0;34m\u001b[0m\u001b[0m\n\u001b[0;32m-> 1285\u001b[0;31m                 \u001b[0;32mreturn\u001b[0m \u001b[0mself\u001b[0m\u001b[0;34m.\u001b[0m\u001b[0m_get_listlike_indexer\u001b[0m\u001b[0;34m(\u001b[0m\u001b[0mobj\u001b[0m\u001b[0;34m,\u001b[0m \u001b[0maxis\u001b[0m\u001b[0;34m,\u001b[0m \u001b[0;34m**\u001b[0m\u001b[0mkwargs\u001b[0m\u001b[0;34m)\u001b[0m\u001b[0;34m[\u001b[0m\u001b[0;36m1\u001b[0m\u001b[0;34m]\u001b[0m\u001b[0;34m\u001b[0m\u001b[0;34m\u001b[0m\u001b[0m\n\u001b[0m\u001b[1;32m   1286\u001b[0m         \u001b[0;32melse\u001b[0m\u001b[0;34m:\u001b[0m\u001b[0;34m\u001b[0m\u001b[0;34m\u001b[0m\u001b[0m\n\u001b[1;32m   1287\u001b[0m             \u001b[0;32mtry\u001b[0m\u001b[0;34m:\u001b[0m\u001b[0;34m\u001b[0m\u001b[0;34m\u001b[0m\u001b[0m\n",
      "\u001b[0;32m~/Dev/survey-methods/samplics/.venv/lib/python3.7/site-packages/pandas/core/indexing.py\u001b[0m in \u001b[0;36m_get_listlike_indexer\u001b[0;34m(self, key, axis, raise_missing)\u001b[0m\n\u001b[1;32m   1090\u001b[0m \u001b[0;34m\u001b[0m\u001b[0m\n\u001b[1;32m   1091\u001b[0m         self._validate_read_indexer(\n\u001b[0;32m-> 1092\u001b[0;31m             \u001b[0mkeyarr\u001b[0m\u001b[0;34m,\u001b[0m \u001b[0mindexer\u001b[0m\u001b[0;34m,\u001b[0m \u001b[0mo\u001b[0m\u001b[0;34m.\u001b[0m\u001b[0m_get_axis_number\u001b[0m\u001b[0;34m(\u001b[0m\u001b[0maxis\u001b[0m\u001b[0;34m)\u001b[0m\u001b[0;34m,\u001b[0m \u001b[0mraise_missing\u001b[0m\u001b[0;34m=\u001b[0m\u001b[0mraise_missing\u001b[0m\u001b[0;34m\u001b[0m\u001b[0;34m\u001b[0m\u001b[0m\n\u001b[0m\u001b[1;32m   1093\u001b[0m         )\n\u001b[1;32m   1094\u001b[0m         \u001b[0;32mreturn\u001b[0m \u001b[0mkeyarr\u001b[0m\u001b[0;34m,\u001b[0m \u001b[0mindexer\u001b[0m\u001b[0;34m\u001b[0m\u001b[0;34m\u001b[0m\u001b[0m\n",
      "\u001b[0;32m~/Dev/survey-methods/samplics/.venv/lib/python3.7/site-packages/pandas/core/indexing.py\u001b[0m in \u001b[0;36m_validate_read_indexer\u001b[0;34m(self, key, indexer, axis, raise_missing)\u001b[0m\n\u001b[1;32m   1175\u001b[0m                 raise KeyError(\n\u001b[1;32m   1176\u001b[0m                     \"None of [{key}] are in the [{axis}]\".format(\n\u001b[0;32m-> 1177\u001b[0;31m                         \u001b[0mkey\u001b[0m\u001b[0;34m=\u001b[0m\u001b[0mkey\u001b[0m\u001b[0;34m,\u001b[0m \u001b[0maxis\u001b[0m\u001b[0;34m=\u001b[0m\u001b[0mself\u001b[0m\u001b[0;34m.\u001b[0m\u001b[0mobj\u001b[0m\u001b[0;34m.\u001b[0m\u001b[0m_get_axis_name\u001b[0m\u001b[0;34m(\u001b[0m\u001b[0maxis\u001b[0m\u001b[0;34m)\u001b[0m\u001b[0;34m\u001b[0m\u001b[0;34m\u001b[0m\u001b[0m\n\u001b[0m\u001b[1;32m   1178\u001b[0m                     )\n\u001b[1;32m   1179\u001b[0m                 )\n",
      "\u001b[0;31mKeyError\u001b[0m: \"None of [Index(['cluster', 'region', 'number_households_census'], dtype='object')] are in the [columns]\""
     ]
    }
   ],
   "source": [
    "ssu_counts = ssu_frame.groupby(\"cluster\").count()\n",
    "ssu_counts.drop(columns=\"region\", inplace=True)\n",
    "ssu_counts.reset_index(inplace=True)\n",
    "ssu_counts.rename(columns={\"household\":\"number_households_listed\"}, inplace=True)\n",
    "\n",
    "pd.merge(\n",
    "    psu_sample[[\"cluster\", \"region\", \"number_households_census\"]], \n",
    "    ssu_counts[[\"cluster\", \"number_households_listed\"]], on=[\"cluster\"]\n",
    "    )"
   ]
  },
  {
   "cell_type": "markdown",
   "execution_count": null,
   "metadata": {},
   "outputs": [],
   "source": [
    "According to the simulated second stage frame, we get the same number of households in cluster 7 as the census. However, in strata 10, 16, 29, and 64, we listed more households than during than the census. And finally, we found less households in the remaining clusters than the census. \n",
    "\n",
    "Now that we have simulated a second stage frame, let's use *SAMPLICS* to calculate the inclusion probabilities and to select a sample. We assume that the second stage sample size is 150 households and the strategy is to select 15 households per cluster. "
   ]
  },
  {
   "cell_type": "markdown",
   "execution_count": null,
   "metadata": {},
   "outputs": [],
   "source": [
    "### SSU probability of selection <a name=\"section21\"></a>\n",
    "\n",
    "The second stage probability of selection are conditional on the first stage realization. For this stage, simple random selection (srs) and systematic selection(sys) are common methods used to select households. For this example, we use srs to select 15 households from each cluster. Considering all clusters, the second stage selection is a stratified srs where the clusters are the strata. More generally, we have that \\begin{equation} p_{hij} = \\frac{m_{hi}}{M_{hi}^{'}} \\end{equation} where $p_{hij}$ is the conditional probability of selection for unit $j$ from stratum $h$ and cluster $j$, $m_{hi}$ and $M_{hi}^{'}$ are the sample size and the number of secondary sampling units listed for stratum $h$ and cluster $j$, respectively.\n",
    "\n",
    "\n",
    "In this scenario, sample size is the same in each stratum. Hence, the parameter *sample_size* does not need to be a Python dictionnary; we will only provide 15 in the function call. "
   ]
  },
  {
   "cell_type": "code",
   "execution_count": null,
   "metadata": {},
   "outputs": [],
   "source": [
    "stage2_design = Sample(method=\"srs\", stratification=True, with_replacement=False)\n",
    "\n",
    "ssu_frame[\"ssu_prob\"] = stage2_design.inclusion_probs(\n",
    "    ssu_frame[\"household\"], 15, ssu_frame[\"cluster\"]\n",
    "    )\n",
    "\n",
    "ssu_frame.sample(20)"
   ]
  },
  {
   "cell_type": "markdown",
   "execution_count": null,
   "metadata": {},
   "outputs": [],
   "source": [
    "### SSU Selection <a name=\"section22\"></a>\n",
    "\n",
    "The second stage sample is selected from the SSU frame (*ssu_frame*) using the variable *cluster* as the stratification variable. The sample is selected without replacement according to the specification of the second stage design *stage2_design*. Hence, both *ssu_sample* and *ssu_hits* sum to 150 and each selected household was hit only ounce (i.e. *ssu_hits* = 1). \n",
    "\n",
    "```python\n",
    "$ ssu_frame[\"ssu_sample\"].sum()\n",
    ">>> 150\n",
    "$ ssu_frame[\"ssu_hits\"].sum()\n",
    ">>> 150\n",
    "```"
   ]
  },
  {
   "cell_type": "code",
   "execution_count": null,
   "metadata": {},
   "outputs": [],
   "source": [
    "np.random.seed(11)\n",
    "ssu_sample, ssu_hits, _ = stage2_design.select(ssu_frame[\"household\"], 15, ssu_frame[\"cluster\"])\n",
    "\n",
    "ssu_frame[\"ssu_sample\"] = ssu_sample\n",
    "ssu_frame[\"ssu_hits\"] = ssu_hits\n",
    "\n",
    "ssu_frame[ssu_frame[\"ssu_sample\"]==1].sample(15)"
   ]
  },
  {
   "cell_type": "markdown",
   "execution_count": null,
   "metadata": {},
   "outputs": [],
   "source": [
    "To use systematic selection, we just need to replace *method=\"srs\"* by *method=\"sys\"*. \n",
    "\n",
    "Another common approach is to use a rate for selecting the sample. Instead of selecting 15 households from 130 in the first cluster, we may want to select with a rate of 15/130, and similarly for the other clusters and get the following rates. "
   ]
  },
  {
   "cell_type": "code",
   "execution_count": null,
   "metadata": {},
   "outputs": [],
   "source": [
    "rates = np.repeat(15, 10) / ssu_counts[\"number_households_listed\"].values\n",
    "\n",
    "ssu_rates = dict(zip(np.unique(ssu_frame[\"cluster\"]), rates))\n",
    "\n",
    "ssu_rates"
   ]
  },
  {
   "cell_type": "markdown",
   "execution_count": null,
   "metadata": {},
   "outputs": [],
   "source": [
    "A sample is selected using the rates as follows:"
   ]
  },
  {
   "cell_type": "code",
   "execution_count": null,
   "metadata": {},
   "outputs": [],
   "source": [
    "np.random.seed(22)\n",
    "\n",
    "stage2_design2 = Sample(method=\"sys\", stratification=True, with_replacement=False)\n",
    "\n",
    "ssu_sample_r, ssu_hits_r, _ = stage2_design2.select(\n",
    "    ssu_frame[\"household\"], stratum=ssu_frame[\"cluster\"], samp_rate=ssu_rates\n",
    "    )\n",
    "\n",
    "ssu_sample2 = pd.DataFrame(\n",
    "    data={\n",
    "        \"household\":ssu_frame[\"household\"], \n",
    "        \"ssu_sample_r\":ssu_sample_r,\n",
    "        \"ssu_hits_r\":ssu_hits_r\n",
    "    })\n",
    "\n",
    "ssu_sample2.head(25)"
   ]
  },
  {
   "cell_type": "markdown",
   "execution_count": null,
   "metadata": {},
   "outputs": [],
   "source": [
    "Let's store the first and second stages samples. "
   ]
  },
  {
   "cell_type": "code",
   "execution_count": null,
   "metadata": {},
   "outputs": [],
   "source": [
    "psu_sample[[\"cluster\", \"region\", \"psu_prob\"]].to_csv(\"psu_sample.csv\")\n",
    "\n",
    "ssu_sample = ssu_frame.loc[ssu_frame[\"ssu_sample\"]==1]\n",
    "ssu_sample[[\"cluster\", \"household\", \"ssu_prob\"]].to_csv(\"ssu_sample.csv\")"
   ]
  },
  {
   "cell_type": "code",
   "execution_count": null,
   "metadata": {},
   "outputs": [],
   "source": [
    " "
   ]
  },
  {
   "cell_type": "code",
   "execution_count": null,
   "metadata": {},
   "outputs": [],
   "source": []
  }
 ],
 "metadata": {
  "kernelspec": {
   "display_name": "Python 3.7.4 64-bit ('.venv': venv)",
   "language": "python",
   "name": "python37464bitvenvvenv5c6ef32391d0424f8c980df2e3730c26"
  },
  "language_info": {
   "codemirror_mode": {
    "name": "ipython",
    "version": 3
   },
   "file_extension": ".py",
   "mimetype": "text/x-python",
   "name": "python",
   "nbconvert_exporter": "python",
   "pygments_lexer": "ipython3",
   "version": "3.7.4-final"
  }
 },
 "nbformat": 4,
 "nbformat_minor": 4
}