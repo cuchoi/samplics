{
 "cells": [
  {
   "cell_type": "markdown",
   "execution_count": null,
   "metadata": {},
   "outputs": [],
   "source": [
    "# 3. Sample Weighting"
   ]
  },
  {
   "cell_type": "markdown",
   "execution_count": null,
   "metadata": {},
   "outputs": [],
   "source": [
    "## Tables of Contents\n",
    "\n",
    "- [Objective](#section0)\n",
    "\n",
    "- [Design (base) Weight](#section1)\n",
    "\n",
    "- [Non-Response Adjustment](#section2)\n",
    "\n",
    "- [Post-Stratification](#section3)\n",
    "\n",
    "- [Normalization](#section4)"
   ]
  },
  {
   "cell_type": "markdown",
   "execution_count": null,
   "metadata": {},
   "outputs": [],
   "source": [
    "## Objective <a name=\"section0\"></a>"
   ]
  },
  {
   "cell_type": "markdown",
   "execution_count": null,
   "metadata": {},
   "outputs": [],
   "source": []
  },
  {
   "cell_type": "code",
   "execution_count": 1,
   "metadata": {},
   "outputs": [],
   "source": [
    "import numpy as np\n",
    "import pandas as pd\n",
    "\n",
    "import samplics as svm\n",
    "from samplics.weighting import SampleWeight"
   ]
  },
  {
   "cell_type": "markdown",
   "execution_count": null,
   "metadata": {},
   "outputs": [],
   "source": [
    "## Design (base) weight <a name=\"section1\"></a>\n",
    "\n",
    "The design weight is the inverse of the overall probability of selection which is the product of the first and second probability of selection. "
   ]
  },
  {
   "cell_type": "code",
   "execution_count": 2,
   "metadata": {},
   "outputs": [
    {
     "data": {
      "text/html": "<div>\n<style scoped>\n    .dataframe tbody tr th:only-of-type {\n        vertical-align: middle;\n    }\n\n    .dataframe tbody tr th {\n        vertical-align: top;\n    }\n\n    .dataframe thead th {\n        text-align: right;\n    }\n</style>\n<table border=\"1\" class=\"dataframe\">\n  <thead>\n    <tr style=\"text-align: right;\">\n      <th></th>\n      <th>cluster</th>\n      <th>region</th>\n      <th>psu_prob</th>\n      <th>household</th>\n      <th>ssu_prob</th>\n      <th>inclusion_prob</th>\n      <th>design_weight</th>\n    </tr>\n  </thead>\n  <tbody>\n    <tr>\n      <th>0</th>\n      <td>7</td>\n      <td>North</td>\n      <td>0.187726</td>\n      <td>72</td>\n      <td>0.115385</td>\n      <td>0.021661</td>\n      <td>46.166667</td>\n    </tr>\n    <tr>\n      <th>1</th>\n      <td>7</td>\n      <td>North</td>\n      <td>0.187726</td>\n      <td>73</td>\n      <td>0.115385</td>\n      <td>0.021661</td>\n      <td>46.166667</td>\n    </tr>\n    <tr>\n      <th>2</th>\n      <td>7</td>\n      <td>North</td>\n      <td>0.187726</td>\n      <td>75</td>\n      <td>0.115385</td>\n      <td>0.021661</td>\n      <td>46.166667</td>\n    </tr>\n    <tr>\n      <th>3</th>\n      <td>7</td>\n      <td>North</td>\n      <td>0.187726</td>\n      <td>715</td>\n      <td>0.115385</td>\n      <td>0.021661</td>\n      <td>46.166667</td>\n    </tr>\n    <tr>\n      <th>4</th>\n      <td>7</td>\n      <td>North</td>\n      <td>0.187726</td>\n      <td>722</td>\n      <td>0.115385</td>\n      <td>0.021661</td>\n      <td>46.166667</td>\n    </tr>\n    <tr>\n      <th>5</th>\n      <td>7</td>\n      <td>North</td>\n      <td>0.187726</td>\n      <td>724</td>\n      <td>0.115385</td>\n      <td>0.021661</td>\n      <td>46.166667</td>\n    </tr>\n    <tr>\n      <th>6</th>\n      <td>7</td>\n      <td>North</td>\n      <td>0.187726</td>\n      <td>755</td>\n      <td>0.115385</td>\n      <td>0.021661</td>\n      <td>46.166667</td>\n    </tr>\n    <tr>\n      <th>7</th>\n      <td>7</td>\n      <td>North</td>\n      <td>0.187726</td>\n      <td>761</td>\n      <td>0.115385</td>\n      <td>0.021661</td>\n      <td>46.166667</td>\n    </tr>\n    <tr>\n      <th>8</th>\n      <td>7</td>\n      <td>North</td>\n      <td>0.187726</td>\n      <td>764</td>\n      <td>0.115385</td>\n      <td>0.021661</td>\n      <td>46.166667</td>\n    </tr>\n    <tr>\n      <th>9</th>\n      <td>7</td>\n      <td>North</td>\n      <td>0.187726</td>\n      <td>782</td>\n      <td>0.115385</td>\n      <td>0.021661</td>\n      <td>46.166667</td>\n    </tr>\n    <tr>\n      <th>10</th>\n      <td>7</td>\n      <td>North</td>\n      <td>0.187726</td>\n      <td>795</td>\n      <td>0.115385</td>\n      <td>0.021661</td>\n      <td>46.166667</td>\n    </tr>\n    <tr>\n      <th>11</th>\n      <td>7</td>\n      <td>North</td>\n      <td>0.187726</td>\n      <td>7111</td>\n      <td>0.115385</td>\n      <td>0.021661</td>\n      <td>46.166667</td>\n    </tr>\n    <tr>\n      <th>12</th>\n      <td>7</td>\n      <td>North</td>\n      <td>0.187726</td>\n      <td>7112</td>\n      <td>0.115385</td>\n      <td>0.021661</td>\n      <td>46.166667</td>\n    </tr>\n    <tr>\n      <th>13</th>\n      <td>7</td>\n      <td>North</td>\n      <td>0.187726</td>\n      <td>7117</td>\n      <td>0.115385</td>\n      <td>0.021661</td>\n      <td>46.166667</td>\n    </tr>\n    <tr>\n      <th>14</th>\n      <td>7</td>\n      <td>North</td>\n      <td>0.187726</td>\n      <td>7123</td>\n      <td>0.115385</td>\n      <td>0.021661</td>\n      <td>46.166667</td>\n    </tr>\n    <tr>\n      <th>15</th>\n      <td>10</td>\n      <td>North</td>\n      <td>0.866426</td>\n      <td>1037</td>\n      <td>0.022727</td>\n      <td>0.019691</td>\n      <td>50.783333</td>\n    </tr>\n    <tr>\n      <th>16</th>\n      <td>10</td>\n      <td>North</td>\n      <td>0.866426</td>\n      <td>1056</td>\n      <td>0.022727</td>\n      <td>0.019691</td>\n      <td>50.783333</td>\n    </tr>\n    <tr>\n      <th>17</th>\n      <td>10</td>\n      <td>North</td>\n      <td>0.866426</td>\n      <td>1074</td>\n      <td>0.022727</td>\n      <td>0.019691</td>\n      <td>50.783333</td>\n    </tr>\n    <tr>\n      <th>18</th>\n      <td>10</td>\n      <td>North</td>\n      <td>0.866426</td>\n      <td>1078</td>\n      <td>0.022727</td>\n      <td>0.019691</td>\n      <td>50.783333</td>\n    </tr>\n    <tr>\n      <th>19</th>\n      <td>10</td>\n      <td>North</td>\n      <td>0.866426</td>\n      <td>10105</td>\n      <td>0.022727</td>\n      <td>0.019691</td>\n      <td>50.783333</td>\n    </tr>\n    <tr>\n      <th>20</th>\n      <td>10</td>\n      <td>North</td>\n      <td>0.866426</td>\n      <td>10209</td>\n      <td>0.022727</td>\n      <td>0.019691</td>\n      <td>50.783333</td>\n    </tr>\n    <tr>\n      <th>21</th>\n      <td>10</td>\n      <td>North</td>\n      <td>0.866426</td>\n      <td>10211</td>\n      <td>0.022727</td>\n      <td>0.019691</td>\n      <td>50.783333</td>\n    </tr>\n    <tr>\n      <th>22</th>\n      <td>10</td>\n      <td>North</td>\n      <td>0.866426</td>\n      <td>10228</td>\n      <td>0.022727</td>\n      <td>0.019691</td>\n      <td>50.783333</td>\n    </tr>\n    <tr>\n      <th>23</th>\n      <td>10</td>\n      <td>North</td>\n      <td>0.866426</td>\n      <td>10266</td>\n      <td>0.022727</td>\n      <td>0.019691</td>\n      <td>50.783333</td>\n    </tr>\n    <tr>\n      <th>24</th>\n      <td>10</td>\n      <td>North</td>\n      <td>0.866426</td>\n      <td>10317</td>\n      <td>0.022727</td>\n      <td>0.019691</td>\n      <td>50.783333</td>\n    </tr>\n  </tbody>\n</table>\n</div>",
      "text/plain": "    cluster region  psu_prob  household  ssu_prob  inclusion_prob  \\\n0         7  North  0.187726         72  0.115385        0.021661   \n1         7  North  0.187726         73  0.115385        0.021661   \n2         7  North  0.187726         75  0.115385        0.021661   \n3         7  North  0.187726        715  0.115385        0.021661   \n4         7  North  0.187726        722  0.115385        0.021661   \n5         7  North  0.187726        724  0.115385        0.021661   \n6         7  North  0.187726        755  0.115385        0.021661   \n7         7  North  0.187726        761  0.115385        0.021661   \n8         7  North  0.187726        764  0.115385        0.021661   \n9         7  North  0.187726        782  0.115385        0.021661   \n10        7  North  0.187726        795  0.115385        0.021661   \n11        7  North  0.187726       7111  0.115385        0.021661   \n12        7  North  0.187726       7112  0.115385        0.021661   \n13        7  North  0.187726       7117  0.115385        0.021661   \n14        7  North  0.187726       7123  0.115385        0.021661   \n15       10  North  0.866426       1037  0.022727        0.019691   \n16       10  North  0.866426       1056  0.022727        0.019691   \n17       10  North  0.866426       1074  0.022727        0.019691   \n18       10  North  0.866426       1078  0.022727        0.019691   \n19       10  North  0.866426      10105  0.022727        0.019691   \n20       10  North  0.866426      10209  0.022727        0.019691   \n21       10  North  0.866426      10211  0.022727        0.019691   \n22       10  North  0.866426      10228  0.022727        0.019691   \n23       10  North  0.866426      10266  0.022727        0.019691   \n24       10  North  0.866426      10317  0.022727        0.019691   \n\n    design_weight  \n0       46.166667  \n1       46.166667  \n2       46.166667  \n3       46.166667  \n4       46.166667  \n5       46.166667  \n6       46.166667  \n7       46.166667  \n8       46.166667  \n9       46.166667  \n10      46.166667  \n11      46.166667  \n12      46.166667  \n13      46.166667  \n14      46.166667  \n15      50.783333  \n16      50.783333  \n17      50.783333  \n18      50.783333  \n19      50.783333  \n20      50.783333  \n21      50.783333  \n22      50.783333  \n23      50.783333  \n24      50.783333  "
     },
     "execution_count": 2,
     "metadata": {},
     "output_type": "execute_result"
    }
   ],
   "source": [
    "psu_sample = pd.read_csv(\"psu_sample.csv\")\n",
    "ssu_sample = pd.read_csv(\"ssu_sample.csv\")\n",
    "\n",
    "full_sample = pd.merge(\n",
    "    psu_sample[[\"cluster\", \"region\", \"psu_prob\"]], \n",
    "    ssu_sample[[\"cluster\", \"household\", \"ssu_prob\"]], \n",
    "    on=\"cluster\")\n",
    "\n",
    "full_sample[\"inclusion_prob\"] = full_sample[\"psu_prob\"] * full_sample[\"ssu_prob\"] \n",
    "full_sample[\"design_weight\"] = 1 / full_sample[\"inclusion_prob\"] \n",
    "\n",
    "full_sample.head(25)"
   ]
  },
  {
   "cell_type": "markdown",
   "execution_count": null,
   "metadata": {},
   "outputs": [],
   "source": [
    "To illustrate the class *SampleWeight*, we will simulate non-response status. "
   ]
  },
  {
   "cell_type": "code",
   "execution_count": 3,
   "metadata": {},
   "outputs": [
    {
     "data": {
      "text/html": "<div>\n<style scoped>\n    .dataframe tbody tr th:only-of-type {\n        vertical-align: middle;\n    }\n\n    .dataframe tbody tr th {\n        vertical-align: top;\n    }\n\n    .dataframe thead th {\n        text-align: right;\n    }\n</style>\n<table border=\"1\" class=\"dataframe\">\n  <thead>\n    <tr style=\"text-align: right;\">\n      <th></th>\n      <th>cluster</th>\n      <th>region</th>\n      <th>design_weight</th>\n      <th>response_status</th>\n    </tr>\n  </thead>\n  <tbody>\n    <tr>\n      <th>0</th>\n      <td>7</td>\n      <td>North</td>\n      <td>46.166667</td>\n      <td>ineligible</td>\n    </tr>\n    <tr>\n      <th>1</th>\n      <td>7</td>\n      <td>North</td>\n      <td>46.166667</td>\n      <td>respondent</td>\n    </tr>\n    <tr>\n      <th>2</th>\n      <td>7</td>\n      <td>North</td>\n      <td>46.166667</td>\n      <td>respondent</td>\n    </tr>\n    <tr>\n      <th>3</th>\n      <td>7</td>\n      <td>North</td>\n      <td>46.166667</td>\n      <td>respondent</td>\n    </tr>\n    <tr>\n      <th>4</th>\n      <td>7</td>\n      <td>North</td>\n      <td>46.166667</td>\n      <td>unknown</td>\n    </tr>\n    <tr>\n      <th>5</th>\n      <td>7</td>\n      <td>North</td>\n      <td>46.166667</td>\n      <td>respondent</td>\n    </tr>\n    <tr>\n      <th>6</th>\n      <td>7</td>\n      <td>North</td>\n      <td>46.166667</td>\n      <td>respondent</td>\n    </tr>\n    <tr>\n      <th>7</th>\n      <td>7</td>\n      <td>North</td>\n      <td>46.166667</td>\n      <td>ineligible</td>\n    </tr>\n    <tr>\n      <th>8</th>\n      <td>7</td>\n      <td>North</td>\n      <td>46.166667</td>\n      <td>respondent</td>\n    </tr>\n    <tr>\n      <th>9</th>\n      <td>7</td>\n      <td>North</td>\n      <td>46.166667</td>\n      <td>respondent</td>\n    </tr>\n    <tr>\n      <th>10</th>\n      <td>7</td>\n      <td>North</td>\n      <td>46.166667</td>\n      <td>respondent</td>\n    </tr>\n    <tr>\n      <th>11</th>\n      <td>7</td>\n      <td>North</td>\n      <td>46.166667</td>\n      <td>non-respondent</td>\n    </tr>\n    <tr>\n      <th>12</th>\n      <td>7</td>\n      <td>North</td>\n      <td>46.166667</td>\n      <td>respondent</td>\n    </tr>\n    <tr>\n      <th>13</th>\n      <td>7</td>\n      <td>North</td>\n      <td>46.166667</td>\n      <td>ineligible</td>\n    </tr>\n    <tr>\n      <th>14</th>\n      <td>7</td>\n      <td>North</td>\n      <td>46.166667</td>\n      <td>respondent</td>\n    </tr>\n    <tr>\n      <th>15</th>\n      <td>10</td>\n      <td>North</td>\n      <td>50.783333</td>\n      <td>non-respondent</td>\n    </tr>\n    <tr>\n      <th>16</th>\n      <td>10</td>\n      <td>North</td>\n      <td>50.783333</td>\n      <td>respondent</td>\n    </tr>\n    <tr>\n      <th>17</th>\n      <td>10</td>\n      <td>North</td>\n      <td>50.783333</td>\n      <td>respondent</td>\n    </tr>\n    <tr>\n      <th>18</th>\n      <td>10</td>\n      <td>North</td>\n      <td>50.783333</td>\n      <td>non-respondent</td>\n    </tr>\n    <tr>\n      <th>19</th>\n      <td>10</td>\n      <td>North</td>\n      <td>50.783333</td>\n      <td>ineligible</td>\n    </tr>\n    <tr>\n      <th>20</th>\n      <td>10</td>\n      <td>North</td>\n      <td>50.783333</td>\n      <td>respondent</td>\n    </tr>\n    <tr>\n      <th>21</th>\n      <td>10</td>\n      <td>North</td>\n      <td>50.783333</td>\n      <td>unknown</td>\n    </tr>\n    <tr>\n      <th>22</th>\n      <td>10</td>\n      <td>North</td>\n      <td>50.783333</td>\n      <td>respondent</td>\n    </tr>\n    <tr>\n      <th>23</th>\n      <td>10</td>\n      <td>North</td>\n      <td>50.783333</td>\n      <td>respondent</td>\n    </tr>\n    <tr>\n      <th>24</th>\n      <td>10</td>\n      <td>North</td>\n      <td>50.783333</td>\n      <td>non-respondent</td>\n    </tr>\n  </tbody>\n</table>\n</div>",
      "text/plain": "    cluster region  design_weight response_status\n0         7  North      46.166667      ineligible\n1         7  North      46.166667      respondent\n2         7  North      46.166667      respondent\n3         7  North      46.166667      respondent\n4         7  North      46.166667         unknown\n5         7  North      46.166667      respondent\n6         7  North      46.166667      respondent\n7         7  North      46.166667      ineligible\n8         7  North      46.166667      respondent\n9         7  North      46.166667      respondent\n10        7  North      46.166667      respondent\n11        7  North      46.166667  non-respondent\n12        7  North      46.166667      respondent\n13        7  North      46.166667      ineligible\n14        7  North      46.166667      respondent\n15       10  North      50.783333  non-respondent\n16       10  North      50.783333      respondent\n17       10  North      50.783333      respondent\n18       10  North      50.783333  non-respondent\n19       10  North      50.783333      ineligible\n20       10  North      50.783333      respondent\n21       10  North      50.783333         unknown\n22       10  North      50.783333      respondent\n23       10  North      50.783333      respondent\n24       10  North      50.783333  non-respondent"
     },
     "execution_count": 3,
     "metadata": {},
     "output_type": "execute_result"
    }
   ],
   "source": [
    "np.random.seed(7)\n",
    "full_sample[\"response_status\"] = np.random.choice(\n",
    "    [\"ineligible\",\"respondent\", \"non-respondent\",\"unknown\"], \n",
    "    size=full_sample.shape[0], \n",
    "    p=(0.10, 0.70, 0.15, 0.05)\n",
    "    )\n",
    "\n",
    "full_sample[[\"cluster\", \"region\",\"design_weight\", \"response_status\"]].head(25)"
   ]
  },
  {
   "cell_type": "markdown",
   "execution_count": null,
   "metadata": {},
   "outputs": [],
   "source": [
    "## Non-Response Adjustment <a name=\"section2\"></a>"
   ]
  },
  {
   "cell_type": "code",
   "execution_count": 14,
   "metadata": {},
   "outputs": [
    {
     "data": {
      "text/html": "<div>\n<style scoped>\n    .dataframe tbody tr th:only-of-type {\n        vertical-align: middle;\n    }\n\n    .dataframe tbody tr th {\n        vertical-align: top;\n    }\n\n    .dataframe thead th {\n        text-align: right;\n    }\n</style>\n<table border=\"1\" class=\"dataframe\">\n  <thead>\n    <tr style=\"text-align: right;\">\n      <th></th>\n      <th>cluster</th>\n      <th>region</th>\n      <th>design_weight</th>\n      <th>response_status</th>\n      <th>nr_weight</th>\n    </tr>\n  </thead>\n  <tbody>\n    <tr>\n      <th>0</th>\n      <td>7</td>\n      <td>North</td>\n      <td>46.166667</td>\n      <td>ineligible</td>\n      <td>46.166667</td>\n    </tr>\n    <tr>\n      <th>1</th>\n      <td>7</td>\n      <td>North</td>\n      <td>46.166667</td>\n      <td>respondent</td>\n      <td>60.236508</td>\n    </tr>\n    <tr>\n      <th>2</th>\n      <td>7</td>\n      <td>North</td>\n      <td>46.166667</td>\n      <td>respondent</td>\n      <td>60.236508</td>\n    </tr>\n    <tr>\n      <th>3</th>\n      <td>7</td>\n      <td>North</td>\n      <td>46.166667</td>\n      <td>respondent</td>\n      <td>60.236508</td>\n    </tr>\n    <tr>\n      <th>4</th>\n      <td>7</td>\n      <td>North</td>\n      <td>46.166667</td>\n      <td>unknown</td>\n      <td>0.000000</td>\n    </tr>\n    <tr>\n      <th>5</th>\n      <td>7</td>\n      <td>North</td>\n      <td>46.166667</td>\n      <td>respondent</td>\n      <td>60.236508</td>\n    </tr>\n    <tr>\n      <th>6</th>\n      <td>7</td>\n      <td>North</td>\n      <td>46.166667</td>\n      <td>respondent</td>\n      <td>60.236508</td>\n    </tr>\n    <tr>\n      <th>7</th>\n      <td>7</td>\n      <td>North</td>\n      <td>46.166667</td>\n      <td>ineligible</td>\n      <td>46.166667</td>\n    </tr>\n    <tr>\n      <th>8</th>\n      <td>7</td>\n      <td>North</td>\n      <td>46.166667</td>\n      <td>respondent</td>\n      <td>60.236508</td>\n    </tr>\n    <tr>\n      <th>9</th>\n      <td>7</td>\n      <td>North</td>\n      <td>46.166667</td>\n      <td>respondent</td>\n      <td>60.236508</td>\n    </tr>\n    <tr>\n      <th>10</th>\n      <td>7</td>\n      <td>North</td>\n      <td>46.166667</td>\n      <td>respondent</td>\n      <td>60.236508</td>\n    </tr>\n    <tr>\n      <th>11</th>\n      <td>7</td>\n      <td>North</td>\n      <td>46.166667</td>\n      <td>non-respondent</td>\n      <td>0.000000</td>\n    </tr>\n    <tr>\n      <th>12</th>\n      <td>7</td>\n      <td>North</td>\n      <td>46.166667</td>\n      <td>respondent</td>\n      <td>60.236508</td>\n    </tr>\n    <tr>\n      <th>13</th>\n      <td>7</td>\n      <td>North</td>\n      <td>46.166667</td>\n      <td>ineligible</td>\n      <td>46.166667</td>\n    </tr>\n    <tr>\n      <th>14</th>\n      <td>7</td>\n      <td>North</td>\n      <td>46.166667</td>\n      <td>respondent</td>\n      <td>60.236508</td>\n    </tr>\n    <tr>\n      <th>15</th>\n      <td>10</td>\n      <td>North</td>\n      <td>50.783333</td>\n      <td>non-respondent</td>\n      <td>0.000000</td>\n    </tr>\n    <tr>\n      <th>16</th>\n      <td>10</td>\n      <td>North</td>\n      <td>50.783333</td>\n      <td>respondent</td>\n      <td>66.260159</td>\n    </tr>\n    <tr>\n      <th>17</th>\n      <td>10</td>\n      <td>North</td>\n      <td>50.783333</td>\n      <td>respondent</td>\n      <td>66.260159</td>\n    </tr>\n    <tr>\n      <th>18</th>\n      <td>10</td>\n      <td>North</td>\n      <td>50.783333</td>\n      <td>non-respondent</td>\n      <td>0.000000</td>\n    </tr>\n    <tr>\n      <th>19</th>\n      <td>10</td>\n      <td>North</td>\n      <td>50.783333</td>\n      <td>ineligible</td>\n      <td>50.783333</td>\n    </tr>\n    <tr>\n      <th>20</th>\n      <td>10</td>\n      <td>North</td>\n      <td>50.783333</td>\n      <td>respondent</td>\n      <td>66.260159</td>\n    </tr>\n    <tr>\n      <th>21</th>\n      <td>10</td>\n      <td>North</td>\n      <td>50.783333</td>\n      <td>unknown</td>\n      <td>0.000000</td>\n    </tr>\n    <tr>\n      <th>22</th>\n      <td>10</td>\n      <td>North</td>\n      <td>50.783333</td>\n      <td>respondent</td>\n      <td>66.260159</td>\n    </tr>\n    <tr>\n      <th>23</th>\n      <td>10</td>\n      <td>North</td>\n      <td>50.783333</td>\n      <td>respondent</td>\n      <td>66.260159</td>\n    </tr>\n    <tr>\n      <th>24</th>\n      <td>10</td>\n      <td>North</td>\n      <td>50.783333</td>\n      <td>non-respondent</td>\n      <td>0.000000</td>\n    </tr>\n  </tbody>\n</table>\n</div>",
      "text/plain": "    cluster region  design_weight response_status  nr_weight\n0         7  North      46.166667      ineligible  46.166667\n1         7  North      46.166667      respondent  60.236508\n2         7  North      46.166667      respondent  60.236508\n3         7  North      46.166667      respondent  60.236508\n4         7  North      46.166667         unknown   0.000000\n5         7  North      46.166667      respondent  60.236508\n6         7  North      46.166667      respondent  60.236508\n7         7  North      46.166667      ineligible  46.166667\n8         7  North      46.166667      respondent  60.236508\n9         7  North      46.166667      respondent  60.236508\n10        7  North      46.166667      respondent  60.236508\n11        7  North      46.166667  non-respondent   0.000000\n12        7  North      46.166667      respondent  60.236508\n13        7  North      46.166667      ineligible  46.166667\n14        7  North      46.166667      respondent  60.236508\n15       10  North      50.783333  non-respondent   0.000000\n16       10  North      50.783333      respondent  66.260159\n17       10  North      50.783333      respondent  66.260159\n18       10  North      50.783333  non-respondent   0.000000\n19       10  North      50.783333      ineligible  50.783333\n20       10  North      50.783333      respondent  66.260159\n21       10  North      50.783333         unknown   0.000000\n22       10  North      50.783333      respondent  66.260159\n23       10  North      50.783333      respondent  66.260159\n24       10  North      50.783333  non-respondent   0.000000"
     },
     "execution_count": 14,
     "metadata": {},
     "output_type": "execute_result"
    }
   ],
   "source": [
    "status_mapping = {\n",
    "    \"in\": \"ineligible\", \"rr\": \"respondent\", \"nr\": \"non-respondent\", \"uk\":\"unknown\"\n",
    "    }\n",
    "\n",
    "full_sample[\"nr_weight\"] = SampleWeight().adjust(\n",
    "    samp_weight=full_sample[\"design_weight\"], \n",
    "    adjust_class=full_sample[\"region\"], \n",
    "    resp_status=full_sample[\"response_status\"], \n",
    "    resp_dict=status_mapping\n",
    "    )\n",
    "\n",
    "full_sample[[\"cluster\", \"region\",\"design_weight\", \"response_status\", \"nr_weight\"]].head(25)"
   ]
  },
  {
   "cell_type": "markdown",
   "execution_count": null,
   "metadata": {},
   "outputs": [],
   "source": [
    "**Important.** The default call of *adjust()* expects standard codes for response status that is \"in\", \"rr\", \"nr\", and \"uk\" where \"in\" means ineligible, \"rr\" means respondent, \"nr\" means non-respondent, and \"uk\" means unknown eligibility.\n",
    "\n",
    "If we called *adjust()* without the parameter *response_dict*, the run would fail with an assertion error.  The current error message is the following: *The response status must only contains values in ('in', 'rr', 'nr', 'uk') or the mapping should be provided using response_dict parameter*. For the call to run without using *response_dict* it is necessary that the response status takes only codes \"in\", \"rr\", \"nr\", or \"uk\". The variable associated with *response_status* can contain any code but a mapping is necessary when the response variable is not constructed using the standard codes.\n",
    "\n",
    "To further illustrate the mapping of response status, let's assume that we have response_status2 which has the values 100 for ineligible, 200 for non-respondent, 300 for respondent, and 999 for unknown. "
   ]
  },
  {
   "cell_type": "code",
   "execution_count": 15,
   "metadata": {},
   "outputs": [
    {
     "data": {
      "text/html": "<div>\n<style scoped>\n    .dataframe tbody tr th:only-of-type {\n        vertical-align: middle;\n    }\n\n    .dataframe tbody tr th {\n        vertical-align: top;\n    }\n\n    .dataframe thead th {\n        text-align: right;\n    }\n</style>\n<table border=\"1\" class=\"dataframe\">\n  <thead>\n    <tr style=\"text-align: right;\">\n      <th>response_status</th>\n      <th>ineligible</th>\n      <th>non-respondent</th>\n      <th>respondent</th>\n      <th>unknown</th>\n    </tr>\n    <tr>\n      <th>row_0</th>\n      <th></th>\n      <th></th>\n      <th></th>\n      <th></th>\n    </tr>\n  </thead>\n  <tbody>\n    <tr>\n      <th>100</th>\n      <td>16</td>\n      <td>0</td>\n      <td>0</td>\n      <td>0</td>\n    </tr>\n    <tr>\n      <th>200</th>\n      <td>0</td>\n      <td>23</td>\n      <td>0</td>\n      <td>0</td>\n    </tr>\n    <tr>\n      <th>300</th>\n      <td>0</td>\n      <td>0</td>\n      <td>106</td>\n      <td>0</td>\n    </tr>\n    <tr>\n      <th>999</th>\n      <td>0</td>\n      <td>0</td>\n      <td>0</td>\n      <td>5</td>\n    </tr>\n  </tbody>\n</table>\n</div>",
      "text/plain": "response_status  ineligible  non-respondent  respondent  unknown\nrow_0                                                           \n100                      16               0           0        0\n200                       0              23           0        0\n300                       0               0         106        0\n999                       0               0           0        5"
     },
     "execution_count": 15,
     "metadata": {},
     "output_type": "execute_result"
    }
   ],
   "source": [
    "response_status2 = np.repeat(100, full_sample[\"response_status\"].shape[0])\n",
    "response_status2[full_sample[\"response_status\"]==\"non-respondent\"] = 200\n",
    "response_status2[full_sample[\"response_status\"]==\"respondent\"] = 300\n",
    "response_status2[full_sample[\"response_status\"]==\"unknown\"] = 999\n",
    "\n",
    "pd.crosstab(response_status2, full_sample[\"response_status\"])"
   ]
  },
  {
   "cell_type": "markdown",
   "execution_count": null,
   "metadata": {},
   "outputs": [],
   "source": [
    "To use *response_status2*, we need to map the values 100, 200, 300 and 999 to \"in\", \"rr\", \"nr\", and \"uk\". This mapping is done below through the python dictionnary *status_mapping2*. Using *status_mapping2* in the function call *adjust()* will to the same adjustment as in the previous run i.e. *nr_weight* and *nr_weight2* contain the same adjsuted weight. "
   ]
  },
  {
   "cell_type": "code",
   "execution_count": 17,
   "metadata": {},
   "outputs": [
    {
     "data": {
      "text/html": "<div>\n<style scoped>\n    .dataframe tbody tr th:only-of-type {\n        vertical-align: middle;\n    }\n\n    .dataframe tbody tr th {\n        vertical-align: top;\n    }\n\n    .dataframe thead th {\n        text-align: right;\n    }\n</style>\n<table border=\"1\" class=\"dataframe\">\n  <thead>\n    <tr style=\"text-align: right;\">\n      <th></th>\n      <th>cluster</th>\n      <th>region</th>\n      <th>design_weight</th>\n      <th>response_status</th>\n      <th>nr_weight</th>\n      <th>nr_weight2</th>\n    </tr>\n  </thead>\n  <tbody>\n    <tr>\n      <th>0</th>\n      <td>7</td>\n      <td>North</td>\n      <td>46.166667</td>\n      <td>ineligible</td>\n      <td>46.166667</td>\n      <td>46.166667</td>\n    </tr>\n    <tr>\n      <th>1</th>\n      <td>7</td>\n      <td>North</td>\n      <td>46.166667</td>\n      <td>respondent</td>\n      <td>60.236508</td>\n      <td>60.236508</td>\n    </tr>\n    <tr>\n      <th>2</th>\n      <td>7</td>\n      <td>North</td>\n      <td>46.166667</td>\n      <td>respondent</td>\n      <td>60.236508</td>\n      <td>60.236508</td>\n    </tr>\n    <tr>\n      <th>3</th>\n      <td>7</td>\n      <td>North</td>\n      <td>46.166667</td>\n      <td>respondent</td>\n      <td>60.236508</td>\n      <td>60.236508</td>\n    </tr>\n    <tr>\n      <th>4</th>\n      <td>7</td>\n      <td>North</td>\n      <td>46.166667</td>\n      <td>unknown</td>\n      <td>0.000000</td>\n      <td>0.000000</td>\n    </tr>\n    <tr>\n      <th>5</th>\n      <td>7</td>\n      <td>North</td>\n      <td>46.166667</td>\n      <td>respondent</td>\n      <td>60.236508</td>\n      <td>60.236508</td>\n    </tr>\n    <tr>\n      <th>6</th>\n      <td>7</td>\n      <td>North</td>\n      <td>46.166667</td>\n      <td>respondent</td>\n      <td>60.236508</td>\n      <td>60.236508</td>\n    </tr>\n    <tr>\n      <th>7</th>\n      <td>7</td>\n      <td>North</td>\n      <td>46.166667</td>\n      <td>ineligible</td>\n      <td>46.166667</td>\n      <td>46.166667</td>\n    </tr>\n    <tr>\n      <th>8</th>\n      <td>7</td>\n      <td>North</td>\n      <td>46.166667</td>\n      <td>respondent</td>\n      <td>60.236508</td>\n      <td>60.236508</td>\n    </tr>\n    <tr>\n      <th>9</th>\n      <td>7</td>\n      <td>North</td>\n      <td>46.166667</td>\n      <td>respondent</td>\n      <td>60.236508</td>\n      <td>60.236508</td>\n    </tr>\n    <tr>\n      <th>10</th>\n      <td>7</td>\n      <td>North</td>\n      <td>46.166667</td>\n      <td>respondent</td>\n      <td>60.236508</td>\n      <td>60.236508</td>\n    </tr>\n    <tr>\n      <th>11</th>\n      <td>7</td>\n      <td>North</td>\n      <td>46.166667</td>\n      <td>non-respondent</td>\n      <td>0.000000</td>\n      <td>0.000000</td>\n    </tr>\n    <tr>\n      <th>12</th>\n      <td>7</td>\n      <td>North</td>\n      <td>46.166667</td>\n      <td>respondent</td>\n      <td>60.236508</td>\n      <td>60.236508</td>\n    </tr>\n    <tr>\n      <th>13</th>\n      <td>7</td>\n      <td>North</td>\n      <td>46.166667</td>\n      <td>ineligible</td>\n      <td>46.166667</td>\n      <td>46.166667</td>\n    </tr>\n    <tr>\n      <th>14</th>\n      <td>7</td>\n      <td>North</td>\n      <td>46.166667</td>\n      <td>respondent</td>\n      <td>60.236508</td>\n      <td>60.236508</td>\n    </tr>\n    <tr>\n      <th>15</th>\n      <td>10</td>\n      <td>North</td>\n      <td>50.783333</td>\n      <td>non-respondent</td>\n      <td>0.000000</td>\n      <td>0.000000</td>\n    </tr>\n    <tr>\n      <th>16</th>\n      <td>10</td>\n      <td>North</td>\n      <td>50.783333</td>\n      <td>respondent</td>\n      <td>66.260159</td>\n      <td>66.260159</td>\n    </tr>\n    <tr>\n      <th>17</th>\n      <td>10</td>\n      <td>North</td>\n      <td>50.783333</td>\n      <td>respondent</td>\n      <td>66.260159</td>\n      <td>66.260159</td>\n    </tr>\n    <tr>\n      <th>18</th>\n      <td>10</td>\n      <td>North</td>\n      <td>50.783333</td>\n      <td>non-respondent</td>\n      <td>0.000000</td>\n      <td>0.000000</td>\n    </tr>\n    <tr>\n      <th>19</th>\n      <td>10</td>\n      <td>North</td>\n      <td>50.783333</td>\n      <td>ineligible</td>\n      <td>50.783333</td>\n      <td>50.783333</td>\n    </tr>\n    <tr>\n      <th>20</th>\n      <td>10</td>\n      <td>North</td>\n      <td>50.783333</td>\n      <td>respondent</td>\n      <td>66.260159</td>\n      <td>66.260159</td>\n    </tr>\n    <tr>\n      <th>21</th>\n      <td>10</td>\n      <td>North</td>\n      <td>50.783333</td>\n      <td>unknown</td>\n      <td>0.000000</td>\n      <td>0.000000</td>\n    </tr>\n    <tr>\n      <th>22</th>\n      <td>10</td>\n      <td>North</td>\n      <td>50.783333</td>\n      <td>respondent</td>\n      <td>66.260159</td>\n      <td>66.260159</td>\n    </tr>\n    <tr>\n      <th>23</th>\n      <td>10</td>\n      <td>North</td>\n      <td>50.783333</td>\n      <td>respondent</td>\n      <td>66.260159</td>\n      <td>66.260159</td>\n    </tr>\n    <tr>\n      <th>24</th>\n      <td>10</td>\n      <td>North</td>\n      <td>50.783333</td>\n      <td>non-respondent</td>\n      <td>0.000000</td>\n      <td>0.000000</td>\n    </tr>\n  </tbody>\n</table>\n</div>",
      "text/plain": "    cluster region  design_weight response_status  nr_weight  nr_weight2\n0         7  North      46.166667      ineligible  46.166667   46.166667\n1         7  North      46.166667      respondent  60.236508   60.236508\n2         7  North      46.166667      respondent  60.236508   60.236508\n3         7  North      46.166667      respondent  60.236508   60.236508\n4         7  North      46.166667         unknown   0.000000    0.000000\n5         7  North      46.166667      respondent  60.236508   60.236508\n6         7  North      46.166667      respondent  60.236508   60.236508\n7         7  North      46.166667      ineligible  46.166667   46.166667\n8         7  North      46.166667      respondent  60.236508   60.236508\n9         7  North      46.166667      respondent  60.236508   60.236508\n10        7  North      46.166667      respondent  60.236508   60.236508\n11        7  North      46.166667  non-respondent   0.000000    0.000000\n12        7  North      46.166667      respondent  60.236508   60.236508\n13        7  North      46.166667      ineligible  46.166667   46.166667\n14        7  North      46.166667      respondent  60.236508   60.236508\n15       10  North      50.783333  non-respondent   0.000000    0.000000\n16       10  North      50.783333      respondent  66.260159   66.260159\n17       10  North      50.783333      respondent  66.260159   66.260159\n18       10  North      50.783333  non-respondent   0.000000    0.000000\n19       10  North      50.783333      ineligible  50.783333   50.783333\n20       10  North      50.783333      respondent  66.260159   66.260159\n21       10  North      50.783333         unknown   0.000000    0.000000\n22       10  North      50.783333      respondent  66.260159   66.260159\n23       10  North      50.783333      respondent  66.260159   66.260159\n24       10  North      50.783333  non-respondent   0.000000    0.000000"
     },
     "execution_count": 17,
     "metadata": {},
     "output_type": "execute_result"
    }
   ],
   "source": [
    "status_mapping2 = {\"in\": 100, \"nr\": 200, \"rr\": 300, \"uk\": 999}\n",
    "\n",
    "full_sample[\"nr_weight2\"] = SampleWeight().adjust(\n",
    "    samp_weight=full_sample[\"design_weight\"], \n",
    "    adjust_class=full_sample[\"region\"], \n",
    "    resp_status=response_status2, \n",
    "    resp_dict=status_mapping2\n",
    "    )\n",
    "\n",
    "full_sample[[\"cluster\", \"region\",\"design_weight\", \"response_status\", \"nr_weight\", \"nr_weight2\"]].head(25)"
   ]
  },
  {
   "cell_type": "markdown",
   "execution_count": null,
   "metadata": {},
   "outputs": [],
   "source": [
    "If the response status variable only takes values \"in\", \"nr\", \"rr\" and \"uk\" then it is not necessary to provide the mapping dictionary to the function. "
   ]
  },
  {
   "cell_type": "code",
   "execution_count": 18,
   "metadata": {},
   "outputs": [
    {
     "data": {
      "text/html": "<div>\n<style scoped>\n    .dataframe tbody tr th:only-of-type {\n        vertical-align: middle;\n    }\n\n    .dataframe tbody tr th {\n        vertical-align: top;\n    }\n\n    .dataframe thead th {\n        text-align: right;\n    }\n</style>\n<table border=\"1\" class=\"dataframe\">\n  <thead>\n    <tr style=\"text-align: right;\">\n      <th></th>\n      <th>cluster</th>\n      <th>region</th>\n      <th>design_weight</th>\n      <th>response_status</th>\n      <th>nr_weight</th>\n      <th>nr_weight2</th>\n      <th>nr_weight3</th>\n    </tr>\n  </thead>\n  <tbody>\n    <tr>\n      <th>0</th>\n      <td>7</td>\n      <td>North</td>\n      <td>46.166667</td>\n      <td>ineligible</td>\n      <td>46.166667</td>\n      <td>46.166667</td>\n      <td>46.166667</td>\n    </tr>\n    <tr>\n      <th>1</th>\n      <td>7</td>\n      <td>North</td>\n      <td>46.166667</td>\n      <td>respondent</td>\n      <td>60.236508</td>\n      <td>60.236508</td>\n      <td>60.236508</td>\n    </tr>\n    <tr>\n      <th>2</th>\n      <td>7</td>\n      <td>North</td>\n      <td>46.166667</td>\n      <td>respondent</td>\n      <td>60.236508</td>\n      <td>60.236508</td>\n      <td>60.236508</td>\n    </tr>\n    <tr>\n      <th>3</th>\n      <td>7</td>\n      <td>North</td>\n      <td>46.166667</td>\n      <td>respondent</td>\n      <td>60.236508</td>\n      <td>60.236508</td>\n      <td>60.236508</td>\n    </tr>\n    <tr>\n      <th>4</th>\n      <td>7</td>\n      <td>North</td>\n      <td>46.166667</td>\n      <td>unknown</td>\n      <td>0.000000</td>\n      <td>0.000000</td>\n      <td>0.000000</td>\n    </tr>\n    <tr>\n      <th>5</th>\n      <td>7</td>\n      <td>North</td>\n      <td>46.166667</td>\n      <td>respondent</td>\n      <td>60.236508</td>\n      <td>60.236508</td>\n      <td>60.236508</td>\n    </tr>\n    <tr>\n      <th>6</th>\n      <td>7</td>\n      <td>North</td>\n      <td>46.166667</td>\n      <td>respondent</td>\n      <td>60.236508</td>\n      <td>60.236508</td>\n      <td>60.236508</td>\n    </tr>\n    <tr>\n      <th>7</th>\n      <td>7</td>\n      <td>North</td>\n      <td>46.166667</td>\n      <td>ineligible</td>\n      <td>46.166667</td>\n      <td>46.166667</td>\n      <td>46.166667</td>\n    </tr>\n    <tr>\n      <th>8</th>\n      <td>7</td>\n      <td>North</td>\n      <td>46.166667</td>\n      <td>respondent</td>\n      <td>60.236508</td>\n      <td>60.236508</td>\n      <td>60.236508</td>\n    </tr>\n    <tr>\n      <th>9</th>\n      <td>7</td>\n      <td>North</td>\n      <td>46.166667</td>\n      <td>respondent</td>\n      <td>60.236508</td>\n      <td>60.236508</td>\n      <td>60.236508</td>\n    </tr>\n    <tr>\n      <th>10</th>\n      <td>7</td>\n      <td>North</td>\n      <td>46.166667</td>\n      <td>respondent</td>\n      <td>60.236508</td>\n      <td>60.236508</td>\n      <td>60.236508</td>\n    </tr>\n    <tr>\n      <th>11</th>\n      <td>7</td>\n      <td>North</td>\n      <td>46.166667</td>\n      <td>non-respondent</td>\n      <td>0.000000</td>\n      <td>0.000000</td>\n      <td>0.000000</td>\n    </tr>\n    <tr>\n      <th>12</th>\n      <td>7</td>\n      <td>North</td>\n      <td>46.166667</td>\n      <td>respondent</td>\n      <td>60.236508</td>\n      <td>60.236508</td>\n      <td>60.236508</td>\n    </tr>\n    <tr>\n      <th>13</th>\n      <td>7</td>\n      <td>North</td>\n      <td>46.166667</td>\n      <td>ineligible</td>\n      <td>46.166667</td>\n      <td>46.166667</td>\n      <td>46.166667</td>\n    </tr>\n    <tr>\n      <th>14</th>\n      <td>7</td>\n      <td>North</td>\n      <td>46.166667</td>\n      <td>respondent</td>\n      <td>60.236508</td>\n      <td>60.236508</td>\n      <td>60.236508</td>\n    </tr>\n    <tr>\n      <th>15</th>\n      <td>10</td>\n      <td>North</td>\n      <td>50.783333</td>\n      <td>non-respondent</td>\n      <td>0.000000</td>\n      <td>0.000000</td>\n      <td>0.000000</td>\n    </tr>\n    <tr>\n      <th>16</th>\n      <td>10</td>\n      <td>North</td>\n      <td>50.783333</td>\n      <td>respondent</td>\n      <td>66.260159</td>\n      <td>66.260159</td>\n      <td>66.260159</td>\n    </tr>\n    <tr>\n      <th>17</th>\n      <td>10</td>\n      <td>North</td>\n      <td>50.783333</td>\n      <td>respondent</td>\n      <td>66.260159</td>\n      <td>66.260159</td>\n      <td>66.260159</td>\n    </tr>\n    <tr>\n      <th>18</th>\n      <td>10</td>\n      <td>North</td>\n      <td>50.783333</td>\n      <td>non-respondent</td>\n      <td>0.000000</td>\n      <td>0.000000</td>\n      <td>0.000000</td>\n    </tr>\n    <tr>\n      <th>19</th>\n      <td>10</td>\n      <td>North</td>\n      <td>50.783333</td>\n      <td>ineligible</td>\n      <td>50.783333</td>\n      <td>50.783333</td>\n      <td>50.783333</td>\n    </tr>\n    <tr>\n      <th>20</th>\n      <td>10</td>\n      <td>North</td>\n      <td>50.783333</td>\n      <td>respondent</td>\n      <td>66.260159</td>\n      <td>66.260159</td>\n      <td>66.260159</td>\n    </tr>\n    <tr>\n      <th>21</th>\n      <td>10</td>\n      <td>North</td>\n      <td>50.783333</td>\n      <td>unknown</td>\n      <td>0.000000</td>\n      <td>0.000000</td>\n      <td>0.000000</td>\n    </tr>\n    <tr>\n      <th>22</th>\n      <td>10</td>\n      <td>North</td>\n      <td>50.783333</td>\n      <td>respondent</td>\n      <td>66.260159</td>\n      <td>66.260159</td>\n      <td>66.260159</td>\n    </tr>\n    <tr>\n      <th>23</th>\n      <td>10</td>\n      <td>North</td>\n      <td>50.783333</td>\n      <td>respondent</td>\n      <td>66.260159</td>\n      <td>66.260159</td>\n      <td>66.260159</td>\n    </tr>\n    <tr>\n      <th>24</th>\n      <td>10</td>\n      <td>North</td>\n      <td>50.783333</td>\n      <td>non-respondent</td>\n      <td>0.000000</td>\n      <td>0.000000</td>\n      <td>0.000000</td>\n    </tr>\n  </tbody>\n</table>\n</div>",
      "text/plain": "    cluster region  design_weight response_status  nr_weight  nr_weight2  \\\n0         7  North      46.166667      ineligible  46.166667   46.166667   \n1         7  North      46.166667      respondent  60.236508   60.236508   \n2         7  North      46.166667      respondent  60.236508   60.236508   \n3         7  North      46.166667      respondent  60.236508   60.236508   \n4         7  North      46.166667         unknown   0.000000    0.000000   \n5         7  North      46.166667      respondent  60.236508   60.236508   \n6         7  North      46.166667      respondent  60.236508   60.236508   \n7         7  North      46.166667      ineligible  46.166667   46.166667   \n8         7  North      46.166667      respondent  60.236508   60.236508   \n9         7  North      46.166667      respondent  60.236508   60.236508   \n10        7  North      46.166667      respondent  60.236508   60.236508   \n11        7  North      46.166667  non-respondent   0.000000    0.000000   \n12        7  North      46.166667      respondent  60.236508   60.236508   \n13        7  North      46.166667      ineligible  46.166667   46.166667   \n14        7  North      46.166667      respondent  60.236508   60.236508   \n15       10  North      50.783333  non-respondent   0.000000    0.000000   \n16       10  North      50.783333      respondent  66.260159   66.260159   \n17       10  North      50.783333      respondent  66.260159   66.260159   \n18       10  North      50.783333  non-respondent   0.000000    0.000000   \n19       10  North      50.783333      ineligible  50.783333   50.783333   \n20       10  North      50.783333      respondent  66.260159   66.260159   \n21       10  North      50.783333         unknown   0.000000    0.000000   \n22       10  North      50.783333      respondent  66.260159   66.260159   \n23       10  North      50.783333      respondent  66.260159   66.260159   \n24       10  North      50.783333  non-respondent   0.000000    0.000000   \n\n    nr_weight3  \n0    46.166667  \n1    60.236508  \n2    60.236508  \n3    60.236508  \n4     0.000000  \n5    60.236508  \n6    60.236508  \n7    46.166667  \n8    60.236508  \n9    60.236508  \n10   60.236508  \n11    0.000000  \n12   60.236508  \n13   46.166667  \n14   60.236508  \n15    0.000000  \n16   66.260159  \n17   66.260159  \n18    0.000000  \n19   50.783333  \n20   66.260159  \n21    0.000000  \n22   66.260159  \n23   66.260159  \n24    0.000000  "
     },
     "execution_count": 18,
     "metadata": {},
     "output_type": "execute_result"
    }
   ],
   "source": [
    "response_status3 = np.repeat(\"in\", full_sample[\"response_status\"].shape[0])\n",
    "response_status3[full_sample[\"response_status\"]==\"non-respondent\"] = \"nr\"\n",
    "response_status3[full_sample[\"response_status\"]==\"respondent\"] = \"rr\"\n",
    "response_status3[full_sample[\"response_status\"]==\"unknown\"] = \"uk\"\n",
    "\n",
    "full_sample[\"nr_weight3\"] = SampleWeight().adjust(\n",
    "    samp_weight=full_sample[\"design_weight\"], \n",
    "    adjust_class=full_sample[\"region\"], \n",
    "    resp_status=response_status3\n",
    "    )\n",
    "\n",
    "full_sample[[\"cluster\", \"region\",\"design_weight\", \"response_status\", \"nr_weight\", \"nr_weight2\", \"nr_weight3\"]].head(25)"
   ]
  },
  {
   "cell_type": "markdown",
   "execution_count": null,
   "metadata": {},
   "outputs": [],
   "source": [
    "## Post-Stratification <a name=\"section3\"></a>"
   ]
  },
  {
   "cell_type": "markdown",
   "execution_count": null,
   "metadata": {},
   "outputs": [],
   "source": [
    "## Normalization <a name=\"section4\"></a>\n",
    "\n",
    "DHS and MICS normalize the final sample weights to sum to the sample size. We can use the class method *normalize()* to ensure that the sample weight sum to some constant across the sample or by normalization domain e.g. stratum. "
   ]
  },
  {
   "cell_type": "code",
   "execution_count": 8,
   "metadata": {},
   "outputs": [
    {
     "name": "stdout",
     "output_type": "stream",
     "text": "(150, 150.00000000000003)\n"
    }
   ],
   "source": [
    "full_sample[\"norm_weight\"] = SampleWeight().normalize(full_sample[\"nr_weight\"])\n",
    "\n",
    "\n",
    "full_sample[[\"cluster\", \"region\", \"nr_weight\", \"norm_weight\"]].head(25)\n",
    "\n",
    "print((full_sample.shape[0], full_sample[\"norm_weight\"].sum()))"
   ]
  },
  {
   "cell_type": "markdown",
   "execution_count": null,
   "metadata": {},
   "outputs": [],
   "source": [
    "When *normalize()* is called with only the parameter *sample_weight* then the sample weights are normalize to sum to the length of the sample weight vector. "
   ]
  },
  {
   "cell_type": "code",
   "execution_count": 9,
   "metadata": {},
   "outputs": [
    {
     "name": "stdout",
     "output_type": "stream",
     "text": "300.00000000000006\n"
    }
   ],
   "source": [
    "full_sample[\"norm_weight2\"] = SampleWeight().normalize(full_sample[\"nr_weight\"], control=300)\n",
    "\n",
    "print(full_sample[\"norm_weight2\"].sum())"
   ]
  },
  {
   "cell_type": "code",
   "execution_count": 10,
   "metadata": {},
   "outputs": [
    {
     "data": {
      "text/html": "<div>\n<style scoped>\n    .dataframe tbody tr th:only-of-type {\n        vertical-align: middle;\n    }\n\n    .dataframe tbody tr th {\n        vertical-align: top;\n    }\n\n    .dataframe thead th {\n        text-align: right;\n    }\n</style>\n<table border=\"1\" class=\"dataframe\">\n  <thead>\n    <tr style=\"text-align: right;\">\n      <th></th>\n      <th>region</th>\n      <th>nr_weight</th>\n      <th>norm_weight</th>\n      <th>norm_weight3</th>\n    </tr>\n  </thead>\n  <tbody>\n    <tr>\n      <th>0</th>\n      <td>East</td>\n      <td>3698.703391</td>\n      <td>38.419768</td>\n      <td>45.0</td>\n    </tr>\n    <tr>\n      <th>1</th>\n      <td>North</td>\n      <td>1454.250000</td>\n      <td>15.105820</td>\n      <td>30.0</td>\n    </tr>\n    <tr>\n      <th>2</th>\n      <td>South</td>\n      <td>2801.889620</td>\n      <td>29.104239</td>\n      <td>45.0</td>\n    </tr>\n    <tr>\n      <th>3</th>\n      <td>West</td>\n      <td>6485.783333</td>\n      <td>67.370173</td>\n      <td>30.0</td>\n    </tr>\n  </tbody>\n</table>\n</div>",
      "text/plain": "  region    nr_weight  norm_weight  norm_weight3\n0   East  3698.703391    38.419768          45.0\n1  North  1454.250000    15.105820          30.0\n2  South  2801.889620    29.104239          45.0\n3   West  6485.783333    67.370173          30.0"
     },
     "execution_count": 10,
     "metadata": {},
     "output_type": "execute_result"
    }
   ],
   "source": [
    "full_sample[\"norm_weight3\"] = SampleWeight().normalize(full_sample[\"nr_weight\"], domain=full_sample[\"region\"])\n",
    "\n",
    "weight_sum = full_sample.groupby([\"region\"]).sum()\n",
    "weight_sum.reset_index(inplace=True)\n",
    "weight_sum[[\"region\", \"nr_weight\", \"norm_weight\", \"norm_weight3\"]]"
   ]
  },
  {
   "cell_type": "code",
   "execution_count": 11,
   "metadata": {},
   "outputs": [
    {
     "data": {
      "text/html": "<div>\n<style scoped>\n    .dataframe tbody tr th:only-of-type {\n        vertical-align: middle;\n    }\n\n    .dataframe tbody tr th {\n        vertical-align: top;\n    }\n\n    .dataframe thead th {\n        text-align: right;\n    }\n</style>\n<table border=\"1\" class=\"dataframe\">\n  <thead>\n    <tr style=\"text-align: right;\">\n      <th></th>\n      <th>region</th>\n      <th>nr_weight</th>\n      <th>norm_weight</th>\n      <th>norm_weight2</th>\n      <th>norm_weight3</th>\n      <th>norm_weight4</th>\n    </tr>\n  </thead>\n  <tbody>\n    <tr>\n      <th>0</th>\n      <td>East</td>\n      <td>3698.703391</td>\n      <td>38.419768</td>\n      <td>76.839535</td>\n      <td>45.0</td>\n      <td>10.0</td>\n    </tr>\n    <tr>\n      <th>1</th>\n      <td>North</td>\n      <td>1454.250000</td>\n      <td>15.105820</td>\n      <td>30.211640</td>\n      <td>30.0</td>\n      <td>20.0</td>\n    </tr>\n    <tr>\n      <th>2</th>\n      <td>South</td>\n      <td>2801.889620</td>\n      <td>29.104239</td>\n      <td>58.208478</td>\n      <td>45.0</td>\n      <td>30.0</td>\n    </tr>\n    <tr>\n      <th>3</th>\n      <td>West</td>\n      <td>6485.783333</td>\n      <td>67.370173</td>\n      <td>134.740347</td>\n      <td>30.0</td>\n      <td>50.0</td>\n    </tr>\n  </tbody>\n</table>\n</div>",
      "text/plain": "  region    nr_weight  norm_weight  norm_weight2  norm_weight3  norm_weight4\n0   East  3698.703391    38.419768     76.839535          45.0          10.0\n1  North  1454.250000    15.105820     30.211640          30.0          20.0\n2  South  2801.889620    29.104239     58.208478          45.0          30.0\n3   West  6485.783333    67.370173    134.740347          30.0          50.0"
     },
     "execution_count": 11,
     "metadata": {},
     "output_type": "execute_result"
    }
   ],
   "source": [
    "norm_level = {\"East\": 10, \"North\": 20, \"South\": 30, \"West\": 50}\n",
    "\n",
    "full_sample[\"norm_weight4\"] = SampleWeight().normalize(full_sample[\"nr_weight\"], norm_level, full_sample[\"region\"])\n",
    "\n",
    "weight_sum = full_sample.groupby([\"region\"]).sum()\n",
    "weight_sum.reset_index(inplace=True)\n",
    "weight_sum[[\"region\", \"nr_weight\", \"norm_weight\", \"norm_weight2\", \"norm_weight3\", \"norm_weight4\",]]"
   ]
  },
  {
   "cell_type": "code",
   "execution_count": null,
   "metadata": {},
   "outputs": [],
   "source": []
  }
 ],
 "metadata": {
  "kernelspec": {
   "display_name": "Python 3.7.4 64-bit ('.venv': venv)",
   "language": "python",
   "name": "python37464bitvenvvenv5c6ef32391d0424f8c980df2e3730c26"
  },
  "language_info": {
   "codemirror_mode": {
    "name": "ipython",
    "version": 3
   },
   "file_extension": ".py",
   "mimetype": "text/x-python",
   "name": "python",
   "nbconvert_exporter": "python",
   "pygments_lexer": "ipython3",
   "version": "3.7.4-final"
  }
 },
 "nbformat": 4,
 "nbformat_minor": 4
}