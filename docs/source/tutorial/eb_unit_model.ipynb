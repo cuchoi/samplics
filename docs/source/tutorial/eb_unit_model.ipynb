{
 "cells": [
  {
   "cell_type": "markdown",
   "metadata": {},
   "source": [
    "## Empirical Bayes (EB) Method for the Unit Level Model"
   ]
  },
  {
   "cell_type": "markdown",
   "metadata": {},
   "source": [
    "For complex (non-linear) parameters of interest or for non-normally distributed random errors, the EBLUP is not the best predictor and the MSE second-order approximation does not hold. Instead, we will use the Empirical Bayes (EB) method which fits the linear mixed model to the data and use a Monte Carlo (MC) approach to predict the area level complex parameters and their MSE estimates. Thsi approach is implemented by the *EBUnitLevel* class. \n",
    "\n",
    "To illustrate the EB method, we will simulate a data following the specification of Molina and Rao (2010). In their paper, they simulated data to analyze the performance of the EB method to estimate area poverty incidences and poverty gaps. "
   ]
  },
  {
   "cell_type": "markdown",
   "metadata": {},
   "source": [
    "### Simulated census data\n",
    "\n",
    "The simulated census data is composed of $N=20,000$ observations from $m=80$ areas with $N_i = 250$ units in each area $i = 1, ..., m,$ with $k_{ij} = 1$. The population are generated using the linear mixed model with random area effects variance $\\sigma_u^2 = 0.15^20$ and unit level errors variance $\\sigma_e^2 = 0.5^2$. We consider two binary auxiliary variables simulated with $p_{1i} = 0.3+0.5*i/m$ and $p_{2i} = 0.2,$ with $i = 1, ..., m$. The output variable is income. Income is a skewed distribution and to simulated the skewness, we apply an exponential transformation to Y obtained from the linear mixed model discribed above."
   ]
  },
  {
   "cell_type": "code",
   "execution_count": 7,
   "metadata": {},
   "outputs": [],
   "source": [
    "%load_ext lab_black\n",
    "import numpy as np\n",
    "import pandas as pd\n",
    "\n",
    "import samplics\n",
    "from samplics.sampling import Sample\n",
    "from samplics.sae import EbUnitModel"
   ]
  },
  {
   "cell_type": "code",
   "execution_count": 8,
   "metadata": {},
   "outputs": [
    {
     "name": "stdout",
     "output_type": "stream",
     "text": [
      "\n",
      "First 15 rows of the population data\n",
      "\n"
     ]
    },
    {
     "data": {
      "text/html": [
       "<div>\n",
       "<style scoped>\n",
       "    .dataframe tbody tr th:only-of-type {\n",
       "        vertical-align: middle;\n",
       "    }\n",
       "\n",
       "    .dataframe tbody tr th {\n",
       "        vertical-align: top;\n",
       "    }\n",
       "\n",
       "    .dataframe thead th {\n",
       "        text-align: right;\n",
       "    }\n",
       "</style>\n",
       "<table border=\"1\" class=\"dataframe\">\n",
       "  <thead>\n",
       "    <tr style=\"text-align: right;\">\n",
       "      <th></th>\n",
       "      <th>area</th>\n",
       "      <th>X1</th>\n",
       "      <th>X2</th>\n",
       "      <th>income</th>\n",
       "    </tr>\n",
       "  </thead>\n",
       "  <tbody>\n",
       "    <tr>\n",
       "      <th>0</th>\n",
       "      <td>1</td>\n",
       "      <td>1</td>\n",
       "      <td>0</td>\n",
       "      <td>10.910632</td>\n",
       "    </tr>\n",
       "    <tr>\n",
       "      <th>1</th>\n",
       "      <td>1</td>\n",
       "      <td>0</td>\n",
       "      <td>0</td>\n",
       "      <td>30.000852</td>\n",
       "    </tr>\n",
       "    <tr>\n",
       "      <th>2</th>\n",
       "      <td>1</td>\n",
       "      <td>0</td>\n",
       "      <td>0</td>\n",
       "      <td>20.989920</td>\n",
       "    </tr>\n",
       "    <tr>\n",
       "      <th>3</th>\n",
       "      <td>1</td>\n",
       "      <td>0</td>\n",
       "      <td>0</td>\n",
       "      <td>8.579758</td>\n",
       "    </tr>\n",
       "    <tr>\n",
       "      <th>4</th>\n",
       "      <td>1</td>\n",
       "      <td>0</td>\n",
       "      <td>1</td>\n",
       "      <td>13.108396</td>\n",
       "    </tr>\n",
       "    <tr>\n",
       "      <th>5</th>\n",
       "      <td>1</td>\n",
       "      <td>0</td>\n",
       "      <td>0</td>\n",
       "      <td>41.607121</td>\n",
       "    </tr>\n",
       "    <tr>\n",
       "      <th>6</th>\n",
       "      <td>1</td>\n",
       "      <td>0</td>\n",
       "      <td>1</td>\n",
       "      <td>5.202886</td>\n",
       "    </tr>\n",
       "    <tr>\n",
       "      <th>7</th>\n",
       "      <td>1</td>\n",
       "      <td>0</td>\n",
       "      <td>0</td>\n",
       "      <td>14.703665</td>\n",
       "    </tr>\n",
       "    <tr>\n",
       "      <th>8</th>\n",
       "      <td>1</td>\n",
       "      <td>1</td>\n",
       "      <td>0</td>\n",
       "      <td>35.357877</td>\n",
       "    </tr>\n",
       "    <tr>\n",
       "      <th>9</th>\n",
       "      <td>1</td>\n",
       "      <td>0</td>\n",
       "      <td>0</td>\n",
       "      <td>11.812790</td>\n",
       "    </tr>\n",
       "    <tr>\n",
       "      <th>10</th>\n",
       "      <td>1</td>\n",
       "      <td>1</td>\n",
       "      <td>0</td>\n",
       "      <td>13.371292</td>\n",
       "    </tr>\n",
       "    <tr>\n",
       "      <th>11</th>\n",
       "      <td>1</td>\n",
       "      <td>1</td>\n",
       "      <td>0</td>\n",
       "      <td>17.907123</td>\n",
       "    </tr>\n",
       "    <tr>\n",
       "      <th>12</th>\n",
       "      <td>1</td>\n",
       "      <td>1</td>\n",
       "      <td>1</td>\n",
       "      <td>38.025154</td>\n",
       "    </tr>\n",
       "    <tr>\n",
       "      <th>13</th>\n",
       "      <td>1</td>\n",
       "      <td>0</td>\n",
       "      <td>0</td>\n",
       "      <td>13.238140</td>\n",
       "    </tr>\n",
       "    <tr>\n",
       "      <th>14</th>\n",
       "      <td>1</td>\n",
       "      <td>0</td>\n",
       "      <td>0</td>\n",
       "      <td>14.593294</td>\n",
       "    </tr>\n",
       "  </tbody>\n",
       "</table>\n",
       "</div>"
      ],
      "text/plain": [
       "    area  X1  X2     income\n",
       "0      1   1   0  10.910632\n",
       "1      1   0   0  30.000852\n",
       "2      1   0   0  20.989920\n",
       "3      1   0   0   8.579758\n",
       "4      1   0   1  13.108396\n",
       "5      1   0   0  41.607121\n",
       "6      1   0   1   5.202886\n",
       "7      1   0   0  14.703665\n",
       "8      1   1   0  35.357877\n",
       "9      1   0   0  11.812790\n",
       "10     1   1   0  13.371292\n",
       "11     1   1   0  17.907123\n",
       "12     1   1   1  38.025154\n",
       "13     1   0   0  13.238140\n",
       "14     1   0   0  14.593294"
      ]
     },
     "execution_count": 8,
     "metadata": {},
     "output_type": "execute_result"
    }
   ],
   "source": [
    "np.random.seed(123)\n",
    "\n",
    "# model parameters\n",
    "scale = 1\n",
    "sigma2e = 0.5 ** 2\n",
    "sigma2u = 0.15 ** 2\n",
    "\n",
    "# Population sizes\n",
    "N = 20000\n",
    "nb_areas = 80\n",
    "\n",
    "# Errors generation\n",
    "error = np.random.normal(loc=0, scale=(scale ** 2) * (sigma2e ** 0.5), size=N)\n",
    "area = np.sort(np.random.choice(range(1, nb_areas + 1), N))\n",
    "areas, Nd = np.unique(area, return_counts=True)\n",
    "random_effects = np.random.normal(loc=0, scale=sigma2u ** (1 / 2), size=nb_areas)\n",
    "total_error = np.repeat(random_effects, Nd) + error\n",
    "\n",
    "# Auxiliary information\n",
    "p1 = 0.3 + 0.5 * np.linspace(1, nb_areas + 1, nb_areas) / nb_areas\n",
    "p2 = 0.2\n",
    "X1 = np.array([]).astype(int)\n",
    "for i, d in enumerate(areas):\n",
    "    Xk = np.random.binomial(1, p=p1[i], size=Nd[i])\n",
    "    X1 = np.append(X1, Xk)\n",
    "X2 = np.random.binomial(1, p=p2, size=N)\n",
    "X = np.column_stack((np.ones(N), X1, X2))\n",
    "\n",
    "beta = np.array([3, 0.03, -0.04])\n",
    "Y = np.matmul(X, beta) + total_error\n",
    "income = np.exp(Y)\n",
    "\n",
    "# Create a dataframe for the population data\n",
    "census_data = pd.DataFrame(data={\"area\": area, \"X1\": X1, \"X2\": X2, \"income\": income})\n",
    "\n",
    "nb_obs = 15\n",
    "print(f\"\\nFirst {nb_obs} rows of the population data\\n\")\n",
    "census_data.head(nb_obs)"
   ]
  },
  {
   "cell_type": "markdown",
   "metadata": {},
   "source": [
    "Now we re going to select a sample of 50 units in each area. To select the sample, we will use the *Sample* class from *samplics*. "
   ]
  },
  {
   "cell_type": "code",
   "execution_count": 9,
   "metadata": {},
   "outputs": [
    {
     "name": "stdout",
     "output_type": "stream",
     "text": [
      "\n",
      "First 15 rows of the sample data\n",
      "\n"
     ]
    },
    {
     "data": {
      "text/html": [
       "<div>\n",
       "<style scoped>\n",
       "    .dataframe tbody tr th:only-of-type {\n",
       "        vertical-align: middle;\n",
       "    }\n",
       "\n",
       "    .dataframe tbody tr th {\n",
       "        vertical-align: top;\n",
       "    }\n",
       "\n",
       "    .dataframe thead th {\n",
       "        text-align: right;\n",
       "    }\n",
       "</style>\n",
       "<table border=\"1\" class=\"dataframe\">\n",
       "  <thead>\n",
       "    <tr style=\"text-align: right;\">\n",
       "      <th></th>\n",
       "      <th>area</th>\n",
       "      <th>X1</th>\n",
       "      <th>X2</th>\n",
       "      <th>income</th>\n",
       "    </tr>\n",
       "  </thead>\n",
       "  <tbody>\n",
       "    <tr>\n",
       "      <th>0</th>\n",
       "      <td>1</td>\n",
       "      <td>1</td>\n",
       "      <td>0</td>\n",
       "      <td>10.910632</td>\n",
       "    </tr>\n",
       "    <tr>\n",
       "      <th>6</th>\n",
       "      <td>1</td>\n",
       "      <td>0</td>\n",
       "      <td>1</td>\n",
       "      <td>5.202886</td>\n",
       "    </tr>\n",
       "    <tr>\n",
       "      <th>11</th>\n",
       "      <td>1</td>\n",
       "      <td>1</td>\n",
       "      <td>0</td>\n",
       "      <td>17.907123</td>\n",
       "    </tr>\n",
       "    <tr>\n",
       "      <th>13</th>\n",
       "      <td>1</td>\n",
       "      <td>0</td>\n",
       "      <td>0</td>\n",
       "      <td>13.238140</td>\n",
       "    </tr>\n",
       "    <tr>\n",
       "      <th>18</th>\n",
       "      <td>1</td>\n",
       "      <td>0</td>\n",
       "      <td>0</td>\n",
       "      <td>30.101651</td>\n",
       "    </tr>\n",
       "    <tr>\n",
       "      <th>19</th>\n",
       "      <td>1</td>\n",
       "      <td>0</td>\n",
       "      <td>1</td>\n",
       "      <td>21.234904</td>\n",
       "    </tr>\n",
       "    <tr>\n",
       "      <th>24</th>\n",
       "      <td>1</td>\n",
       "      <td>1</td>\n",
       "      <td>0</td>\n",
       "      <td>10.030322</td>\n",
       "    </tr>\n",
       "    <tr>\n",
       "      <th>36</th>\n",
       "      <td>1</td>\n",
       "      <td>1</td>\n",
       "      <td>0</td>\n",
       "      <td>18.802240</td>\n",
       "    </tr>\n",
       "    <tr>\n",
       "      <th>43</th>\n",
       "      <td>1</td>\n",
       "      <td>0</td>\n",
       "      <td>0</td>\n",
       "      <td>24.275218</td>\n",
       "    </tr>\n",
       "    <tr>\n",
       "      <th>45</th>\n",
       "      <td>1</td>\n",
       "      <td>0</td>\n",
       "      <td>0</td>\n",
       "      <td>18.113143</td>\n",
       "    </tr>\n",
       "    <tr>\n",
       "      <th>47</th>\n",
       "      <td>1</td>\n",
       "      <td>0</td>\n",
       "      <td>0</td>\n",
       "      <td>22.398839</td>\n",
       "    </tr>\n",
       "    <tr>\n",
       "      <th>53</th>\n",
       "      <td>1</td>\n",
       "      <td>0</td>\n",
       "      <td>0</td>\n",
       "      <td>12.225473</td>\n",
       "    </tr>\n",
       "    <tr>\n",
       "      <th>59</th>\n",
       "      <td>1</td>\n",
       "      <td>1</td>\n",
       "      <td>0</td>\n",
       "      <td>32.048469</td>\n",
       "    </tr>\n",
       "    <tr>\n",
       "      <th>64</th>\n",
       "      <td>1</td>\n",
       "      <td>0</td>\n",
       "      <td>1</td>\n",
       "      <td>35.559331</td>\n",
       "    </tr>\n",
       "    <tr>\n",
       "      <th>71</th>\n",
       "      <td>1</td>\n",
       "      <td>0</td>\n",
       "      <td>0</td>\n",
       "      <td>12.024853</td>\n",
       "    </tr>\n",
       "  </tbody>\n",
       "</table>\n",
       "</div>"
      ],
      "text/plain": [
       "    area  X1  X2     income\n",
       "0      1   1   0  10.910632\n",
       "6      1   0   1   5.202886\n",
       "11     1   1   0  17.907123\n",
       "13     1   0   0  13.238140\n",
       "18     1   0   0  30.101651\n",
       "19     1   0   1  21.234904\n",
       "24     1   1   0  10.030322\n",
       "36     1   1   0  18.802240\n",
       "43     1   0   0  24.275218\n",
       "45     1   0   0  18.113143\n",
       "47     1   0   0  22.398839\n",
       "53     1   0   0  12.225473\n",
       "59     1   1   0  32.048469\n",
       "64     1   0   1  35.559331\n",
       "71     1   0   0  12.024853"
      ]
     },
     "execution_count": 9,
     "metadata": {},
     "output_type": "execute_result"
    }
   ],
   "source": [
    "sample_size = 50\n",
    "stratum = census_data[\"area\"]\n",
    "unit_id = census_data.index\n",
    "\n",
    "sae_sample = Sample(method=\"srs\", stratification=True, with_replacement=False)\n",
    "sample, _, _ = sae_sample.select(unit_id, sample_size, stratum)\n",
    "sample_data = census_data[sample == 1]\n",
    "\n",
    "nb_obs = 15\n",
    "print(f\"\\nFirst {nb_obs} rows of the sample data\\n\")\n",
    "sample_data.head(nb_obs)"
   ]
  },
  {
   "cell_type": "markdown",
   "metadata": {},
   "source": [
    "Now that we have simulated a population(census) and selected a sample from it, we are ready to illustrate the steps of the EB method. In summary, we need the sample data with the output variable, the auxiliary variables, and the area variable. And we also need the non-sampled values of the auxiliary variables. In practice, it may challenging to get the out-of-sample auxiliary variables and even more difficult to link the sample to the census in order to partition it into sample vs out-of-sample."
   ]
  },
  {
   "cell_type": "code",
   "execution_count": 10,
   "metadata": {},
   "outputs": [],
   "source": [
    "# Sample data\n",
    "areas = sample_data[\"area\"]\n",
    "income = sample_data[\"income\"]\n",
    "Xs = sample_data[[\"X1\", \"X2\"]]\n",
    "\n",
    "# Out of sample data\n",
    "outofsample_data = census_data[sample != 1]\n",
    "arear = outofsample_data[\"area\"]\n",
    "Xr = outofsample_data[[\"X1\", \"X2\"]]"
   ]
  },
  {
   "cell_type": "markdown",
   "metadata": {},
   "source": [
    "### Fitting the linear mixed model\n",
    "\n"
   ]
  },
  {
   "cell_type": "code",
   "execution_count": 11,
   "metadata": {},
   "outputs": [
    {
     "name": "stdout",
     "output_type": "stream",
     "text": [
      "\n",
      "The estimated fixed effect using REML is: [ 2.97923793  0.03629499 -0.02642623]\n",
      "\n",
      "The estimated area random effect standard error using REML is: 0.15227754550016784\n",
      "\n",
      "The estimated area random effect standard error using REML is: 0.4972377422416066\n"
     ]
    }
   ],
   "source": [
    "eb_poverty_reml = EbUnitModel(method=\"REML\", boxcox=0)\n",
    "eb_poverty_reml.fit(income, Xs, areas, intercept=True)\n",
    "\n",
    "print(f\"\\nThe estimated fixed effect using REML is: {eb_poverty_reml.fixed_effects}\")\n",
    "print(\n",
    "    f\"\\nThe estimated area random effect standard error using REML is: {eb_poverty_reml.re_std}\"\n",
    ")\n",
    "print(\n",
    "    f\"\\nThe estimated area random effect standard error using REML is: {eb_poverty_reml.error_std}\"\n",
    ")"
   ]
  },
  {
   "cell_type": "code",
   "execution_count": 12,
   "metadata": {},
   "outputs": [
    {
     "name": "stdout",
     "output_type": "stream",
     "text": [
      "\n",
      "The ML estimated fixed effect using ML is: [ 2.97921929  0.03631835 -0.02639921]\n",
      "\n",
      "The ML estimated area random effect standard error using ML is: 0.15109887793783536\n",
      "\n",
      "The ML estimated area random effect standard error using ML is: 0.4971123962940577\n"
     ]
    }
   ],
   "source": [
    "eb_poverty_ml = EbUnitModel(method=\"ML\", boxcox=0)\n",
    "eb_poverty_ml.fit(income, Xs, areas, intercept=True)\n",
    "\n",
    "print(f\"\\nThe ML estimated fixed effect using ML is: {eb_poverty_ml.fixed_effects}\")\n",
    "print(\n",
    "    f\"\\nThe ML estimated area random effect standard error using ML is: {eb_poverty_ml.re_std}\"\n",
    ")\n",
    "print(\n",
    "    f\"\\nThe ML estimated area random effect standard error using ML is: {eb_poverty_ml.error_std}\"\n",
    ")"
   ]
  },
  {
   "cell_type": "markdown",
   "metadata": {},
   "source": [
    "### Prediction of area level poverty indicators"
   ]
  },
  {
   "cell_type": "code",
   "execution_count": 10,
   "metadata": {},
   "outputs": [
    {
     "ename": "NameError",
     "evalue": "name 'poverty_incidence' is not defined",
     "output_type": "error",
     "traceback": [
      "\u001b[0;31m---------------------------------------------------------------------------\u001b[0m",
      "\u001b[0;31mNameError\u001b[0m                                 Traceback (most recent call last)",
      "\u001b[0;32m<ipython-input-10-19cf0a962c82>\u001b[0m in \u001b[0;36m<module>\u001b[0;34m\u001b[0m\n\u001b[0;32m----> 1\u001b[0;31m \u001b[0mpoverty_incidence\u001b[0m\u001b[0;34m(\u001b[0m\u001b[0my\u001b[0m\u001b[0;34m,\u001b[0m \u001b[0mpoverty_line\u001b[0m \u001b[0;34m=\u001b[0m \u001b[0;36m12\u001b[0m\u001b[0;34m)\u001b[0m\u001b[0;34m\u001b[0m\u001b[0;34m\u001b[0m\u001b[0m\n\u001b[0m\u001b[1;32m      2\u001b[0m \u001b[0;34m\u001b[0m\u001b[0m\n\u001b[1;32m      3\u001b[0m \u001b[0mpoverty_gap\u001b[0m\u001b[0;34m(\u001b[0m\u001b[0my\u001b[0m\u001b[0;34m,\u001b[0m \u001b[0mpoverty_line\u001b[0m \u001b[0;34m=\u001b[0m \u001b[0;36m12\u001b[0m\u001b[0;34m)\u001b[0m\u001b[0;34m\u001b[0m\u001b[0;34m\u001b[0m\u001b[0m\n",
      "\u001b[0;31mNameError\u001b[0m: name 'poverty_incidence' is not defined"
     ]
    }
   ],
   "source": [
    "poverty_incidence(y, poverty_line = 12)\n",
    "\n",
    "poverty_gap(y, poverty_line = 12)"
   ]
  },
  {
   "cell_type": "code",
   "execution_count": 16,
   "metadata": {},
   "outputs": [
    {
     "ename": "TypeError",
     "evalue": "predict() missing 2 required positional arguments: 'indicator' and 'number_samples'",
     "output_type": "error",
     "traceback": [
      "\u001b[0;31m---------------------------------------------------------------------------\u001b[0m",
      "\u001b[0;31mTypeError\u001b[0m                                 Traceback (most recent call last)",
      "\u001b[0;32m<ipython-input-16-7ad898fb2f7c>\u001b[0m in \u001b[0;36m<module>\u001b[0;34m\u001b[0m\n\u001b[0;32m----> 1\u001b[0;31m \u001b[0meb_poverty_reml\u001b[0m\u001b[0;34m.\u001b[0m\u001b[0mpredict\u001b[0m\u001b[0;34m(\u001b[0m\u001b[0mXr\u001b[0m\u001b[0;34m,\u001b[0m \u001b[0marear\u001b[0m\u001b[0;34m,\u001b[0m \u001b[0mintercept\u001b[0m \u001b[0;34m=\u001b[0m \u001b[0;32mTrue\u001b[0m\u001b[0;34m)\u001b[0m\u001b[0;34m\u001b[0m\u001b[0;34m\u001b[0m\u001b[0m\n\u001b[0m",
      "\u001b[0;31mTypeError\u001b[0m: predict() missing 2 required positional arguments: 'indicator' and 'number_samples'"
     ]
    }
   ],
   "source": [
    "eb_poverty_reml.predict(Xr, arear, intercept = True)"
   ]
  },
  {
   "cell_type": "code",
   "execution_count": null,
   "metadata": {},
   "outputs": [],
   "source": []
  }
 ],
 "metadata": {
  "kernelspec": {
   "display_name": "Python 3.8.1 64-bit ('3.8.1': pyenv)",
   "language": "python",
   "name": "python38164bit381pyenv989d5bceb06e4c5f9023edfc2b5b362b"
  },
  "language_info": {
   "codemirror_mode": {
    "name": "ipython",
    "version": 3
   },
   "file_extension": ".py",
   "mimetype": "text/x-python",
   "name": "python",
   "nbconvert_exporter": "python",
   "pygments_lexer": "ipython3",
   "version": "3.8.1"
  }
 },
 "nbformat": 4,
 "nbformat_minor": 4
}
