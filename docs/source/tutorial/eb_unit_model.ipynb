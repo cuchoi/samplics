{
 "cells": [
  {
   "cell_type": "markdown",
   "metadata": {},
   "source": [
    "## Empirical Bayes (EB) Method for the Unit Level Model"
   ]
  },
  {
   "cell_type": "markdown",
   "metadata": {},
   "source": [
    "For complex (non-linear) parameters of interest or for non-normally distributed random errors, the EBLUP is not the best predictor and the MSE second-order approximation does not hold. Instead, we will use the Empirical Bayes (EB) method which fits the linear mixed model to the data and use a Monte Carlo (MC) approach to predict the area level complex parameters and their MSE estimates. Thsi approach is implemented by the *EBUnitLevel* class. \n",
    "\n",
    "To illustrate the EB method, we will simulate a data following the specification of Molina and Rao (2010). In their paper, they simulated data to analyze the performance of the EB method to estimate area poverty incidences and poverty gaps. "
   ]
  },
  {
   "cell_type": "markdown",
   "metadata": {},
   "source": [
    "### Simulated census data\n",
    "\n",
    "The simulated census data is composed of $N=20,000$ observations from $m=80$ areas with $N_i = 250$ units in each area $i = 1, ..., m,$ with $k_{ij} = 1$. The population are generated using the linear mixed model with random area effects variance $\\sigma_u^2 = 0.15^20$ and unit level errors variance $\\sigma_e^2 = 0.5^2$. We consider two binary auxiliary variables simulated with $p_{1i} = 0.3+0.5*i/m$ and $p_{2i} = 0.2,$ with $i = 1, ..., m$. The output variable is income. Income is a skewed distribution and to simulated the skewness, we apply an exponential transformation to Y obtained from the linear mixed model discribed above."
   ]
  },
  {
   "cell_type": "code",
   "execution_count": 25,
   "metadata": {},
   "outputs": [
    {
     "name": "stdout",
     "output_type": "stream",
     "text": [
      "The lab_black extension is already loaded. To reload it, use:\n",
      "  %reload_ext lab_black\n"
     ]
    }
   ],
   "source": [
    "#!pip install --upgrade samplics\n",
    "%load_ext lab_black\n",
    "import numpy as np\n",
    "import pandas as pd\n",
    "\n",
    "import samplics\n",
    "from samplics.sampling import Sample\n",
    "from samplics.sae import EbUnitModel"
   ]
  },
  {
   "cell_type": "code",
   "execution_count": 26,
   "metadata": {},
   "outputs": [
    {
     "name": "stdout",
     "output_type": "stream",
     "text": [
      "\n",
      "First 15 rows of the population data\n",
      "\n"
     ]
    },
    {
     "data": {
      "text/html": [
       "<div>\n",
       "<style scoped>\n",
       "    .dataframe tbody tr th:only-of-type {\n",
       "        vertical-align: middle;\n",
       "    }\n",
       "\n",
       "    .dataframe tbody tr th {\n",
       "        vertical-align: top;\n",
       "    }\n",
       "\n",
       "    .dataframe thead th {\n",
       "        text-align: right;\n",
       "    }\n",
       "</style>\n",
       "<table border=\"1\" class=\"dataframe\">\n",
       "  <thead>\n",
       "    <tr style=\"text-align: right;\">\n",
       "      <th></th>\n",
       "      <th>area</th>\n",
       "      <th>X1</th>\n",
       "      <th>X2</th>\n",
       "      <th>income</th>\n",
       "    </tr>\n",
       "  </thead>\n",
       "  <tbody>\n",
       "    <tr>\n",
       "      <th>0</th>\n",
       "      <td>1</td>\n",
       "      <td>1</td>\n",
       "      <td>0</td>\n",
       "      <td>10.910632</td>\n",
       "    </tr>\n",
       "    <tr>\n",
       "      <th>1</th>\n",
       "      <td>1</td>\n",
       "      <td>0</td>\n",
       "      <td>0</td>\n",
       "      <td>30.000852</td>\n",
       "    </tr>\n",
       "    <tr>\n",
       "      <th>2</th>\n",
       "      <td>1</td>\n",
       "      <td>0</td>\n",
       "      <td>0</td>\n",
       "      <td>20.989920</td>\n",
       "    </tr>\n",
       "    <tr>\n",
       "      <th>3</th>\n",
       "      <td>1</td>\n",
       "      <td>0</td>\n",
       "      <td>0</td>\n",
       "      <td>8.579758</td>\n",
       "    </tr>\n",
       "    <tr>\n",
       "      <th>4</th>\n",
       "      <td>1</td>\n",
       "      <td>0</td>\n",
       "      <td>1</td>\n",
       "      <td>13.108396</td>\n",
       "    </tr>\n",
       "    <tr>\n",
       "      <th>5</th>\n",
       "      <td>1</td>\n",
       "      <td>0</td>\n",
       "      <td>0</td>\n",
       "      <td>41.607121</td>\n",
       "    </tr>\n",
       "    <tr>\n",
       "      <th>6</th>\n",
       "      <td>1</td>\n",
       "      <td>0</td>\n",
       "      <td>1</td>\n",
       "      <td>5.202886</td>\n",
       "    </tr>\n",
       "    <tr>\n",
       "      <th>7</th>\n",
       "      <td>1</td>\n",
       "      <td>0</td>\n",
       "      <td>0</td>\n",
       "      <td>14.703665</td>\n",
       "    </tr>\n",
       "    <tr>\n",
       "      <th>8</th>\n",
       "      <td>1</td>\n",
       "      <td>1</td>\n",
       "      <td>0</td>\n",
       "      <td>35.357877</td>\n",
       "    </tr>\n",
       "    <tr>\n",
       "      <th>9</th>\n",
       "      <td>1</td>\n",
       "      <td>0</td>\n",
       "      <td>0</td>\n",
       "      <td>11.812790</td>\n",
       "    </tr>\n",
       "    <tr>\n",
       "      <th>10</th>\n",
       "      <td>1</td>\n",
       "      <td>1</td>\n",
       "      <td>0</td>\n",
       "      <td>13.371292</td>\n",
       "    </tr>\n",
       "    <tr>\n",
       "      <th>11</th>\n",
       "      <td>1</td>\n",
       "      <td>1</td>\n",
       "      <td>0</td>\n",
       "      <td>17.907123</td>\n",
       "    </tr>\n",
       "    <tr>\n",
       "      <th>12</th>\n",
       "      <td>1</td>\n",
       "      <td>1</td>\n",
       "      <td>1</td>\n",
       "      <td>38.025154</td>\n",
       "    </tr>\n",
       "    <tr>\n",
       "      <th>13</th>\n",
       "      <td>1</td>\n",
       "      <td>0</td>\n",
       "      <td>0</td>\n",
       "      <td>13.238140</td>\n",
       "    </tr>\n",
       "    <tr>\n",
       "      <th>14</th>\n",
       "      <td>1</td>\n",
       "      <td>0</td>\n",
       "      <td>0</td>\n",
       "      <td>14.593294</td>\n",
       "    </tr>\n",
       "  </tbody>\n",
       "</table>\n",
       "</div>"
      ],
      "text/plain": [
       "    area  X1  X2     income\n",
       "0      1   1   0  10.910632\n",
       "1      1   0   0  30.000852\n",
       "2      1   0   0  20.989920\n",
       "3      1   0   0   8.579758\n",
       "4      1   0   1  13.108396\n",
       "5      1   0   0  41.607121\n",
       "6      1   0   1   5.202886\n",
       "7      1   0   0  14.703665\n",
       "8      1   1   0  35.357877\n",
       "9      1   0   0  11.812790\n",
       "10     1   1   0  13.371292\n",
       "11     1   1   0  17.907123\n",
       "12     1   1   1  38.025154\n",
       "13     1   0   0  13.238140\n",
       "14     1   0   0  14.593294"
      ]
     },
     "execution_count": 26,
     "metadata": {},
     "output_type": "execute_result"
    }
   ],
   "source": [
    "np.random.seed(123)\n",
    "\n",
    "# model parameters\n",
    "scale = 1\n",
    "sigma2e = 0.5 ** 2\n",
    "sigma2u = 0.15 ** 2\n",
    "\n",
    "# Population sizes\n",
    "N = 20000\n",
    "nb_areas = 80\n",
    "\n",
    "# Errors generation\n",
    "error = np.random.normal(loc=0, scale=(scale ** 2) * (sigma2e ** 0.5), size=N)\n",
    "area = np.sort(np.random.choice(range(1, nb_areas + 1), N))\n",
    "areas, Nd = np.unique(area, return_counts=True)\n",
    "random_effects = np.random.normal(loc=0, scale=sigma2u ** (1 / 2), size=nb_areas)\n",
    "total_error = np.repeat(random_effects, Nd) + error\n",
    "\n",
    "# Auxiliary information\n",
    "p1 = 0.3 + 0.5 * np.linspace(1, nb_areas + 1, nb_areas) / nb_areas\n",
    "p2 = 0.2\n",
    "X1 = np.array([]).astype(int)\n",
    "for i, d in enumerate(areas):\n",
    "    Xk = np.random.binomial(1, p=p1[i], size=Nd[i])\n",
    "    X1 = np.append(X1, Xk)\n",
    "X2 = np.random.binomial(1, p=p2, size=N)\n",
    "X = np.column_stack((np.ones(N), X1, X2))\n",
    "\n",
    "beta = np.array([3, 0.03, -0.04])\n",
    "Y = np.matmul(X, beta) + total_error\n",
    "income = np.exp(Y)\n",
    "\n",
    "# Create a dataframe for the population data\n",
    "census_data = pd.DataFrame(data={\"area\": area, \"X1\": X1, \"X2\": X2, \"income\": income})\n",
    "\n",
    "nb_obs = 15\n",
    "print(f\"\\nFirst {nb_obs} rows of the population data\\n\")\n",
    "census_data.head(nb_obs)"
   ]
  },
  {
   "cell_type": "markdown",
   "metadata": {},
   "source": [
    "Now we re going to select a sample of 50 units in each area. To select the sample, we will use the *Sample* class from *samplics*. "
   ]
  },
  {
   "cell_type": "code",
   "execution_count": 27,
   "metadata": {},
   "outputs": [
    {
     "name": "stdout",
     "output_type": "stream",
     "text": [
      "\n",
      "First 15 rows of the sample data\n",
      "\n"
     ]
    },
    {
     "data": {
      "text/html": [
       "<div>\n",
       "<style scoped>\n",
       "    .dataframe tbody tr th:only-of-type {\n",
       "        vertical-align: middle;\n",
       "    }\n",
       "\n",
       "    .dataframe tbody tr th {\n",
       "        vertical-align: top;\n",
       "    }\n",
       "\n",
       "    .dataframe thead th {\n",
       "        text-align: right;\n",
       "    }\n",
       "</style>\n",
       "<table border=\"1\" class=\"dataframe\">\n",
       "  <thead>\n",
       "    <tr style=\"text-align: right;\">\n",
       "      <th></th>\n",
       "      <th>area</th>\n",
       "      <th>X1</th>\n",
       "      <th>X2</th>\n",
       "      <th>income</th>\n",
       "    </tr>\n",
       "  </thead>\n",
       "  <tbody>\n",
       "    <tr>\n",
       "      <th>0</th>\n",
       "      <td>1</td>\n",
       "      <td>1</td>\n",
       "      <td>0</td>\n",
       "      <td>10.910632</td>\n",
       "    </tr>\n",
       "    <tr>\n",
       "      <th>6</th>\n",
       "      <td>1</td>\n",
       "      <td>0</td>\n",
       "      <td>1</td>\n",
       "      <td>5.202886</td>\n",
       "    </tr>\n",
       "    <tr>\n",
       "      <th>11</th>\n",
       "      <td>1</td>\n",
       "      <td>1</td>\n",
       "      <td>0</td>\n",
       "      <td>17.907123</td>\n",
       "    </tr>\n",
       "    <tr>\n",
       "      <th>13</th>\n",
       "      <td>1</td>\n",
       "      <td>0</td>\n",
       "      <td>0</td>\n",
       "      <td>13.238140</td>\n",
       "    </tr>\n",
       "    <tr>\n",
       "      <th>18</th>\n",
       "      <td>1</td>\n",
       "      <td>0</td>\n",
       "      <td>0</td>\n",
       "      <td>30.101651</td>\n",
       "    </tr>\n",
       "    <tr>\n",
       "      <th>19</th>\n",
       "      <td>1</td>\n",
       "      <td>0</td>\n",
       "      <td>1</td>\n",
       "      <td>21.234904</td>\n",
       "    </tr>\n",
       "    <tr>\n",
       "      <th>24</th>\n",
       "      <td>1</td>\n",
       "      <td>1</td>\n",
       "      <td>0</td>\n",
       "      <td>10.030322</td>\n",
       "    </tr>\n",
       "    <tr>\n",
       "      <th>36</th>\n",
       "      <td>1</td>\n",
       "      <td>1</td>\n",
       "      <td>0</td>\n",
       "      <td>18.802240</td>\n",
       "    </tr>\n",
       "    <tr>\n",
       "      <th>43</th>\n",
       "      <td>1</td>\n",
       "      <td>0</td>\n",
       "      <td>0</td>\n",
       "      <td>24.275218</td>\n",
       "    </tr>\n",
       "    <tr>\n",
       "      <th>45</th>\n",
       "      <td>1</td>\n",
       "      <td>0</td>\n",
       "      <td>0</td>\n",
       "      <td>18.113143</td>\n",
       "    </tr>\n",
       "    <tr>\n",
       "      <th>47</th>\n",
       "      <td>1</td>\n",
       "      <td>0</td>\n",
       "      <td>0</td>\n",
       "      <td>22.398839</td>\n",
       "    </tr>\n",
       "    <tr>\n",
       "      <th>53</th>\n",
       "      <td>1</td>\n",
       "      <td>0</td>\n",
       "      <td>0</td>\n",
       "      <td>12.225473</td>\n",
       "    </tr>\n",
       "    <tr>\n",
       "      <th>59</th>\n",
       "      <td>1</td>\n",
       "      <td>1</td>\n",
       "      <td>0</td>\n",
       "      <td>32.048469</td>\n",
       "    </tr>\n",
       "    <tr>\n",
       "      <th>64</th>\n",
       "      <td>1</td>\n",
       "      <td>0</td>\n",
       "      <td>1</td>\n",
       "      <td>35.559331</td>\n",
       "    </tr>\n",
       "    <tr>\n",
       "      <th>71</th>\n",
       "      <td>1</td>\n",
       "      <td>0</td>\n",
       "      <td>0</td>\n",
       "      <td>12.024853</td>\n",
       "    </tr>\n",
       "  </tbody>\n",
       "</table>\n",
       "</div>"
      ],
      "text/plain": [
       "    area  X1  X2     income\n",
       "0      1   1   0  10.910632\n",
       "6      1   0   1   5.202886\n",
       "11     1   1   0  17.907123\n",
       "13     1   0   0  13.238140\n",
       "18     1   0   0  30.101651\n",
       "19     1   0   1  21.234904\n",
       "24     1   1   0  10.030322\n",
       "36     1   1   0  18.802240\n",
       "43     1   0   0  24.275218\n",
       "45     1   0   0  18.113143\n",
       "47     1   0   0  22.398839\n",
       "53     1   0   0  12.225473\n",
       "59     1   1   0  32.048469\n",
       "64     1   0   1  35.559331\n",
       "71     1   0   0  12.024853"
      ]
     },
     "execution_count": 27,
     "metadata": {},
     "output_type": "execute_result"
    }
   ],
   "source": [
    "sample_size = 50\n",
    "stratum = census_data[\"area\"]\n",
    "unit_id = census_data.index\n",
    "\n",
    "sae_sample = Sample(method=\"srs\", stratification=True, with_replacement=False)\n",
    "sample, _, _ = sae_sample.select(unit_id, sample_size, stratum)\n",
    "sample_data = census_data[sample == 1]\n",
    "\n",
    "nb_obs = 15\n",
    "print(f\"\\nFirst {nb_obs} rows of the sample data\\n\")\n",
    "sample_data.head(nb_obs)"
   ]
  },
  {
   "cell_type": "markdown",
   "metadata": {},
   "source": [
    "Now that we have simulated a population(census) and selected a sample from it, we are ready to illustrate the steps of the EB method. In summary, we need the sample data with the output variable, the auxiliary variables, and the area variable. And we also need the non-sampled values of the auxiliary variables. In practice, it may challenging to get the out-of-sample auxiliary variables and even more difficult to link the sample to the census in order to partition it into sample vs out-of-sample."
   ]
  },
  {
   "cell_type": "code",
   "execution_count": 28,
   "metadata": {},
   "outputs": [],
   "source": [
    "# Sample data\n",
    "areas = sample_data[\"area\"]\n",
    "income = sample_data[\"income\"]\n",
    "Xs = sample_data[[\"X1\", \"X2\"]]\n",
    "\n",
    "# Out of sample data\n",
    "outofsample_data = census_data[sample != 1]\n",
    "arear = outofsample_data[\"area\"]\n",
    "Xr = outofsample_data[[\"X1\", \"X2\"]]"
   ]
  },
  {
   "cell_type": "markdown",
   "metadata": {},
   "source": [
    "### Fitting the linear mixed model\n",
    "\n"
   ]
  },
  {
   "cell_type": "code",
   "execution_count": 29,
   "metadata": {},
   "outputs": [
    {
     "name": "stdout",
     "output_type": "stream",
     "text": [
      "\n",
      "The estimated fixed effect using REML: [ 2.97923793  0.03629499 -0.02642623]\n",
      "\n",
      "Standard error of estimated area random effect using REML: 0.15227754550016784\n",
      "\n",
      "Standard error of estimated area random effect using REML: 0.4972377422416066\n"
     ]
    }
   ],
   "source": [
    "eb_poverty_reml = EbUnitModel(method=\"REML\", boxcox=0)\n",
    "eb_poverty_reml.fit(income, Xs, areas, intercept=True)\n",
    "\n",
    "print(f\"\\nThe estimated fixed effect using REML: {eb_poverty_reml.fixed_effects}\")\n",
    "print(\n",
    "    f\"\\nStandard error of estimated area random effect using REML: {eb_poverty_reml.re_std}\"\n",
    ")\n",
    "print(\n",
    "    f\"\\nStandard error of estimated area random effect using REML: {eb_poverty_reml.error_std}\"\n",
    ")"
   ]
  },
  {
   "cell_type": "code",
   "execution_count": 30,
   "metadata": {},
   "outputs": [
    {
     "name": "stdout",
     "output_type": "stream",
     "text": [
      "\n",
      "The ML estimated fixed effect using ML is: [ 2.97921929  0.03631835 -0.02639921]\n",
      "\n",
      "Standard error of estimated area random effect using ML: 0.15109887793783536\n",
      "\n",
      "Standard error of estimated area random effect using ML: 0.4971123962940577\n"
     ]
    }
   ],
   "source": [
    "eb_poverty_ml = EbUnitModel(method=\"ML\", boxcox=0)\n",
    "eb_poverty_ml.fit(income, Xs, areas, intercept=True)\n",
    "\n",
    "print(f\"\\nThe ML estimated fixed effect using ML is: {eb_poverty_ml.fixed_effects}\")\n",
    "print(\n",
    "    f\"\\nStandard error of estimated area random effect using ML: {eb_poverty_ml.re_std}\"\n",
    ")\n",
    "print(\n",
    "    f\"\\nStandard error of estimated area random effect using ML: {eb_poverty_ml.error_std}\"\n",
    ")"
   ]
  },
  {
   "cell_type": "markdown",
   "metadata": {},
   "source": [
    "### Prediction of area level poverty indicators"
   ]
  },
  {
   "cell_type": "code",
   "execution_count": 31,
   "metadata": {},
   "outputs": [],
   "source": [
    "def poverty_incidence(y, poverty_line=12):\n",
    "    return np.mean((y < poverty_line) * (poverty_line - y) / poverty_line)\n",
    "\n",
    "\n",
    "def poverty_gap(y, poverty_line=12):\n",
    "    return np.mean(y < poverty_line)"
   ]
  },
  {
   "cell_type": "code",
   "execution_count": 32,
   "metadata": {},
   "outputs": [
    {
     "ename": "TypeError",
     "evalue": "predict() got an unexpected keyword argument 'poverty_line'",
     "output_type": "error",
     "traceback": [
      "\u001b[0;31m---------------------------------------------------------------------------\u001b[0m",
      "\u001b[0;31mTypeError\u001b[0m                                 Traceback (most recent call last)",
      "\u001b[0;32m<ipython-input-32-9e2c7eed7e84>\u001b[0m in \u001b[0;36m<module>\u001b[0;34m\u001b[0m\n\u001b[0;32m----> 1\u001b[0;31m \u001b[0meb_poverty_reml\u001b[0m\u001b[0;34m.\u001b[0m\u001b[0mpredict\u001b[0m\u001b[0;34m(\u001b[0m\u001b[0mXr\u001b[0m\u001b[0;34m,\u001b[0m \u001b[0marear\u001b[0m\u001b[0;34m,\u001b[0m \u001b[0mpoverty_incidence\u001b[0m\u001b[0;34m,\u001b[0m \u001b[0;36m20\u001b[0m\u001b[0;34m,\u001b[0m \u001b[0mpoverty_line\u001b[0m\u001b[0;34m=\u001b[0m\u001b[0;36m12\u001b[0m\u001b[0;34m)\u001b[0m\u001b[0;34m\u001b[0m\u001b[0;34m\u001b[0m\u001b[0m\n\u001b[0m",
      "\u001b[0;31mTypeError\u001b[0m: predict() got an unexpected keyword argument 'poverty_line'"
     ]
    }
   ],
   "source": [
    "eb_poverty_reml.predict(Xr, arear, poverty_incidence, 20, poverty_line=12)"
   ]
  },
  {
   "cell_type": "code",
   "execution_count": 33,
   "metadata": {},
   "outputs": [
    {
     "data": {
      "text/plain": [
       "14"
      ]
     },
     "execution_count": 33,
     "metadata": {},
     "output_type": "execute_result"
    }
   ],
   "source": [
    "def func_test(a, b, c):\n",
    "    return a + c * b\n",
    "\n",
    "\n",
    "def higher_func(a, func_test, d=9, **kwargs):\n",
    "    return a + func_test(a, **kwargs)\n",
    "\n",
    "\n",
    "higher_func(1, func_test, b=3, c=4)"
   ]
  },
  {
   "cell_type": "code",
   "execution_count": null,
   "metadata": {},
   "outputs": [],
   "source": []
  },
  {
   "cell_type": "code",
   "execution_count": 35,
   "metadata": {},
   "outputs": [
    {
     "data": {
      "text/plain": [
       "\u001b[0;31mSignature:\u001b[0m\n",
       "\u001b[0meb_poverty_reml\u001b[0m\u001b[0;34m.\u001b[0m\u001b[0mpredict\u001b[0m\u001b[0;34m(\u001b[0m\u001b[0;34m\u001b[0m\n",
       "\u001b[0;34m\u001b[0m    \u001b[0mXr\u001b[0m\u001b[0;34m:\u001b[0m \u001b[0mUnion\u001b[0m\u001b[0;34m[\u001b[0m\u001b[0mnumpy\u001b[0m\u001b[0;34m.\u001b[0m\u001b[0mndarray\u001b[0m\u001b[0;34m,\u001b[0m \u001b[0mpandas\u001b[0m\u001b[0;34m.\u001b[0m\u001b[0mcore\u001b[0m\u001b[0;34m.\u001b[0m\u001b[0mseries\u001b[0m\u001b[0;34m.\u001b[0m\u001b[0mSeries\u001b[0m\u001b[0;34m]\u001b[0m\u001b[0;34m,\u001b[0m\u001b[0;34m\u001b[0m\n",
       "\u001b[0;34m\u001b[0m    \u001b[0marear\u001b[0m\u001b[0;34m:\u001b[0m \u001b[0mUnion\u001b[0m\u001b[0;34m[\u001b[0m\u001b[0mnumpy\u001b[0m\u001b[0;34m.\u001b[0m\u001b[0mndarray\u001b[0m\u001b[0;34m,\u001b[0m \u001b[0mpandas\u001b[0m\u001b[0;34m.\u001b[0m\u001b[0mcore\u001b[0m\u001b[0;34m.\u001b[0m\u001b[0mseries\u001b[0m\u001b[0;34m.\u001b[0m\u001b[0mSeries\u001b[0m\u001b[0;34m]\u001b[0m\u001b[0;34m,\u001b[0m\u001b[0;34m\u001b[0m\n",
       "\u001b[0;34m\u001b[0m    \u001b[0mindicator\u001b[0m\u001b[0;34m:\u001b[0m \u001b[0mCallable\u001b[0m\u001b[0;34m[\u001b[0m\u001b[0;34m...\u001b[0m\u001b[0;34m,\u001b[0m \u001b[0mUnion\u001b[0m\u001b[0;34m[\u001b[0m\u001b[0mnumpy\u001b[0m\u001b[0;34m.\u001b[0m\u001b[0mndarray\u001b[0m\u001b[0;34m,\u001b[0m \u001b[0mpandas\u001b[0m\u001b[0;34m.\u001b[0m\u001b[0mcore\u001b[0m\u001b[0;34m.\u001b[0m\u001b[0mseries\u001b[0m\u001b[0;34m.\u001b[0m\u001b[0mSeries\u001b[0m\u001b[0;34m]\u001b[0m\u001b[0;34m]\u001b[0m\u001b[0;34m,\u001b[0m\u001b[0;34m\u001b[0m\n",
       "\u001b[0;34m\u001b[0m    \u001b[0mnumber_samples\u001b[0m\u001b[0;34m:\u001b[0m \u001b[0mint\u001b[0m\u001b[0;34m,\u001b[0m\u001b[0;34m\u001b[0m\n",
       "\u001b[0;34m\u001b[0m    \u001b[0mscaler\u001b[0m\u001b[0;34m:\u001b[0m \u001b[0mUnion\u001b[0m\u001b[0;34m[\u001b[0m\u001b[0mnumpy\u001b[0m\u001b[0;34m.\u001b[0m\u001b[0mndarray\u001b[0m\u001b[0;34m,\u001b[0m \u001b[0mpandas\u001b[0m\u001b[0;34m.\u001b[0m\u001b[0mcore\u001b[0m\u001b[0;34m.\u001b[0m\u001b[0mseries\u001b[0m\u001b[0;34m.\u001b[0m\u001b[0mSeries\u001b[0m\u001b[0;34m,\u001b[0m \u001b[0mfloat\u001b[0m\u001b[0;34m,\u001b[0m \u001b[0mint\u001b[0m\u001b[0;34m]\u001b[0m \u001b[0;34m=\u001b[0m \u001b[0;36m1\u001b[0m\u001b[0;34m,\u001b[0m\u001b[0;34m\u001b[0m\n",
       "\u001b[0;34m\u001b[0m    \u001b[0mintercept\u001b[0m\u001b[0;34m:\u001b[0m \u001b[0mbool\u001b[0m \u001b[0;34m=\u001b[0m \u001b[0;32mTrue\u001b[0m\u001b[0;34m,\u001b[0m\u001b[0;34m\u001b[0m\n",
       "\u001b[0;34m\u001b[0m    \u001b[0mmax_array_length\u001b[0m\u001b[0;34m:\u001b[0m \u001b[0mint\u001b[0m \u001b[0;34m=\u001b[0m \u001b[0;36m100000000\u001b[0m\u001b[0;34m,\u001b[0m\u001b[0;34m\u001b[0m\n",
       "\u001b[0;34m\u001b[0m    \u001b[0mshow_progress\u001b[0m\u001b[0;34m:\u001b[0m \u001b[0mbool\u001b[0m \u001b[0;34m=\u001b[0m \u001b[0;32mTrue\u001b[0m\u001b[0;34m,\u001b[0m\u001b[0;34m\u001b[0m\n",
       "\u001b[0;34m\u001b[0m    \u001b[0;34m*\u001b[0m\u001b[0margs\u001b[0m\u001b[0;34m:\u001b[0m \u001b[0mAny\u001b[0m\u001b[0;34m,\u001b[0m\u001b[0;34m\u001b[0m\n",
       "\u001b[0;34m\u001b[0m\u001b[0;34m)\u001b[0m \u001b[0;34m->\u001b[0m \u001b[0;32mNone\u001b[0m\u001b[0;34m\u001b[0m\u001b[0;34m\u001b[0m\u001b[0m\n",
       "\u001b[0;31mDocstring:\u001b[0m\n",
       "Predicts the area level means and provides the taylor MSE estimation of the estimated\n",
       "area means. \n",
       "\n",
       "Args:\n",
       "    Xr (Array): an multi-dimensional array of the out of sample auxiliary variables.\n",
       "    arear (Array): provides the area of the out of sample units.\n",
       "    indicator (Callable[..., Array]): a user defined function which computes the area level\n",
       "        indicators. The function should take y (output variable) as the first parameters, \n",
       "        additional parameters can be used. Use *args* to transfer the additional \n",
       "        parameters.\n",
       "    number_samples (int): number of replicates for the Monte-Carlo (MC) algorithm.  \n",
       "    scaler (Union[Array, Number], optional): the scale factor for the unit level errors. \n",
       "        If a single number of provided, the same number will be applied to all observations. Defaults to 1.\n",
       "    intercept (bool, optional): An boolean to indicate whether an intercept need to be \n",
       "        added to Xr. Defaults to True.\n",
       "    max_array_length (int, optional): controls the number of replicates to generate at \n",
       "        the same time. This parameter helps with performance. The number can be reduce or \n",
       "        increase based on the user's computer RAM capacity. Defaults to int(100e6).\n",
       "    show_progress (bool, optional): shows a bar progress of the MC replicates \n",
       "        calculations. Defaults to True.\n",
       "\n",
       "Raises:\n",
       "    Exception: when predict() is called before fitting the model.\n",
       "\u001b[0;31mFile:\u001b[0m      ~/.pyenv/versions/3.8.1/lib/python3.8/site-packages/samplics/sae/eb_unit_model.py\n",
       "\u001b[0;31mType:\u001b[0m      method\n"
      ]
     },
     "metadata": {},
     "output_type": "display_data"
    }
   ],
   "source": [
    "eb_poverty_reml.predict?"
   ]
  },
  {
   "cell_type": "code",
   "execution_count": null,
   "metadata": {},
   "outputs": [],
   "source": []
  },
  {
   "cell_type": "code",
   "execution_count": null,
   "metadata": {},
   "outputs": [],
   "source": []
  }
 ],
 "metadata": {
  "kernelspec": {
   "display_name": "Python 3.8.1 64-bit ('3.8.1': pyenv)",
   "language": "python",
   "name": "python38164bit381pyenv989d5bceb06e4c5f9023edfc2b5b362b"
  },
  "language_info": {
   "codemirror_mode": {
    "name": "ipython",
    "version": 3
   },
   "file_extension": ".py",
   "mimetype": "text/x-python",
   "name": "python",
   "nbconvert_exporter": "python",
   "pygments_lexer": "ipython3",
   "version": "3.8.1"
  }
 },
 "nbformat": 4,
 "nbformat_minor": 4
}
