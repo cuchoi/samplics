{
 "cells": [
  {
   "cell_type": "markdown",
   "metadata": {},
   "source": [
    "## Small Area Estimation (SAE): Area Level Model"
   ]
  },
  {
   "cell_type": "markdown",
   "metadata": {},
   "source": [
    "Explain the concept of estimating a parameter of the population from the sample"
   ]
  },
  {
   "cell_type": "code",
   "execution_count": 111,
   "metadata": {},
   "outputs": [],
   "source": [
    "import numpy as np\n",
    "import pandas as pd\n",
    "\n",
    "import samplics \n",
    "from samplics.sae import EblupAreaModel"
   ]
  },
  {
   "cell_type": "markdown",
   "metadata": {},
   "source": [
    "### Milk Expenditure data\n",
    "\n",
    "To illustrate the EblupAreaModel class, we will use the Milk Expenditure dataset used in Rao and Molina (2015). As mentioned in the book, this dataset was originally used by Arora and Lahiri (1997) and later by You and Chapman (2006). For the R users, this dataset is also used by the R package sae (https://cran.r-project.org/web/packages/sae/index.html). \n",
    "\n",
    "The Milk Expenditure data contains 43 observations on the average expenditure on fresh milk for the year 1989. The datasets has the following values: major area representing (major_area), small area (small_area), sample size (samp_size), direct survey estimates of average expenditure (direct_est), standard error of the direct estimate (std_error), and coefficient of variation of the direct estimates (coef_variance). "
   ]
  },
  {
   "cell_type": "code",
   "execution_count": 112,
   "metadata": {},
   "outputs": [
    {
     "name": "stdout",
     "output_type": "stream",
     "text": [
      "\n",
      "First 15 observations of the Milk Expendure dataset\n",
      "\n"
     ]
    },
    {
     "data": {
      "text/html": [
       "<div>\n",
       "<style scoped>\n",
       "    .dataframe tbody tr th:only-of-type {\n",
       "        vertical-align: middle;\n",
       "    }\n",
       "\n",
       "    .dataframe tbody tr th {\n",
       "        vertical-align: top;\n",
       "    }\n",
       "\n",
       "    .dataframe thead th {\n",
       "        text-align: right;\n",
       "    }\n",
       "</style>\n",
       "<table border=\"1\" class=\"dataframe\">\n",
       "  <thead>\n",
       "    <tr style=\"text-align: right;\">\n",
       "      <th></th>\n",
       "      <th>major_area</th>\n",
       "      <th>small_area</th>\n",
       "      <th>samp_size</th>\n",
       "      <th>direct_est</th>\n",
       "      <th>std_error</th>\n",
       "      <th>coef_variance</th>\n",
       "    </tr>\n",
       "  </thead>\n",
       "  <tbody>\n",
       "    <tr>\n",
       "      <th>28</th>\n",
       "      <td>4</td>\n",
       "      <td>29</td>\n",
       "      <td>238</td>\n",
       "      <td>0.796</td>\n",
       "      <td>0.106</td>\n",
       "      <td>0.133</td>\n",
       "    </tr>\n",
       "    <tr>\n",
       "      <th>29</th>\n",
       "      <td>4</td>\n",
       "      <td>30</td>\n",
       "      <td>207</td>\n",
       "      <td>0.565</td>\n",
       "      <td>0.089</td>\n",
       "      <td>0.158</td>\n",
       "    </tr>\n",
       "    <tr>\n",
       "      <th>30</th>\n",
       "      <td>4</td>\n",
       "      <td>31</td>\n",
       "      <td>165</td>\n",
       "      <td>0.886</td>\n",
       "      <td>0.225</td>\n",
       "      <td>0.254</td>\n",
       "    </tr>\n",
       "    <tr>\n",
       "      <th>31</th>\n",
       "      <td>4</td>\n",
       "      <td>32</td>\n",
       "      <td>153</td>\n",
       "      <td>0.952</td>\n",
       "      <td>0.205</td>\n",
       "      <td>0.215</td>\n",
       "    </tr>\n",
       "    <tr>\n",
       "      <th>32</th>\n",
       "      <td>4</td>\n",
       "      <td>33</td>\n",
       "      <td>210</td>\n",
       "      <td>0.807</td>\n",
       "      <td>0.119</td>\n",
       "      <td>0.147</td>\n",
       "    </tr>\n",
       "    <tr>\n",
       "      <th>33</th>\n",
       "      <td>4</td>\n",
       "      <td>34</td>\n",
       "      <td>383</td>\n",
       "      <td>0.582</td>\n",
       "      <td>0.067</td>\n",
       "      <td>0.115</td>\n",
       "    </tr>\n",
       "    <tr>\n",
       "      <th>34</th>\n",
       "      <td>4</td>\n",
       "      <td>35</td>\n",
       "      <td>255</td>\n",
       "      <td>0.684</td>\n",
       "      <td>0.106</td>\n",
       "      <td>0.155</td>\n",
       "    </tr>\n",
       "    <tr>\n",
       "      <th>35</th>\n",
       "      <td>4</td>\n",
       "      <td>36</td>\n",
       "      <td>226</td>\n",
       "      <td>0.787</td>\n",
       "      <td>0.126</td>\n",
       "      <td>0.160</td>\n",
       "    </tr>\n",
       "    <tr>\n",
       "      <th>36</th>\n",
       "      <td>4</td>\n",
       "      <td>37</td>\n",
       "      <td>224</td>\n",
       "      <td>0.440</td>\n",
       "      <td>0.092</td>\n",
       "      <td>0.209</td>\n",
       "    </tr>\n",
       "    <tr>\n",
       "      <th>37</th>\n",
       "      <td>4</td>\n",
       "      <td>38</td>\n",
       "      <td>212</td>\n",
       "      <td>0.759</td>\n",
       "      <td>0.132</td>\n",
       "      <td>0.174</td>\n",
       "    </tr>\n",
       "    <tr>\n",
       "      <th>38</th>\n",
       "      <td>4</td>\n",
       "      <td>39</td>\n",
       "      <td>211</td>\n",
       "      <td>0.770</td>\n",
       "      <td>0.100</td>\n",
       "      <td>0.130</td>\n",
       "    </tr>\n",
       "    <tr>\n",
       "      <th>39</th>\n",
       "      <td>4</td>\n",
       "      <td>40</td>\n",
       "      <td>179</td>\n",
       "      <td>0.800</td>\n",
       "      <td>0.113</td>\n",
       "      <td>0.141</td>\n",
       "    </tr>\n",
       "    <tr>\n",
       "      <th>40</th>\n",
       "      <td>4</td>\n",
       "      <td>41</td>\n",
       "      <td>312</td>\n",
       "      <td>0.756</td>\n",
       "      <td>0.083</td>\n",
       "      <td>0.110</td>\n",
       "    </tr>\n",
       "    <tr>\n",
       "      <th>41</th>\n",
       "      <td>4</td>\n",
       "      <td>42</td>\n",
       "      <td>241</td>\n",
       "      <td>0.865</td>\n",
       "      <td>0.121</td>\n",
       "      <td>0.140</td>\n",
       "    </tr>\n",
       "    <tr>\n",
       "      <th>42</th>\n",
       "      <td>4</td>\n",
       "      <td>43</td>\n",
       "      <td>205</td>\n",
       "      <td>0.640</td>\n",
       "      <td>0.129</td>\n",
       "      <td>0.202</td>\n",
       "    </tr>\n",
       "  </tbody>\n",
       "</table>\n",
       "</div>"
      ],
      "text/plain": [
       "    major_area  small_area  samp_size  direct_est  std_error  coef_variance\n",
       "28           4          29        238       0.796      0.106          0.133\n",
       "29           4          30        207       0.565      0.089          0.158\n",
       "30           4          31        165       0.886      0.225          0.254\n",
       "31           4          32        153       0.952      0.205          0.215\n",
       "32           4          33        210       0.807      0.119          0.147\n",
       "33           4          34        383       0.582      0.067          0.115\n",
       "34           4          35        255       0.684      0.106          0.155\n",
       "35           4          36        226       0.787      0.126          0.160\n",
       "36           4          37        224       0.440      0.092          0.209\n",
       "37           4          38        212       0.759      0.132          0.174\n",
       "38           4          39        211       0.770      0.100          0.130\n",
       "39           4          40        179       0.800      0.113          0.141\n",
       "40           4          41        312       0.756      0.083          0.110\n",
       "41           4          42        241       0.865      0.121          0.140\n",
       "42           4          43        205       0.640      0.129          0.202"
      ]
     },
     "execution_count": 112,
     "metadata": {},
     "output_type": "execute_result"
    }
   ],
   "source": [
    "milk_exp = pd.read_csv(\"../../../datasets/docs/expenditure_on_milk.csv\")\n",
    "\n",
    "nb_obs = 15\n",
    "print(f\"\\nFirst {nb_obs} observations of the Milk Expendure dataset\\n\")\n",
    "milk_exp.tail(nb_obs)"
   ]
  },
  {
   "cell_type": "markdown",
   "metadata": {},
   "source": [
    "### Empirical Bayes linear unbiased predictor (EBLUP)\n",
    "\n",
    "As shown in the milk expenditure datasets, some of the coefficients of variation are not small which indicates unstability of the direct survey estimates. Hence, we can try to reduce the variability of the estimates by smoothing them through modeling. For illustration purpose, we will model the average expenditure on milk using the major areas as auxiliary variables.\n",
    "\n",
    "First, we use the method *fit()* to estimate the model parameters. The pandas's method *get_dummies()* create a matrix with dummy values (0 and 1) from the categorical variable *major_area*. "
   ]
  },
  {
   "cell_type": "code",
   "execution_count": 113,
   "metadata": {},
   "outputs": [
    {
     "name": "stdout",
     "output_type": "stream",
     "text": [
      "\n",
      "The estimated fixed effects are: [ 0.96818899  0.13278031  0.22694622 -0.24130104]\n",
      "\n",
      "The estimated standard error of the area random effects is: 0.136199615091212\n",
      "\n",
      "The convergence statistics are: {'achieved': True, 'iterations': 7, 'precision': 4.8490397079603564e-09}\n",
      "\n",
      "The goodness of fit statistics are: {'loglike': -9.403474415513806, 'AIC': 30.80694883102761, 'BIC': 41.37414952518898}\n",
      "\n"
     ]
    }
   ],
   "source": [
    "area = milk_exp[\"small_area\"]\n",
    "yhat = milk_exp[\"direct_est\"]\n",
    "X = pd.get_dummies(milk_exp[\"major_area\"],drop_first=True)\n",
    "sigma_e = milk_exp[\"std_error\"]\n",
    "\n",
    "## REML method\n",
    "fh_model_reml = EblupAreaModel(method=\"REML\")\n",
    "fh_model_reml.fit(\n",
    "    yhat=yhat, X=X, area=area, error_std=sigma_e, tol=1e-8,\n",
    ")\n",
    "\n",
    "print(f\"\\nThe estimated fixed effects are: {fh_model_reml.fixed_effects}\")\n",
    "print(f\"\\nThe estimated standard error of the area random effects is: {fh_model_reml.re_std}\")\n",
    "print(f\"\\nThe convergence statistics are: {fh_model_reml.convergence}\")\n",
    "print(f\"\\nThe goodness of fit statistics are: {fh_model_reml.goodness}\\n\")"
   ]
  },
  {
   "cell_type": "markdown",
   "metadata": {},
   "source": [
    "Now the the model has been fitted, we can obtain the EBLUP average expenditure on milk by running *predict()* which is a method of *EblupAreaModel* class. This run will produce two main attributes that is *area_est* and *area_mse* which are python dictionaries pairing the small areas to the eblup estimates and the MSE estimates, respectively."
   ]
  },
  {
   "cell_type": "code",
   "execution_count": 114,
   "metadata": {},
   "outputs": [
    {
     "name": "stdout",
     "output_type": "stream",
     "text": [
      "{1: 1.0219705448470267,\n",
      " 2: 1.0476019518832937,\n",
      " 3: 1.0679514268850938,\n",
      " 4: 0.7608165634164006,\n",
      " 5: 0.8461570426977274,\n",
      " 6: 0.9743727062092652,\n",
      " 7: 1.0584526732855357,\n",
      " 8: 1.0977762564423168,\n",
      " 9: 1.2215454913423593,\n",
      " 10: 1.1951460164712615,\n",
      " 11: 0.7852149170863973,\n",
      " 12: 1.2139462074222371,\n",
      " 13: 1.2096597223605203,\n",
      " 14: 0.9834964402356507,\n",
      " 15: 1.186424709535009,\n",
      " 16: 1.1556981135233584,\n",
      " 17: 1.22634125101869,\n",
      " 18: 1.2856489898727417,\n",
      " 19: 1.2363248413266228,\n",
      " 20: 1.2349601399238859,\n",
      " 21: 1.090301626523384,\n",
      " 22: 1.1923057228469687,\n",
      " 23: 1.1216467660137082,\n",
      " 24: 1.2230297222963116,\n",
      " 25: 1.1938054444127775,\n",
      " 26: 0.7627195900552479,\n",
      " 27: 0.7649551536523862,\n",
      " 28: 0.7338443883489107,\n",
      " 29: 0.7699295545743627,\n",
      " 30: 0.6134416227081902,\n",
      " 31: 0.7695560730689732,\n",
      " 32: 0.795825312822418,\n",
      " 33: 0.7723188482183636,\n",
      " 34: 0.6102300678743078,\n",
      " 35: 0.7001781895145358,\n",
      " 36: 0.7592788108093533,\n",
      " 37: 0.52988633522673,\n",
      " 38: 0.7434466782997076,\n",
      " 39: 0.7548996333852704,\n",
      " 40: 0.7701919661644319,\n",
      " 41: 0.7481164240189866,\n",
      " 42: 0.8040775166023051,\n",
      " 43: 0.681086884699363}\n"
     ]
    }
   ],
   "source": [
    "fh_model_reml.predict(\n",
    "    X=X, area=area,\n",
    ")\n",
    "\n",
    "import pprint\n",
    "pprint.pprint(fh_model_reml.area_est)"
   ]
  },
  {
   "cell_type": "markdown",
   "metadata": {},
   "source": [
    "We can use the "
   ]
  },
  {
   "cell_type": "code",
   "execution_count": 117,
   "metadata": {},
   "outputs": [
    {
     "ename": "AttributeError",
     "evalue": "'EblupAreaModel' object has no attribute 'to_dataframe'",
     "output_type": "error",
     "traceback": [
      "\u001b[0;31m---------------------------------------------------------------------------\u001b[0m",
      "\u001b[0;31mAttributeError\u001b[0m                            Traceback (most recent call last)",
      "\u001b[0;32m<ipython-input-117-afd805224946>\u001b[0m in \u001b[0;36m<module>\u001b[0;34m\u001b[0m\n\u001b[0;32m----> 1\u001b[0;31m \u001b[0mmilk_est\u001b[0m \u001b[0;34m=\u001b[0m \u001b[0mfh_model_reml\u001b[0m\u001b[0;34m.\u001b[0m\u001b[0mto_dataframe\u001b[0m\u001b[0;34m(\u001b[0m\u001b[0;34m)\u001b[0m\u001b[0;34m\u001b[0m\u001b[0;34m\u001b[0m\u001b[0m\n\u001b[0m\u001b[1;32m      2\u001b[0m \u001b[0mprint\u001b[0m\u001b[0;34m(\u001b[0m\u001b[0mmilk_est\u001b[0m\u001b[0;34m)\u001b[0m\u001b[0;34m\u001b[0m\u001b[0;34m\u001b[0m\u001b[0m\n",
      "\u001b[0;31mAttributeError\u001b[0m: 'EblupAreaModel' object has no attribute 'to_dataframe'"
     ]
    }
   ],
   "source": [
    "milk_est = fh_model_reml.to_dataframe()\n",
    "print(milk_est)\n"
   ]
  },
  {
   "cell_type": "code",
   "execution_count": 100,
   "metadata": {},
   "outputs": [],
   "source": [
    "def dict_to_dataframe(col_names, *args):\n",
    "    \n",
    "    values = []\n",
    "    for k, arg in enumerate(args):\n",
    "        if not isinstance(arg, dict):\n",
    "            raise AssertionError(\"All input parameters must be dictionaries with the same keys.\")\n",
    "\n",
    "        values.append(list(arg.values()))\n",
    "        \n",
    "    values_df = pd.DataFrame(values,).T\n",
    "    values_df.insert(0, \"0\", list(args[0].keys()))\n",
    "    values_df.columns = col_names\n",
    "    \n",
    "    return values_df"
   ]
  },
  {
   "cell_type": "code",
   "execution_count": 101,
   "metadata": {},
   "outputs": [
    {
     "name": "stdout",
     "output_type": "stream",
     "text": [
      "    area  estimate       mse\n",
      "0      1  1.021971  0.013460\n",
      "1      2  1.047602  0.005373\n",
      "2      3  1.067951  0.005702\n",
      "3      4  0.760817  0.008542\n",
      "4      5  0.846157  0.009580\n",
      "5      6  0.974373  0.011671\n",
      "6      7  1.058453  0.015926\n",
      "7      8  1.097776  0.010587\n",
      "8      9  1.221545  0.014184\n",
      "9     10  1.195146  0.014902\n",
      "10    11  0.785215  0.007694\n",
      "11    12  1.213946  0.016337\n",
      "12    13  1.209660  0.012563\n",
      "13    14  0.983496  0.012117\n",
      "14    15  1.186425  0.012031\n",
      "15    16  1.155698  0.011709\n",
      "16    17  1.226341  0.010860\n",
      "17    18  1.285649  0.013691\n",
      "18    19  1.236325  0.011035\n",
      "19    20  1.234960  0.013080\n",
      "20    21  1.090302  0.009949\n",
      "21    22  1.192306  0.017244\n",
      "22    23  1.121647  0.011292\n",
      "23    24  1.223030  0.013625\n",
      "24    25  1.193805  0.008066\n",
      "25    26  0.762720  0.009205\n",
      "26    27  0.764955  0.009205\n",
      "27    28  0.733844  0.016477\n",
      "28    29  0.769930  0.007801\n",
      "29    30  0.613442  0.006099\n",
      "30    31  0.769556  0.015442\n",
      "31    32  0.795825  0.014658\n",
      "32    33  0.772319  0.009025\n",
      "33    34  0.610230  0.003871\n",
      "34    35  0.700178  0.007801\n",
      "35    36  0.759279  0.009646\n",
      "36    37  0.529886  0.006404\n",
      "37    38  0.743447  0.010156\n",
      "38    39  0.754900  0.007210\n",
      "39    40  0.770192  0.008470\n",
      "40    41  0.748116  0.005485\n",
      "41    42  0.804078  0.009205\n",
      "42    43  0.681087  0.009904\n"
     ]
    }
   ],
   "source": [
    "area_est = fh_model_reml.area_est\n",
    "area_mse = fh_model_reml.area_mse\n",
    "\n",
    "est_data = dict_to_dataframe([\"area\", \"estimate\", \"mse\"], area_est, area_mse)\n",
    "\n",
    "print(est_data)"
   ]
  },
  {
   "cell_type": "code",
   "execution_count": null,
   "metadata": {},
   "outputs": [],
   "source": []
  },
  {
   "cell_type": "code",
   "execution_count": null,
   "metadata": {},
   "outputs": [],
   "source": []
  }
 ],
 "metadata": {
  "kernelspec": {
   "display_name": "Python 3.6.7 64-bit ('.venv': venv)",
   "language": "python",
   "name": "python36764bitvenvvenv391d0bae624c416dbf93218f3ec89504"
  },
  "language_info": {
   "codemirror_mode": {
    "name": "ipython",
    "version": 3
   },
   "file_extension": ".py",
   "mimetype": "text/x-python",
   "name": "python",
   "nbconvert_exporter": "python",
   "pygments_lexer": "ipython3",
   "version": "3.6.7"
  }
 },
 "nbformat": 4,
 "nbformat_minor": 4
}
