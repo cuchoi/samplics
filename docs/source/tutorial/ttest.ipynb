{
 "cells": [
  {
   "cell_type": "markdown",
   "metadata": {},
   "source": [
    "# T-test "
   ]
  },
  {
   "cell_type": "markdown",
   "metadata": {},
   "source": [
    "The t-test module allows comparing means of continuous variables of interest to known means or across two groups. There are four main types of comparisons. \n",
    "- Comparison of one-sample mean to a known mean\n",
    "- Comparison of two groups from the same sample\n",
    "- Comparison of two means from two different samples\n",
    "- Comparison of two paired means\n",
    "\n",
    "There is one main class ```Ttest()``` which covers all four type of comparisons. To run a comparison, the user call the method ```compare()```."
   ]
  },
  {
   "cell_type": "code",
   "execution_count": 17,
   "metadata": {},
   "outputs": [],
   "source": [
    "import numpy as np\n",
    "import pandas as pd\n",
    "\n",
    "from pprint import pprint\n",
    "\n",
    "from samplics.categorical.comparison import Ttest"
   ]
  },
  {
   "cell_type": "markdown",
   "metadata": {},
   "source": [
    "## Comparison of one-sample mean to a knowm mean"
   ]
  },
  {
   "cell_type": "markdown",
   "metadata": {},
   "source": [
    "For this comparison, the mean of a continuous variable is compared to a know mean. In the example below, the user is testing whether the average mpg is equal to 20. Hence, the null hypothesis is **H0: mean(mpg) = 20**. There are three possible alternatives for this null hypotheses which are \n",
    "- Ha: mean(mpg) < 20 (less_than alternative)\n",
    "- Ha: mean(mpg) > 20 (greater_than alternative)\n",
    "- Ha: Ha: mean(mpg) != 20 (not_equal alternative)\n",
    "\n",
    "All three alternatives are automatically computed by the method ```compare()```. This behavior is similar across the four type of comparisons. "
   ]
  },
  {
   "cell_type": "code",
   "execution_count": 18,
   "metadata": {},
   "outputs": [
    {
     "name": "stdout",
     "output_type": "stream",
     "text": [
      "\n",
      "Design-based One-Sample T-test\n",
      " Null hypothesis (Ho): mean = 20\n",
      " t statictics: 1.9289\n",
      " Degrees of freedom: 73.00\n",
      " Alternative hypothesis (Ha):\n",
      "  Prob(T < t) = 0.9712\n",
      "  Prob(|T| > |t|) = 0.0576\n",
      "  Prob(T > t) = 0.0288 \n",
      "\n",
      " Nb. Obs       Mean  Std. Error  Std. Dev.   Lower CI  Upper CI\n",
      "      74  21.297297    0.672551   5.785503  19.956905  22.63769\n",
      "\n"
     ]
    }
   ],
   "source": [
    "auto = pd.read_csv(\"../../../datasets/docs/auto.csv\")\n",
    "\n",
    "mpg = auto[\"mpg\"]\n",
    "\n",
    "one_sample_known_mean = Ttest(samp_type=\"one-sample\")\n",
    "one_sample_known_mean.compare(y=mpg, known_mean=20)\n",
    "\n",
    "print(one_sample_known_mean)"
   ]
  },
  {
   "cell_type": "markdown",
   "metadata": {},
   "source": [
    "The print below shows the information encapsulated by the class. ```point_est``` provides the sample mean. Similarly ```stderror, stddev, lower_ci, and upper_ci``` provide the standard error, standard deviation, lower bound confidence interval (CI), and upper bound CI, respectively. The class member ```stats``` provides the statistics related to the t-test. There are other information around the characteristics of the t-test. "
   ]
  },
  {
   "cell_type": "code",
   "execution_count": 40,
   "metadata": {},
   "outputs": [
    {
     "name": "stdout",
     "output_type": "stream",
     "text": [
      "{'alpha': 0.05,\n",
      " 'deff': {},\n",
      " 'group_levels': {},\n",
      " 'group_names': [],\n",
      " 'lower_ci': 19.956904913980306,\n",
      " 'paired': False,\n",
      " 'point_est': 21.2972972972973,\n",
      " 'samp_type': 'one-sample',\n",
      " 'stats': {'df': 73,\n",
      "           'known_mean': 20,\n",
      "           'number_obs': 74,\n",
      "           'p_value': {'greater_than': 0.02881433507499831,\n",
      "                       'less_than': 0.9711856649250017,\n",
      "                       'not_equal': 0.05762867014999663},\n",
      "           't': 1.9289200809064198},\n",
      " 'stddev': 5.785503209735141,\n",
      " 'stderror': 0.6725510870764976,\n",
      " 'upper_ci': 22.63768968061429,\n",
      " 'vars_names': ['mpg']}\n"
     ]
    }
   ],
   "source": [
    "pprint(one_sample_known_mean.__dict__)"
   ]
  },
  {
   "cell_type": "markdown",
   "metadata": {},
   "source": [
    "## Comparison of two groups from the same sample "
   ]
  },
  {
   "cell_type": "markdown",
   "metadata": {},
   "source": [
    "This type of comparison is used when the two groups are from the sample. For example, after running a survey, the user want to know if the domestic cars have the same mpg on average compare to the foreign cars. The parameter ```group``` indicates the categorical variable. "
   ]
  },
  {
   "cell_type": "code",
   "execution_count": 41,
   "metadata": {},
   "outputs": [
    {
     "name": "stdout",
     "output_type": "stream",
     "text": [
      "\n",
      "Design-based One-Sample T-test\n",
      " Null hypothesis (Ho): mean(Domestic) = mean(Foreign) \n",
      " Equal variance assumption:\n",
      "  t statictics: -3.6632\n",
      "  Degrees of freedom: 72.00\n",
      "  Alternative hypothesis (Ha):\n",
      "   Prob(T < t) = 0.0002\n",
      "   Prob(|T| > |t|) = 0.0005\n",
      "   Prob(T > t) = 0.9998\n",
      " Unequal variance assumption:\n",
      "  t statictics: -3.2245\n",
      "  Degrees of freedom: 30.81\n",
      "  Alternative hypothesis (Ha):\n",
      "   Prob(T < t) = 0.0015\n",
      "   Prob(|T| > |t|) = 0.0030\n",
      "   Prob(T > t) = 0.9985 \n",
      "\n",
      "    Group  Nb. Obs       Mean  Std. Error  Std. Dev.   Lower CI   Upper CI\n",
      " Domestic       52  19.826923    0.655868   4.729532  18.519780  21.134066\n",
      "  Foreign       22  24.772727    1.386503   6.503276  22.009431  27.536024\n",
      "\n"
     ]
    }
   ],
   "source": [
    "foreign = auto[\"foreign\"]\n",
    "\n",
    "one_sample_two_groups = Ttest(samp_type=\"one-sample\")\n",
    "one_sample_two_groups.compare(y=mpg, group=foreign)\n",
    "\n",
    "print(one_sample_two_groups)"
   ]
  },
  {
   "cell_type": "markdown",
   "metadata": {},
   "source": [
    "Since there are two groups for this comparison, the sample mean, standard error, standard deviation, lower bound CI, and upper bound CI are provided by group as Python dictionnaries. The class member ```stats``` provides statistics for the comparison assuming both equal and unequal variances. "
   ]
  },
  {
   "cell_type": "code",
   "execution_count": 36,
   "metadata": {},
   "outputs": [
    {
     "name": "stdout",
     "output_type": "stream",
     "text": [
      "\n",
      "These are the group means for mpg: {'Domestic': 19.826923076923077, 'Foreign': 24.772727272727273}\n",
      "\n",
      "These are the group standard error for mpg: {'Domestic': 0.6558681110509441, 'Foreign': 1.3865030562044942}\n",
      "\n",
      "These are the group standard deviation for mpg: {'Domestic': 4.7295322086717775, 'Foreign': 6.50327578586491}\n",
      "\n",
      "These are the computed statistics:\n",
      "\n",
      "{'df_eq_variance': 72,\n",
      " 'df_uneq_variance': 30.814287872636015,\n",
      " 'number_obs': {'Domestic': 52, 'Foreign': 22},\n",
      " 'p_value_eq_variance': {'greater_than': 0.9997637712766184,\n",
      "                         'less_than': 0.00023622872338158247,\n",
      "                         'not_equal': 0.00047245744676316495},\n",
      " 'p_value_uneq_variance': {'greater_than': 0.9985090924569335,\n",
      "                           'less_than': 0.0014909075430664899,\n",
      "                           'not_equal': 0.0029818150861329797},\n",
      " 't_eq_variance': -3.663245852011623,\n",
      " 't_uneq_variance': -3.2245353733260638}\n"
     ]
    }
   ],
   "source": [
    "print(f\"\\nThese are the group means for mpg: {one_sample_two_groups.point_est}\\n\")\n",
    "\n",
    "print(f\"These are the group standard error for mpg: {one_sample_two_groups.stderror}\\n\")\n",
    "\n",
    "print(f\"These are the group standard deviation for mpg: {one_sample_two_groups.stddev}\\n\")\n",
    "\n",
    "print(\"These are the computed statistics:\\n\")\n",
    "pprint(one_sample_two_groups.stats)"
   ]
  },
  {
   "cell_type": "markdown",
   "metadata": {},
   "source": [
    "## Comparison of two means from two different samples"
   ]
  },
  {
   "cell_type": "markdown",
   "metadata": {},
   "source": [
    "This type of comparison should be used when the two groups come from different samples or different strata. Otherwise, the information is similar to the previous test. Note that, when instantiating the class, we used ```samp_type=\"two-sample\"```. "
   ]
  },
  {
   "cell_type": "code",
   "execution_count": 11,
   "metadata": {},
   "outputs": [
    {
     "name": "stdout",
     "output_type": "stream",
     "text": [
      "\n",
      "Design-based Two-Sample T-test\n",
      " Null hypothesis (Ho): mean(Domestic) = mean(Foreign) \n",
      " Equal variance assumption:\n",
      "  t statictics: -3.6308\n",
      "  Degrees of freedom: 72.00\n",
      "  Alternative hypothesis (Ha):\n",
      "   Prob(T < t) = 0.0003\n",
      "   Prob(|T| > |t|) = 0.0005\n",
      "   Prob(T > t) = 0.9997\n",
      " Unequal variance assumption:\n",
      "  t statictics: -3.1797\n",
      "  Degrees of freedom: 30.55\n",
      "  Alternative hypothesis (Ha):\n",
      "   Prob(T < t) = 0.0017\n",
      "   Prob(|T| > |t|) = 0.0034\n",
      "   Prob(T > t) = 0.9983 \n",
      "\n",
      "    Group  Nb. Obs       Mean  Std. Error  Std. Dev.   Lower CI   Upper CI\n",
      " Domestic       52  19.826923    0.657777   4.743297  18.506381  21.147465\n",
      "  Foreign       22  24.772727    1.409510   6.611187  21.841491  27.703963\n",
      "\n"
     ]
    }
   ],
   "source": [
    "two_samples_unpaired = Ttest(samp_type=\"two-sample\", paired=False)\n",
    "two_samples_unpaired.compare(y=mpg, group=foreign)\n",
    "\n",
    "print(two_samples_unpaired)"
   ]
  },
  {
   "cell_type": "code",
   "execution_count": 44,
   "metadata": {},
   "outputs": [
    {
     "name": "stdout",
     "output_type": "stream",
     "text": [
      "\n",
      "These are the group means for mpg: {'Domestic': 19.826923076923077, 'Foreign': 24.772727272727273}\n",
      "\n",
      "These are the group standard error for mpg: {'Domestic': 0.6577769784877485, 'Foreign': 1.409509782735444}\n",
      "\n",
      "These are the group standard deviation for mpg: {'Domestic': 4.743297247514701, 'Foreign': 6.611186898567625}\n",
      "\n",
      "These are the computed statistics:\n",
      "\n",
      "{'df_eq_variance': 72,\n",
      " 'df_uneq_variance': 30.54627772512107,\n",
      " 'number_obs': {'Domestic': 52, 'Foreign': 22},\n",
      " 'p_value_eq_variance': {'greater_than': 0.9997372920330829,\n",
      "                         'less_than': 0.00026270796691710014,\n",
      "                         'not_equal': 0.0005254159338342003},\n",
      " 'p_value_uneq_variance': {'greater_than': 0.9983149592187673,\n",
      "                           'less_than': 0.0016850407812326064,\n",
      "                           'not_equal': 0.003370081562465213},\n",
      " 't_eq_variance': -3.6308484477318372,\n",
      " 't_uneq_variance': -3.1796851846684073}\n"
     ]
    }
   ],
   "source": [
    "print(f\"\\nThese are the group means for mpg: {two_samples_unpaired.point_est}\\n\")\n",
    "\n",
    "print(f\"These are the group standard error for mpg: {two_samples_unpaired.stderror}\\n\")\n",
    "\n",
    "print(f\"These are the group standard deviation for mpg: {two_samples_unpaired.stddev}\\n\")\n",
    "\n",
    "print(\"These are the computed statistics:\\n\")\n",
    "pprint(two_samples_unpaired.stats)"
   ]
  },
  {
   "cell_type": "markdown",
   "metadata": {},
   "source": [
    "## Comparison of two paired means"
   ]
  },
  {
   "cell_type": "markdown",
   "metadata": {},
   "source": [
    "When two measures are taken from the same observations, the paired t-test is appropriate for comparing the means. "
   ]
  },
  {
   "cell_type": "code",
   "execution_count": 13,
   "metadata": {},
   "outputs": [
    {
     "name": "stdout",
     "output_type": "stream",
     "text": [
      "\n",
      "Design-based Two-Sample T-test\n",
      " Null hypothesis (Ho): mean(Diff = y1 - y2) = 0\n",
      " t statictics: 0.8733\n",
      " Degrees of freedom: 73.00\n",
      " Alternative hypothesis (Ha):\n",
      "  Prob(T < t) = 0.8073\n",
      "  Prob(|T| > |t|) = 0.3853\n",
      "  Prob(T > t) = 0.1927 \n",
      "\n",
      " Nb. Obs          Mean    Std. Error  Std. Dev.      Lower CI  Upper CI\n",
      "      74  4.054054e-07  4.641962e-07   0.000004 -5.197363e-07  0.000001\n",
      "\n"
     ]
    }
   ],
   "source": [
    "two_samples_paired = Ttest(samp_type=\"two-sample\", paired=True)\n",
    "two_samples_paired.compare(y=auto[[\"y1\", \"y2\"]], group=foreign)\n",
    "\n",
    "print(two_samples_paired)"
   ]
  },
  {
   "cell_type": "markdown",
   "metadata": {},
   "source": [
    "```varnames``` can be used rename teh variables"
   ]
  },
  {
   "cell_type": "code",
   "execution_count": 46,
   "metadata": {},
   "outputs": [
    {
     "name": "stdout",
     "output_type": "stream",
     "text": [
      "\n",
      "Design-based Two-Sample T-test\n",
      " Null hypothesis (Ho): mean(Diff = group_1 - gourp_2) = 0\n",
      " t statictics: 0.8733\n",
      " Degrees of freedom: 73.00\n",
      " Alternative hypothesis (Ha):\n",
      "  Prob(T < t) = 0.8073\n",
      "  Prob(|T| > |t|) = 0.3853\n",
      "  Prob(T > t) = 0.1927 \n",
      "\n",
      " Nb. Obs          Mean    Std. Error  Std. Dev.      Lower CI  Upper CI\n",
      "      74  4.054054e-07  4.641962e-07   0.000004 -5.197363e-07  0.000001\n",
      "\n"
     ]
    }
   ],
   "source": [
    "y1 = auto[\"y1\"]\n",
    "y2 = auto[\"y2\"]\n",
    "\n",
    "two_samples_paired = Ttest(samp_type=\"two-sample\", paired=True)\n",
    "two_samples_paired.compare(y=[y1, y2], varnames= [\"group_1\", \"gourp_2\"], group=foreign)\n",
    "\n",
    "print(two_samples_paired)"
   ]
  }
 ],
 "metadata": {
  "kernelspec": {
   "display_name": ".venv",
   "language": "python",
   "name": ".venv"
  },
  "language_info": {
   "codemirror_mode": {
    "name": "ipython",
    "version": 3
   },
   "file_extension": ".py",
   "mimetype": "text/x-python",
   "name": "python",
   "nbconvert_exporter": "python",
   "pygments_lexer": "ipython3",
   "version": "3.8.3"
  }
 },
 "nbformat": 4,
 "nbformat_minor": 4
}
