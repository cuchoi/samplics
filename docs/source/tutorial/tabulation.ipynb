{
 "cells": [
  {
   "cell_type": "markdown",
   "metadata": {},
   "source": [
    "# Tabulation of categorical data"
   ]
  },
  {
   "cell_type": "markdown",
   "metadata": {},
   "source": [
    "In this tutorial, we will explore samplics' APIs for creating design-based tabulation. There are two main python classes for tabulation. ```Tabulation()``` for one-way tables and ```CrossTabulation()``` for two-way tables. "
   ]
  },
  {
   "cell_type": "code",
   "execution_count": 1,
   "metadata": {},
   "outputs": [
    {
     "name": "stderr",
     "output_type": "stream",
     "text": [
      "/Users/msdiallo/Dev/survey-methods/samplics/.venv/lib/python3.8/site-packages/statsmodels/tools/_testing.py:19: FutureWarning: pandas.util.testing is deprecated. Use the functions in the public API at pandas.testing instead.\n",
      "  import pandas.util.testing as tm\n"
     ]
    }
   ],
   "source": [
    "import numpy as np\n",
    "import pandas as pd\n",
    "\n",
    "import samplics \n",
    "from samplics.categorical import Tabulation, CrossTabulation"
   ]
  },
  {
   "cell_type": "markdown",
   "metadata": {},
   "source": [
    "## One-way tabulation"
   ]
  },
  {
   "cell_type": "markdown",
   "metadata": {},
   "source": [
    "The birth dataset has four variables: region, agecat, birthcat, and pop. The variables agecat and birthcat are categirical. By default, pandas reads them as numerical. We could change this by using ```dtype=\"string\"``` or ``` dtype=\"category\"```. "
   ]
  },
  {
   "cell_type": "code",
   "execution_count": 2,
   "metadata": {},
   "outputs": [
    {
     "data": {
      "text/html": [
       "<div>\n",
       "<style scoped>\n",
       "    .dataframe tbody tr th:only-of-type {\n",
       "        vertical-align: middle;\n",
       "    }\n",
       "\n",
       "    .dataframe tbody tr th {\n",
       "        vertical-align: top;\n",
       "    }\n",
       "\n",
       "    .dataframe thead th {\n",
       "        text-align: right;\n",
       "    }\n",
       "</style>\n",
       "<table border=\"1\" class=\"dataframe\">\n",
       "  <thead>\n",
       "    <tr style=\"text-align: right;\">\n",
       "      <th></th>\n",
       "      <th>region</th>\n",
       "      <th>agecat</th>\n",
       "      <th>birthcat</th>\n",
       "      <th>pop</th>\n",
       "    </tr>\n",
       "  </thead>\n",
       "  <tbody>\n",
       "    <tr>\n",
       "      <th>0</th>\n",
       "      <td>1</td>\n",
       "      <td>1</td>\n",
       "      <td>1</td>\n",
       "      <td>28152</td>\n",
       "    </tr>\n",
       "    <tr>\n",
       "      <th>1</th>\n",
       "      <td>1</td>\n",
       "      <td>1</td>\n",
       "      <td>1</td>\n",
       "      <td>103101</td>\n",
       "    </tr>\n",
       "    <tr>\n",
       "      <th>2</th>\n",
       "      <td>1</td>\n",
       "      <td>1</td>\n",
       "      <td>1</td>\n",
       "      <td>113299</td>\n",
       "    </tr>\n",
       "    <tr>\n",
       "      <th>3</th>\n",
       "      <td>1</td>\n",
       "      <td>1</td>\n",
       "      <td>1</td>\n",
       "      <td>112028</td>\n",
       "    </tr>\n",
       "    <tr>\n",
       "      <th>4</th>\n",
       "      <td>1</td>\n",
       "      <td>1</td>\n",
       "      <td>1</td>\n",
       "      <td>99588</td>\n",
       "    </tr>\n",
       "    <tr>\n",
       "      <th>5</th>\n",
       "      <td>1</td>\n",
       "      <td>1</td>\n",
       "      <td>1</td>\n",
       "      <td>22356</td>\n",
       "    </tr>\n",
       "    <tr>\n",
       "      <th>6</th>\n",
       "      <td>1</td>\n",
       "      <td>1</td>\n",
       "      <td>1</td>\n",
       "      <td>102926</td>\n",
       "    </tr>\n",
       "    <tr>\n",
       "      <th>7</th>\n",
       "      <td>1</td>\n",
       "      <td>1</td>\n",
       "      <td>1</td>\n",
       "      <td>12627</td>\n",
       "    </tr>\n",
       "    <tr>\n",
       "      <th>8</th>\n",
       "      <td>1</td>\n",
       "      <td>1</td>\n",
       "      <td>1</td>\n",
       "      <td>112885</td>\n",
       "    </tr>\n",
       "    <tr>\n",
       "      <th>9</th>\n",
       "      <td>1</td>\n",
       "      <td>1</td>\n",
       "      <td>1</td>\n",
       "      <td>150297</td>\n",
       "    </tr>\n",
       "    <tr>\n",
       "      <th>10</th>\n",
       "      <td>1</td>\n",
       "      <td>1</td>\n",
       "      <td>1</td>\n",
       "      <td>52785</td>\n",
       "    </tr>\n",
       "    <tr>\n",
       "      <th>11</th>\n",
       "      <td>1</td>\n",
       "      <td>1</td>\n",
       "      <td>2</td>\n",
       "      <td>109108</td>\n",
       "    </tr>\n",
       "    <tr>\n",
       "      <th>12</th>\n",
       "      <td>1</td>\n",
       "      <td>1</td>\n",
       "      <td>2</td>\n",
       "      <td>87768</td>\n",
       "    </tr>\n",
       "    <tr>\n",
       "      <th>13</th>\n",
       "      <td>1</td>\n",
       "      <td>1</td>\n",
       "      <td>2</td>\n",
       "      <td>175886</td>\n",
       "    </tr>\n",
       "    <tr>\n",
       "      <th>14</th>\n",
       "      <td>1</td>\n",
       "      <td>1</td>\n",
       "      <td>2</td>\n",
       "      <td>107847</td>\n",
       "    </tr>\n",
       "  </tbody>\n",
       "</table>\n",
       "</div>"
      ],
      "text/plain": [
       "    region agecat birthcat     pop\n",
       "0        1      1        1   28152\n",
       "1        1      1        1  103101\n",
       "2        1      1        1  113299\n",
       "3        1      1        1  112028\n",
       "4        1      1        1   99588\n",
       "5        1      1        1   22356\n",
       "6        1      1        1  102926\n",
       "7        1      1        1   12627\n",
       "8        1      1        1  112885\n",
       "9        1      1        1  150297\n",
       "10       1      1        1   52785\n",
       "11       1      1        2  109108\n",
       "12       1      1        2   87768\n",
       "13       1      1        2  175886\n",
       "14       1      1        2  107847"
      ]
     },
     "execution_count": 2,
     "metadata": {},
     "output_type": "execute_result"
    }
   ],
   "source": [
    "birth = pd.read_csv(\"../../../datasets/docs/birth.csv\", dtype={\"agecat\":\"string\", \"birthcat\":\"category\"})\n",
    "\n",
    "region = birth[\"region\"]\n",
    "agecat = birth[\"agecat\"]\n",
    "birthcat = birth[\"birthcat\"]\n",
    "\n",
    "birth.head(15)"
   ]
  },
  {
   "cell_type": "markdown",
   "metadata": {},
   "source": [
    "When requesting a table, the user can set ```parameter=\"count\"``` which results in a tabulation with counts in the cells while ```parameter=\"proportion``` leads to cells with proportions. The expression ```Tabulation(\"count\")``` instantiates a class ```Tabulation()``` which has a method ```tabulate()``` to produce the table. "
   ]
  },
  {
   "cell_type": "code",
   "execution_count": 3,
   "metadata": {},
   "outputs": [
    {
     "name": "stdout",
     "output_type": "stream",
     "text": [
      "\n",
      "Tabulation of birthcat\n",
      " Number of strata: 1\n",
      " Number of PSUs: 923\n",
      " Number of observations: 923\n",
      " Degrees of freedom: 922.00\n",
      "\n",
      "  variable category  count   stderror    lower_ci    upper_ci\n",
      " birthcat        1  240.0  13.333695  213.832087  266.167913\n",
      " birthcat        2  450.0  15.193974  420.181215  479.818785\n",
      " birthcat        3  233.0  13.204959  207.084737  258.915263\n"
     ]
    }
   ],
   "source": [
    "birth_count = Tabulation(parameter=\"count\")\n",
    "birth_count.tabulate(birthcat, remove_nan=True)\n",
    "\n",
    "print(birth_count)"
   ]
  },
  {
   "cell_type": "markdown",
   "metadata": {},
   "source": [
    "When ```remove_nan=False```, the numpy and pandas special values NaNs, respectively np.nan and NaN are treaty as a valid category and shown on the tabulation as follows"
   ]
  },
  {
   "cell_type": "code",
   "execution_count": 4,
   "metadata": {},
   "outputs": [
    {
     "name": "stdout",
     "output_type": "stream",
     "text": [
      "\n",
      "Tabulation of birthcat\n",
      " Number of strata: 1\n",
      " Number of PSUs: 956\n",
      " Number of observations: 956\n",
      " Degrees of freedom: 955.00\n",
      "\n",
      "  variable category  count   stderror    lower_ci    upper_ci\n",
      " birthcat        1  240.0  13.414066  213.675550  266.324450\n",
      " birthcat        2  450.0  15.441157  419.697485  480.302515\n",
      " birthcat        3  233.0  13.281448  206.935807  259.064193\n",
      " birthcat      nan   33.0   5.647499   21.917060   44.082940\n"
     ]
    }
   ],
   "source": [
    "birth_count = Tabulation(parameter=\"count\")\n",
    "birth_count.tabulate(birthcat, remove_nan=False)\n",
    "\n",
    "print(birth_count)"
   ]
  },
  {
   "cell_type": "code",
   "execution_count": null,
   "metadata": {},
   "outputs": [],
   "source": []
  }
 ],
 "metadata": {
  "kernelspec": {
   "display_name": ".venv",
   "language": "python",
   "name": ".venv"
  },
  "language_info": {
   "codemirror_mode": {
    "name": "ipython",
    "version": 3
   },
   "file_extension": ".py",
   "mimetype": "text/x-python",
   "name": "python",
   "nbconvert_exporter": "python",
   "pygments_lexer": "ipython3",
   "version": "3.8.3"
  }
 },
 "nbformat": 4,
 "nbformat_minor": 4
}
