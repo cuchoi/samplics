{
 "cells": [
  {
   "cell_type": "markdown",
   "metadata": {},
   "source": [
    "# Tabulation"
   ]
  },
  {
   "cell_type": "markdown",
   "metadata": {},
   "source": [
    "In this tutorial, we will explore samplics' APIs for creating design-based tabulations. There are two main python classes for tabulation i.e. ```Tabulation()``` for one-way tables and ```CrossTabulation()``` for two-way tables. "
   ]
  },
  {
   "cell_type": "code",
   "execution_count": 1,
   "metadata": {},
   "outputs": [],
   "source": [
    "from pprint import pprint\n",
    "\n",
    "from samplics.datasets import load_birth, load_nhanes2\n",
    "from samplics.categorical import Tabulation, CrossTabulation"
   ]
  },
  {
   "cell_type": "markdown",
   "metadata": {},
   "source": [
    "## One-way tabulation"
   ]
  },
  {
   "cell_type": "markdown",
   "metadata": {},
   "source": [
    "The birth dataset has four variables: region, agecat, birthcat, and pop. The variables agecat and birthcat are categirical. By default, pandas read them as numerical, because they are coded with numerical values. We use ```dtype=\"string\"``` or ``` dtype=\"category\"``` to ensure that pandas codes the variables as categorical responses. "
   ]
  },
  {
   "cell_type": "code",
   "execution_count": 2,
   "metadata": {},
   "outputs": [
    {
     "data": {
      "text/html": [
       "<div>\n",
       "<style scoped>\n",
       "    .dataframe tbody tr th:only-of-type {\n",
       "        vertical-align: middle;\n",
       "    }\n",
       "\n",
       "    .dataframe tbody tr th {\n",
       "        vertical-align: top;\n",
       "    }\n",
       "\n",
       "    .dataframe thead th {\n",
       "        text-align: right;\n",
       "    }\n",
       "</style>\n",
       "<table border=\"1\" class=\"dataframe\">\n",
       "  <thead>\n",
       "    <tr style=\"text-align: right;\">\n",
       "      <th></th>\n",
       "      <th>region</th>\n",
       "      <th>agecat</th>\n",
       "      <th>birthcat</th>\n",
       "      <th>pop</th>\n",
       "    </tr>\n",
       "  </thead>\n",
       "  <tbody>\n",
       "    <tr>\n",
       "      <th>0</th>\n",
       "      <td>1</td>\n",
       "      <td>1</td>\n",
       "      <td>1.0</td>\n",
       "      <td>28152</td>\n",
       "    </tr>\n",
       "    <tr>\n",
       "      <th>1</th>\n",
       "      <td>1</td>\n",
       "      <td>1</td>\n",
       "      <td>1.0</td>\n",
       "      <td>103101</td>\n",
       "    </tr>\n",
       "    <tr>\n",
       "      <th>2</th>\n",
       "      <td>1</td>\n",
       "      <td>1</td>\n",
       "      <td>1.0</td>\n",
       "      <td>113299</td>\n",
       "    </tr>\n",
       "    <tr>\n",
       "      <th>3</th>\n",
       "      <td>1</td>\n",
       "      <td>1</td>\n",
       "      <td>1.0</td>\n",
       "      <td>112028</td>\n",
       "    </tr>\n",
       "    <tr>\n",
       "      <th>4</th>\n",
       "      <td>1</td>\n",
       "      <td>1</td>\n",
       "      <td>1.0</td>\n",
       "      <td>99588</td>\n",
       "    </tr>\n",
       "    <tr>\n",
       "      <th>5</th>\n",
       "      <td>1</td>\n",
       "      <td>1</td>\n",
       "      <td>1.0</td>\n",
       "      <td>22356</td>\n",
       "    </tr>\n",
       "    <tr>\n",
       "      <th>6</th>\n",
       "      <td>1</td>\n",
       "      <td>1</td>\n",
       "      <td>1.0</td>\n",
       "      <td>102926</td>\n",
       "    </tr>\n",
       "    <tr>\n",
       "      <th>7</th>\n",
       "      <td>1</td>\n",
       "      <td>1</td>\n",
       "      <td>1.0</td>\n",
       "      <td>12627</td>\n",
       "    </tr>\n",
       "    <tr>\n",
       "      <th>8</th>\n",
       "      <td>1</td>\n",
       "      <td>1</td>\n",
       "      <td>1.0</td>\n",
       "      <td>112885</td>\n",
       "    </tr>\n",
       "    <tr>\n",
       "      <th>9</th>\n",
       "      <td>1</td>\n",
       "      <td>1</td>\n",
       "      <td>1.0</td>\n",
       "      <td>150297</td>\n",
       "    </tr>\n",
       "    <tr>\n",
       "      <th>10</th>\n",
       "      <td>1</td>\n",
       "      <td>1</td>\n",
       "      <td>1.0</td>\n",
       "      <td>52785</td>\n",
       "    </tr>\n",
       "    <tr>\n",
       "      <th>11</th>\n",
       "      <td>1</td>\n",
       "      <td>1</td>\n",
       "      <td>2.0</td>\n",
       "      <td>109108</td>\n",
       "    </tr>\n",
       "    <tr>\n",
       "      <th>12</th>\n",
       "      <td>1</td>\n",
       "      <td>1</td>\n",
       "      <td>2.0</td>\n",
       "      <td>87768</td>\n",
       "    </tr>\n",
       "    <tr>\n",
       "      <th>13</th>\n",
       "      <td>1</td>\n",
       "      <td>1</td>\n",
       "      <td>2.0</td>\n",
       "      <td>175886</td>\n",
       "    </tr>\n",
       "    <tr>\n",
       "      <th>14</th>\n",
       "      <td>1</td>\n",
       "      <td>1</td>\n",
       "      <td>2.0</td>\n",
       "      <td>107847</td>\n",
       "    </tr>\n",
       "  </tbody>\n",
       "</table>\n",
       "</div>"
      ],
      "text/plain": [
       "   region agecat birthcat     pop\n",
       "0       1      1      1.0   28152\n",
       "1       1      1      1.0  103101\n",
       "2       1      1      1.0  113299\n",
       "3       1      1      1.0  112028\n",
       "4       1      1      1.0   99588\n",
       "5       1      1      1.0   22356\n",
       "6       1      1      1.0  102926\n",
       "7       1      1      1.0   12627\n",
       "8       1      1      1.0  112885\n",
       "9       1      1      1.0  150297\n",
       "10      1      1      1.0   52785\n",
       "11      1      1      2.0  109108\n",
       "12      1      1      2.0   87768\n",
       "13      1      1      2.0  175886\n",
       "14      1      1      2.0  107847"
      ]
     },
     "execution_count": 2,
     "metadata": {},
     "output_type": "execute_result"
    }
   ],
   "source": [
    "# Load Birth sample data\n",
    "birth_dict = load_birth()\n",
    "birth = birth_dict[\"data\"].astype(\n",
    "    {\"region\": str, \"agecat\": str, \"birthcat\": str}\n",
    ")\n",
    "\n",
    "region = birth[\"region\"]\n",
    "agecat = birth[\"agecat\"]\n",
    "birthcat = birth[\"birthcat\"]\n",
    "\n",
    "birth.head(15)"
   ]
  },
  {
   "cell_type": "markdown",
   "metadata": {},
   "source": [
    "When requesting a table, the user can set ```parameter=\"count\"``` which results in a tabulation with counts in the cells while ```parameter=\"proportion``` leads to cells with proportions. The expression ```Tabulation(\"count\")``` instantiates the class ```Tabulation()``` which has a method ```tabulate()``` to produce the table. "
   ]
  },
  {
   "cell_type": "code",
   "execution_count": 3,
   "metadata": {},
   "outputs": [
    {
     "name": "stdout",
     "output_type": "stream",
     "text": [
      "\n",
      "Tabulation of birthcat\n",
      " Number of strata: 1\n",
      " Number of PSUs: 956\n",
      " Number of observations: 956\n",
      " Degrees of freedom: 955.00\n",
      "\n",
      " variable category  count  stderror   lower_ci   upper_ci\n",
      "birthcat      1.0  240.0 13.414066 213.675550 266.324450\n",
      "birthcat      2.0  450.0 15.441157 419.697485 480.302515\n",
      "birthcat      3.0  233.0 13.281448 206.935807 259.064193\n",
      "birthcat      nan   33.0  5.647499  21.917060  44.082940\n",
      "\n"
     ]
    }
   ],
   "source": [
    "birth_count = Tabulation(parameter=\"count\")\n",
    "birth_count.tabulate(birthcat, remove_nan=True)\n",
    "\n",
    "print(birth_count)"
   ]
  },
  {
   "cell_type": "markdown",
   "metadata": {},
   "source": [
    "When ```remove_nan=False```, the numpy and pandas special values NaNs, respectively np.nan and NaN, are treated as valid categories and added to the tables as shown below"
   ]
  },
  {
   "cell_type": "code",
   "execution_count": 4,
   "metadata": {},
   "outputs": [
    {
     "name": "stdout",
     "output_type": "stream",
     "text": [
      "\n",
      "Tabulation of birthcat\n",
      " Number of strata: 1\n",
      " Number of PSUs: 956\n",
      " Number of observations: 956\n",
      " Degrees of freedom: 955.00\n",
      "\n",
      " variable category  count  stderror   lower_ci   upper_ci\n",
      "birthcat      1.0  240.0 13.414066 213.675550 266.324450\n",
      "birthcat      2.0  450.0 15.441157 419.697485 480.302515\n",
      "birthcat      3.0  233.0 13.281448 206.935807 259.064193\n",
      "birthcat      nan   33.0  5.647499  21.917060  44.082940\n",
      "\n"
     ]
    }
   ],
   "source": [
    "birth_count = Tabulation(parameter=\"count\")\n",
    "birth_count.tabulate(birthcat, remove_nan=False)\n",
    "\n",
    "print(birth_count)"
   ]
  },
  {
   "cell_type": "markdown",
   "metadata": {},
   "source": [
    "The data associated with the tabulation are stored in nested python dictionaries. The higher level key is the variable name and the inner keys are the response categories. Each of the last four columns shown above are stored in separated dictionaries. Two of those dictionaries for the counts and standard errors shown below."
   ]
  },
  {
   "cell_type": "code",
   "execution_count": 5,
   "metadata": {},
   "outputs": [
    {
     "name": "stdout",
     "output_type": "stream",
     "text": [
      "\n",
      "The designed-based estimated counts are:\n",
      "{'birthcat': {'1.0': 240.0, '2.0': 450.0, '3.0': 233.0, 'nan': 33.0}}\n",
      "\n",
      "The designed-based standard errors are:\n",
      "{'birthcat': {'1.0': 13.414066228212429,\n",
      "              '2.0': 15.44115667208023,\n",
      "              '3.0': 13.281447911983975,\n",
      "              'nan': 5.647498635475387}}\n"
     ]
    }
   ],
   "source": [
    "print(\"\\nThe designed-based estimated counts are:\")\n",
    "pprint(birth_count.point_est)\n",
    "\n",
    "print(\"\\nThe designed-based standard errors are:\")\n",
    "pprint(birth_count.stderror)"
   ]
  },
  {
   "cell_type": "markdown",
   "metadata": {},
   "source": [
    "Sometimes, the user may want to run multiple one-way tables of several variables. In this case, the user can provide the data as a two-dimensional dataframe where each column represents one categorical variable. In this situation, each categorical variable is tabulated individually then combined into Python dictionaries."
   ]
  },
  {
   "cell_type": "code",
   "execution_count": 6,
   "metadata": {},
   "outputs": [
    {
     "name": "stdout",
     "output_type": "stream",
     "text": [
      "\n",
      "Tabulation of region\n",
      " Number of strata: 1\n",
      " Number of PSUs: 956\n",
      " Number of observations: 956\n",
      " Degrees of freedom: 955.00\n",
      "\n",
      " variable category  count  stderror   lower_ci   upper_ci\n",
      "  region        1  166.0 11.718335 143.003340 188.996660\n",
      "  region        2  284.0 14.136507 256.257795 311.742205\n",
      "  region        3  250.0 13.594733 223.321002 276.678998\n",
      "  region        4  256.0 13.698320 229.117716 282.882284\n",
      "  agecat        1  507.0 15.439224 476.701278 537.298722\n",
      "  agecat        2  316.0 14.552307 287.441809 344.558191\n",
      "  agecat        3  133.0 10.705921 111.990152 154.009848\n",
      "birthcat      1.0  240.0 13.414066 213.675550 266.324450\n",
      "birthcat      2.0  450.0 15.441157 419.697485 480.302515\n",
      "birthcat      3.0  233.0 13.281448 206.935807 259.064193\n",
      "birthcat      nan   33.0  5.647499  21.917060  44.082940\n",
      "\n"
     ]
    }
   ],
   "source": [
    "birth_count2 = Tabulation(parameter=\"count\")\n",
    "birth_count2.tabulate(birth[[\"region\", \"agecat\", \"birthcat\"]], remove_nan=True)\n",
    "\n",
    "print(birth_count2)"
   ]
  },
  {
   "cell_type": "markdown",
   "metadata": {},
   "source": [
    "Two of the associated Python dictionaries are shown below. The structure of the inner dictionaries remain the same but additional key-value pairs are added to represent the several categorical variables."
   ]
  },
  {
   "cell_type": "code",
   "execution_count": 7,
   "metadata": {},
   "outputs": [
    {
     "name": "stdout",
     "output_type": "stream",
     "text": [
      "\n",
      "The designed-based estimated counts are:\n",
      "{'agecat': {'1': 507.0, '2': 316.0, '3': 133.0},\n",
      " 'birthcat': {'1.0': 240.0, '2.0': 450.0, '3.0': 233.0, 'nan': 33.0},\n",
      " 'region': {'1': 166.0, '2': 284.0, '3': 250.0, '4': 256.0}}\n",
      "\n",
      "The designed-based standard errors are:\n",
      "{'agecat': {'1': 15.43922386351897,\n",
      "            '2': 14.55230681053191,\n",
      "            '3': 10.705921442206716},\n",
      " 'birthcat': {'1.0': 13.414066228212429,\n",
      "              '2.0': 15.44115667208023,\n",
      "              '3.0': 13.281447911983975,\n",
      "              'nan': 5.647498635475387},\n",
      " 'region': {'1': 11.718334853030482,\n",
      "            '2': 14.136507266518667,\n",
      "            '3': 13.594732580183457,\n",
      "            '4': 13.698320300591305}}\n"
     ]
    }
   ],
   "source": [
    "print(\"\\nThe designed-based estimated counts are:\")\n",
    "pprint(birth_count2.point_est)\n",
    "\n",
    "print(\"\\nThe designed-based standard errors are:\")\n",
    "pprint(birth_count2.stderror)"
   ]
  },
  {
   "cell_type": "markdown",
   "metadata": {},
   "source": [
    "In the example above, we used pandas series and dataframes with labelled variables. In some situations, the user may want to tabulate numpy arrays, lists or tuples without variable names atrribute from the data. For these situations, the ```varnames``` parameter provides a way to assign names for the categorical variables. Even when the variables have labels, users can leverage ```varnames``` to rename the categorical variables. "
   ]
  },
  {
   "cell_type": "code",
   "execution_count": 8,
   "metadata": {},
   "outputs": [
    {
     "name": "stdout",
     "output_type": "stream",
     "text": [
      "\n",
      "Tabulation of Region\n",
      " Number of strata: 1\n",
      " Number of PSUs: 956\n",
      " Number of observations: 956\n",
      " Degrees of freedom: 955.00\n",
      "\n",
      "  variable category  proportion  stderror  lower_ci  upper_ci\n",
      "   Region        1    0.173640  0.012258  0.150883  0.199025\n",
      "   Region        2    0.297071  0.014787  0.268892  0.326883\n",
      "   Region        3    0.261506  0.014220  0.234574  0.290357\n",
      "   Region        4    0.267782  0.014329  0.240614  0.296819\n",
      " AgeGroup        1    0.530335  0.016150  0.498562  0.561864\n",
      " AgeGroup        2    0.330544  0.015222  0.301383  0.361068\n",
      " AgeGroup        3    0.139121  0.011199  0.118564  0.162586\n",
      "BirthType      1.0    0.251046  0.014031  0.224524  0.279571\n",
      "BirthType      2.0    0.470711  0.016152  0.439174  0.502484\n",
      "BirthType      3.0    0.243724  0.013893  0.217502  0.272008\n",
      "BirthType      nan    0.034519  0.005907  0.024627  0.048188\n",
      "\n"
     ]
    }
   ],
   "source": [
    "region_no_name = birth[\"region\"].to_numpy()\n",
    "agecat_no_name = birth[\"agecat\"].to_numpy()\n",
    "birthcat_no_name = birth[\"birthcat\"].to_numpy()\n",
    "\n",
    "birth_prop_new_name = Tabulation(parameter=\"proportion\")\n",
    "birth_prop_new_name.tabulate(\n",
    "    vars=[region_no_name, agecat_no_name, birthcat_no_name],\n",
    "    varnames=[\"Region\", \"AgeGroup\", \"BirthType\"],\n",
    "    remove_nan=True,\n",
    ")\n",
    "\n",
    "print(birth_prop_new_name)"
   ]
  },
  {
   "cell_type": "markdown",
   "metadata": {},
   "source": [
    "If the user does not specify ```varnames```, the ```tabulate()``` creates generic variables names ```var_1, var_2, etc```."
   ]
  },
  {
   "cell_type": "code",
   "execution_count": 9,
   "metadata": {},
   "outputs": [
    {
     "name": "stdout",
     "output_type": "stream",
     "text": [
      "\n",
      "Tabulation of var_1\n",
      " Number of strata: 1\n",
      " Number of PSUs: 956\n",
      " Number of observations: 956\n",
      " Degrees of freedom: 955.00\n",
      "\n",
      " variable category  proportion  stderror  lower_ci  upper_ci\n",
      "   var_1        1    0.173640  0.012258  0.150883  0.199025\n",
      "   var_1        2    0.297071  0.014787  0.268892  0.326883\n",
      "   var_1        3    0.261506  0.014220  0.234574  0.290357\n",
      "   var_1        4    0.267782  0.014329  0.240614  0.296819\n",
      "   var_2        1    0.530335  0.016150  0.498562  0.561864\n",
      "   var_2        2    0.330544  0.015222  0.301383  0.361068\n",
      "   var_2        3    0.139121  0.011199  0.118564  0.162586\n",
      "   var_3      1.0    0.251046  0.014031  0.224524  0.279571\n",
      "   var_3      2.0    0.470711  0.016152  0.439174  0.502484\n",
      "   var_3      3.0    0.243724  0.013893  0.217502  0.272008\n",
      "   var_3      nan    0.034519  0.005907  0.024627  0.048188\n",
      "\n"
     ]
    }
   ],
   "source": [
    "birth_prop_new_name2 = Tabulation(parameter=\"proportion\")\n",
    "birth_prop_new_name2.tabulate(\n",
    "    vars=[region_no_name, agecat_no_name, birthcat_no_name], remove_nan=True\n",
    ")\n",
    "\n",
    "print(birth_prop_new_name2)"
   ]
  },
  {
   "cell_type": "markdown",
   "metadata": {},
   "source": [
    "If the data was collected from a complex survey sample, the user may provide the sample design information to derive design-based statistics for the tabulation. "
   ]
  },
  {
   "cell_type": "code",
   "execution_count": 10,
   "metadata": {},
   "outputs": [
    {
     "name": "stdout",
     "output_type": "stream",
     "text": [
      "\n",
      "Tabulation of race\n",
      " Number of strata: 31\n",
      " Number of PSUs: 62\n",
      " Number of observations: 10335\n",
      " Degrees of freedom: 31.00\n",
      "\n",
      " variable category  proportion  stderror  lower_ci  upper_ci\n",
      "    race      1.0    0.879016  0.016722  0.840568  0.909194\n",
      "    race      2.0    0.095615  0.012778  0.072541  0.125039\n",
      "    race      3.0    0.025369  0.010554  0.010781  0.058528\n",
      "diabetes      0.0    0.965715  0.001820  0.961803  0.969238\n",
      "diabetes      1.0    0.034285  0.001820  0.030762  0.038197\n",
      "\n"
     ]
    }
   ],
   "source": [
    "# Load Nhanes sample data\n",
    "nhanes2_dict = load_nhanes2()\n",
    "nhanes2 = nhanes2_dict[\"data\"]\n",
    "\n",
    "stratum = nhanes2[\"stratid\"]\n",
    "psu = nhanes2[\"psuid\"]\n",
    "weight = nhanes2[\"finalwgt\"]\n",
    "\n",
    "diabetes_nhanes = Tabulation(\"proportion\")\n",
    "diabetes_nhanes.tabulate(\n",
    "    vars=nhanes2[[\"race\", \"diabetes\"]],\n",
    "    samp_weight=weight,\n",
    "    stratum=stratum,\n",
    "    psu=psu,\n",
    "    remove_nan=True,\n",
    ")\n",
    "\n",
    "print(diabetes_nhanes)"
   ]
  },
  {
   "cell_type": "markdown",
   "metadata": {},
   "source": [
    "## Two-way tabulation (cross-tabulation)"
   ]
  },
  {
   "cell_type": "markdown",
   "metadata": {},
   "source": [
    "Cross-tabulation of two categorical variables is achieved by using the class ```CrossTabulation()```. As above, cross-tabulation is possible for counts and proportions using ```CrossTabulation(parameter=\"count\")``` and ```CrossTabulation(parameter=\"proportion\")```, respectively. The Python script below creates a design-based cross-tabulation of race by diabetes status. The sample design information is optional; when not provided, a simple random sample (srs) is assumed. "
   ]
  },
  {
   "cell_type": "code",
   "execution_count": 11,
   "metadata": {},
   "outputs": [
    {
     "name": "stdout",
     "output_type": "stream",
     "text": [
      "\n",
      "Cross-tabulation of race and diabetes\n",
      " Number of strata: 31\n",
      " Number of PSUs: 62\n",
      " Number of observations: 10335\n",
      " Degrees of freedom: 31.00\n",
      "\n",
      " race diabetes  proportion  stderror  lower_ci  upper_ci\n",
      "   1      0.0    0.850866  0.015850  0.815577  0.880392\n",
      "   1      1.0    0.028123  0.001938  0.024430  0.032357\n",
      "   2      0.0    0.089991  0.012171  0.068062  0.118090\n",
      "   2      1.0    0.005646  0.000847  0.004157  0.007663\n",
      "   3      0.0    0.024858  0.010188  0.010702  0.056669\n",
      "   3      1.0    0.000516  0.000387  0.000112  0.002383\n",
      "\n",
      "Pearson (with Rao-Scott adjustment):\n",
      "\tUnadjusted - chi2(2): 21.2661 with p-value of 0.0000\n",
      "\tAdjusted - F(1.52, 47.26): 14.9435  with p-value of 0.0000\n",
      "\n",
      "  Likelihood ratio (with Rao-Scott adjustment):\n",
      "\t Unadjusted - chi2(2): 18.3925 with p-value of 0.0001\n",
      "\t Adjusted - F(1.52, 47.26): 12.9242  with p-value of 0.0001\n",
      "\n"
     ]
    }
   ],
   "source": [
    "crosstab_nhanes = CrossTabulation(\"proportion\")\n",
    "crosstab_nhanes.tabulate(\n",
    "    vars=nhanes2[[\"race\", \"diabetes\"]],\n",
    "    samp_weight=weight,\n",
    "    stratum=stratum,\n",
    "    psu=psu,\n",
    "    remove_nan=True,\n",
    ")\n",
    "\n",
    "print(crosstab_nhanes)"
   ]
  },
  {
   "cell_type": "markdown",
   "metadata": {},
   "source": [
    "In addition to pandas dataframe, the categorical variables may be provided as an numpy array, list or tuple. In the examples below, the categorical variables are provided as a tuple ```vars=(rage, diabetes).``` In this case, ```race``` and ```diabetes``` are numpy arrays and do not have a name attribute. The parameter ```varnames``` allows the user to name the categorical variables. If varnames is not specified then ```var_1``` and ```var_2``` are used as variables names. "
   ]
  },
  {
   "cell_type": "code",
   "execution_count": 12,
   "metadata": {},
   "outputs": [
    {
     "name": "stdout",
     "output_type": "stream",
     "text": [
      "\n",
      "Cross-tabulation of var_1 and var_2\n",
      " Number of strata: 31\n",
      " Number of PSUs: 62\n",
      " Number of observations: 10335\n",
      " Degrees of freedom: 31.00\n",
      "\n",
      " var_1 var_2  proportion  stderror  lower_ci  upper_ci\n",
      "  1.0   0.0    0.850866  0.015850  0.815577  0.880392\n",
      "  1.0   1.0    0.028123  0.001938  0.024430  0.032357\n",
      "  2.0   0.0    0.089991  0.012171  0.068062  0.118090\n",
      "  2.0   1.0    0.005646  0.000847  0.004157  0.007663\n",
      "  3.0   0.0    0.024858  0.010188  0.010702  0.056669\n",
      "  3.0   1.0    0.000516  0.000387  0.000112  0.002383\n",
      "\n",
      "Pearson (with Rao-Scott adjustment):\n",
      "\tUnadjusted - chi2(2): 21.2661 with p-value of 0.0000\n",
      "\tAdjusted - F(1.52, 47.26): 14.9435  with p-value of 0.0000\n",
      "\n",
      "  Likelihood ratio (with Rao-Scott adjustment):\n",
      "\t Unadjusted - chi2(2): 18.3925 with p-value of 0.0001\n",
      "\t Adjusted - F(1.52, 47.26): 12.9242  with p-value of 0.0001\n",
      "\n"
     ]
    }
   ],
   "source": [
    "race = nhanes2[\"race\"].to_numpy()\n",
    "diabetes = nhanes2[\"diabetes\"].to_numpy()\n",
    "\n",
    "crosstab_nhanes = CrossTabulation(\"proportion\")\n",
    "crosstab_nhanes.tabulate(\n",
    "    vars=(race, diabetes),\n",
    "    samp_weight=weight,\n",
    "    stratum=stratum,\n",
    "    psu=psu,\n",
    "    remove_nan=True,\n",
    ")\n",
    "\n",
    "print(crosstab_nhanes)"
   ]
  },
  {
   "cell_type": "markdown",
   "metadata": {},
   "source": [
    "Same as the above example with variables names specified by ```varnames=[\"Race\", DiabetesStatus\"]```"
   ]
  },
  {
   "cell_type": "code",
   "execution_count": 13,
   "metadata": {},
   "outputs": [
    {
     "name": "stdout",
     "output_type": "stream",
     "text": [
      "\n",
      "Cross-tabulation of Race and DiabetesStatus\n",
      " Number of strata: 31\n",
      " Number of PSUs: 62\n",
      " Number of observations: 10335\n",
      " Degrees of freedom: 31.00\n",
      "\n",
      " Race DiabetesStatus  proportion  stderror  lower_ci  upper_ci\n",
      " 1.0            0.0    0.850866  0.015850  0.815577  0.880392\n",
      " 1.0            1.0    0.028123  0.001938  0.024430  0.032357\n",
      " 2.0            0.0    0.089991  0.012171  0.068062  0.118090\n",
      " 2.0            1.0    0.005646  0.000847  0.004157  0.007663\n",
      " 3.0            0.0    0.024858  0.010188  0.010702  0.056669\n",
      " 3.0            1.0    0.000516  0.000387  0.000112  0.002383\n",
      "\n",
      "Pearson (with Rao-Scott adjustment):\n",
      "\tUnadjusted - chi2(2): 21.2661 with p-value of 0.0000\n",
      "\tAdjusted - F(1.52, 47.26): 14.9435  with p-value of 0.0000\n",
      "\n",
      "  Likelihood ratio (with Rao-Scott adjustment):\n",
      "\t Unadjusted - chi2(2): 18.3925 with p-value of 0.0001\n",
      "\t Adjusted - F(1.52, 47.26): 12.9242  with p-value of 0.0001\n",
      "\n"
     ]
    }
   ],
   "source": [
    "crosstab_nhanes = CrossTabulation(\"proportion\")\n",
    "crosstab_nhanes.tabulate(\n",
    "    vars=(race, diabetes),\n",
    "    varnames=[\"Race\", \"DiabetesStatus\"],\n",
    "    samp_weight=weight,\n",
    "    stratum=stratum,\n",
    "    psu=psu,\n",
    "    remove_nan=True,\n",
    ")\n",
    "\n",
    "print(crosstab_nhanes)"
   ]
  }
 ],
 "metadata": {
  "interpreter": {
   "hash": "e1838300bc832aaa997391910aaeeb5e0ca0a920c679ba2ab90cd483a45827fc"
  },
  "kernelspec": {
   "display_name": "Python 3.8.3 64-bit ('.venv': poetry)",
   "name": "python3"
  },
  "language_info": {
   "codemirror_mode": {
    "name": "ipython",
    "version": 3
   },
   "file_extension": ".py",
   "mimetype": "text/x-python",
   "name": "python",
   "nbconvert_exporter": "python",
   "pygments_lexer": "ipython3",
   "version": "3.8.3"
  }
 },
 "nbformat": 4,
 "nbformat_minor": 4
}