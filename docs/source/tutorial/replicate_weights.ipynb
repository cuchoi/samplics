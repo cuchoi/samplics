{
 "cells": [
  {
   "cell_type": "markdown",
   "metadata": {},
   "source": [
    "## Replicate weights\n",
    "Replicate weights are usually created for the purpose of variance (uncertainty) estimation. One common use case for replication-based methods is the estimation of non-linear parameters fow which Taylor-based approximation may not be accurate enough. Another use case is when the number of primary sampling units selected per stratum is small (low degree of freedom). Replicate weights are usually created for the purpose of variance (uncertainty)estimation. One common use case for replication-based methods is the estimation of non-linear parameters fow which Taylor-based approximation may not be accurate enough. Another use case is when the number of primary sampling units selected per stratum is small (low degree of freedom). \n",
    "\n",
    "In this tutorial, we will explore creating replicate weights using the class *ReplicateWeight*. Three replication methods have been implemented: balanced repeated replication (BRR) including the Fay-BRR, bootstrap and jackknife. The replicate method of interest is specified when initializing the class by using the parameter *method*. The parameter *method* takes the values \"bootstrap\", \"brr\", or \"jackknife\". In this tutorial, we show how the API works for producing replicate weights. "
   ]
  },
  {
   "cell_type": "code",
   "execution_count": 1,
   "metadata": {},
   "outputs": [],
   "source": [
    "import numpy as np\n",
    "import pandas as pd\n",
    "\n",
    "import samplics\n",
    "from samplics.datasets import load_psu_sample, load_ssu_sample\n",
    "from samplics.weighting import ReplicateWeight"
   ]
  },
  {
   "cell_type": "markdown",
   "metadata": {},
   "source": [
    "We import the sample data..."
   ]
  },
  {
   "cell_type": "code",
   "execution_count": 2,
   "metadata": {},
   "outputs": [
    {
     "output_type": "execute_result",
     "data": {
      "text/plain": [
       "    cluster region  psu_prob  ...  ssu_prob  inclusion_prob  design_weight\n",
       "0         7  North  0.187726  ...  0.115385        0.021661      46.166667\n",
       "1         7  North  0.187726  ...  0.115385        0.021661      46.166667\n",
       "2         7  North  0.187726  ...  0.115385        0.021661      46.166667\n",
       "3         7  North  0.187726  ...  0.115385        0.021661      46.166667\n",
       "4         7  North  0.187726  ...  0.115385        0.021661      46.166667\n",
       "5         7  North  0.187726  ...  0.115385        0.021661      46.166667\n",
       "6         7  North  0.187726  ...  0.115385        0.021661      46.166667\n",
       "7         7  North  0.187726  ...  0.115385        0.021661      46.166667\n",
       "8         7  North  0.187726  ...  0.115385        0.021661      46.166667\n",
       "9         7  North  0.187726  ...  0.115385        0.021661      46.166667\n",
       "10        7  North  0.187726  ...  0.115385        0.021661      46.166667\n",
       "11        7  North  0.187726  ...  0.115385        0.021661      46.166667\n",
       "12        7  North  0.187726  ...  0.115385        0.021661      46.166667\n",
       "13        7  North  0.187726  ...  0.115385        0.021661      46.166667\n",
       "14        7  North  0.187726  ...  0.115385        0.021661      46.166667\n",
       "\n",
       "[15 rows x 7 columns]"
      ],
      "text/html": "<div>\n<style scoped>\n    .dataframe tbody tr th:only-of-type {\n        vertical-align: middle;\n    }\n\n    .dataframe tbody tr th {\n        vertical-align: top;\n    }\n\n    .dataframe thead th {\n        text-align: right;\n    }\n</style>\n<table border=\"1\" class=\"dataframe\">\n  <thead>\n    <tr style=\"text-align: right;\">\n      <th></th>\n      <th>cluster</th>\n      <th>region</th>\n      <th>psu_prob</th>\n      <th>household</th>\n      <th>ssu_prob</th>\n      <th>inclusion_prob</th>\n      <th>design_weight</th>\n    </tr>\n  </thead>\n  <tbody>\n    <tr>\n      <th>0</th>\n      <td>7</td>\n      <td>North</td>\n      <td>0.187726</td>\n      <td>72</td>\n      <td>0.115385</td>\n      <td>0.021661</td>\n      <td>46.166667</td>\n    </tr>\n    <tr>\n      <th>1</th>\n      <td>7</td>\n      <td>North</td>\n      <td>0.187726</td>\n      <td>73</td>\n      <td>0.115385</td>\n      <td>0.021661</td>\n      <td>46.166667</td>\n    </tr>\n    <tr>\n      <th>2</th>\n      <td>7</td>\n      <td>North</td>\n      <td>0.187726</td>\n      <td>75</td>\n      <td>0.115385</td>\n      <td>0.021661</td>\n      <td>46.166667</td>\n    </tr>\n    <tr>\n      <th>3</th>\n      <td>7</td>\n      <td>North</td>\n      <td>0.187726</td>\n      <td>715</td>\n      <td>0.115385</td>\n      <td>0.021661</td>\n      <td>46.166667</td>\n    </tr>\n    <tr>\n      <th>4</th>\n      <td>7</td>\n      <td>North</td>\n      <td>0.187726</td>\n      <td>722</td>\n      <td>0.115385</td>\n      <td>0.021661</td>\n      <td>46.166667</td>\n    </tr>\n    <tr>\n      <th>5</th>\n      <td>7</td>\n      <td>North</td>\n      <td>0.187726</td>\n      <td>724</td>\n      <td>0.115385</td>\n      <td>0.021661</td>\n      <td>46.166667</td>\n    </tr>\n    <tr>\n      <th>6</th>\n      <td>7</td>\n      <td>North</td>\n      <td>0.187726</td>\n      <td>755</td>\n      <td>0.115385</td>\n      <td>0.021661</td>\n      <td>46.166667</td>\n    </tr>\n    <tr>\n      <th>7</th>\n      <td>7</td>\n      <td>North</td>\n      <td>0.187726</td>\n      <td>761</td>\n      <td>0.115385</td>\n      <td>0.021661</td>\n      <td>46.166667</td>\n    </tr>\n    <tr>\n      <th>8</th>\n      <td>7</td>\n      <td>North</td>\n      <td>0.187726</td>\n      <td>764</td>\n      <td>0.115385</td>\n      <td>0.021661</td>\n      <td>46.166667</td>\n    </tr>\n    <tr>\n      <th>9</th>\n      <td>7</td>\n      <td>North</td>\n      <td>0.187726</td>\n      <td>782</td>\n      <td>0.115385</td>\n      <td>0.021661</td>\n      <td>46.166667</td>\n    </tr>\n    <tr>\n      <th>10</th>\n      <td>7</td>\n      <td>North</td>\n      <td>0.187726</td>\n      <td>795</td>\n      <td>0.115385</td>\n      <td>0.021661</td>\n      <td>46.166667</td>\n    </tr>\n    <tr>\n      <th>11</th>\n      <td>7</td>\n      <td>North</td>\n      <td>0.187726</td>\n      <td>7111</td>\n      <td>0.115385</td>\n      <td>0.021661</td>\n      <td>46.166667</td>\n    </tr>\n    <tr>\n      <th>12</th>\n      <td>7</td>\n      <td>North</td>\n      <td>0.187726</td>\n      <td>7112</td>\n      <td>0.115385</td>\n      <td>0.021661</td>\n      <td>46.166667</td>\n    </tr>\n    <tr>\n      <th>13</th>\n      <td>7</td>\n      <td>North</td>\n      <td>0.187726</td>\n      <td>7117</td>\n      <td>0.115385</td>\n      <td>0.021661</td>\n      <td>46.166667</td>\n    </tr>\n    <tr>\n      <th>14</th>\n      <td>7</td>\n      <td>North</td>\n      <td>0.187726</td>\n      <td>7123</td>\n      <td>0.115385</td>\n      <td>0.021661</td>\n      <td>46.166667</td>\n    </tr>\n  </tbody>\n</table>\n</div>"
     },
     "metadata": {},
     "execution_count": 2
    }
   ],
   "source": [
    "# Load PSU sample data\n",
    "psu_sample_dict = load_psu_sample()\n",
    "psu_sample = psu_sample_dict[\"data\"]\n",
    "\n",
    "# Load PSU sample data\n",
    "ssu_sample_dict = load_ssu_sample()\n",
    "ssu_sample = ssu_sample_dict[\"data\"]\n",
    "\n",
    "full_sample = pd.merge(\n",
    "    psu_sample[[\"cluster\", \"region\", \"psu_prob\"]], \n",
    "    ssu_sample[[\"cluster\", \"household\", \"ssu_prob\"]], \n",
    "    on=\"cluster\")\n",
    "\n",
    "full_sample[\"inclusion_prob\"] = full_sample[\"psu_prob\"] * full_sample[\"ssu_prob\"] \n",
    "full_sample[\"design_weight\"] = 1 / full_sample[\"inclusion_prob\"] \n",
    "\n",
    "full_sample.head(15)"
   ]
  },
  {
   "cell_type": "markdown",
   "metadata": {},
   "source": [
    "### Balanced Repeated Replication (BRR) <a name=\"section1\"></a>\n",
    "\n",
    "The basic idea of BRR is to slip the sample in independent random groups. The groups are then threated as independent replicates of the the sample design. A special case is when the sample is split into two half samples in each stratum. This design is suitable to many survey designs where only two psus are selected by stratum. In practice, one of the psu is asigned to the first random group and the other psu is assign to the second group. The sample weights are double for one group (say the first one) and the sample weights in the other group are set to zero. To ensure that the replicates are independent, we use hadamard matrices to assign the random groups. "
   ]
  },
  {
   "cell_type": "code",
   "execution_count": 3,
   "metadata": {},
   "outputs": [
    {
     "output_type": "execute_result",
     "data": {
      "text/plain": [
       "array([[ 1,  1,  1,  1,  1,  1,  1,  1],\n",
       "       [ 1, -1,  1, -1,  1, -1,  1, -1],\n",
       "       [ 1,  1, -1, -1,  1,  1, -1, -1],\n",
       "       [ 1, -1, -1,  1,  1, -1, -1,  1],\n",
       "       [ 1,  1,  1,  1, -1, -1, -1, -1],\n",
       "       [ 1, -1,  1, -1, -1,  1, -1,  1],\n",
       "       [ 1,  1, -1, -1, -1, -1,  1,  1],\n",
       "       [ 1, -1, -1,  1, -1,  1,  1, -1]])"
      ]
     },
     "metadata": {},
     "execution_count": 3
    }
   ],
   "source": [
    "import scipy\n",
    "scipy.linalg.hadamard(8)"
   ]
  },
  {
   "cell_type": "markdown",
   "metadata": {},
   "source": [
    "In our example, we have 10 psus. If we do not have explicit stratification then *replicate()* will group the clusters into 5 strata (2 per stratum). In this case, the smallest number of replicates possible using the hadamard matrix is 8.  \n",
    "\n",
    "The result below shows that *replicate()* created 5 strata by grouping clusters 7 and 10 in the first stratum, clusters 16 and 24 in the second stratum, and so on. We can achieve the same result by providing setting *stratification=True* and providing the stratum variable to *replicate()*. "
   ]
  },
  {
   "cell_type": "code",
   "execution_count": 4,
   "metadata": {},
   "outputs": [
    {
     "output_type": "execute_result",
     "data": {
      "text/plain": [
       "     _stratum  _psu  _samp_weight  ...  _brr_wgt_6  _brr_wgt_7  _brr_wgt_8\n",
       "0           1     7     46.166667  ...   92.333333    0.000000   92.333333\n",
       "15          1    10     50.783333  ...    0.000000  101.566667    0.000000\n",
       "30          2    16     62.149123  ...    0.000000  124.298246  124.298246\n",
       "45          2    24     58.940741  ...  117.881481    0.000000    0.000000\n",
       "60          3    29     65.702778  ...  131.405556  131.405556    0.000000\n",
       "75          3    34     75.661566  ...    0.000000    0.000000  151.323133\n",
       "90          4    45     85.398025  ...  170.796049  170.796049  170.796049\n",
       "105         4    52     85.520635  ...    0.000000    0.000000    0.000000\n",
       "120         5    64    218.893889  ...    0.000000  437.787778    0.000000\n",
       "135         5    86    213.491667  ...  426.983333    0.000000  426.983333\n",
       "\n",
       "[10 rows x 11 columns]"
      ],
      "text/html": "<div>\n<style scoped>\n    .dataframe tbody tr th:only-of-type {\n        vertical-align: middle;\n    }\n\n    .dataframe tbody tr th {\n        vertical-align: top;\n    }\n\n    .dataframe thead th {\n        text-align: right;\n    }\n</style>\n<table border=\"1\" class=\"dataframe\">\n  <thead>\n    <tr style=\"text-align: right;\">\n      <th></th>\n      <th>_stratum</th>\n      <th>_psu</th>\n      <th>_samp_weight</th>\n      <th>_brr_wgt_1</th>\n      <th>_brr_wgt_2</th>\n      <th>_brr_wgt_3</th>\n      <th>_brr_wgt_4</th>\n      <th>_brr_wgt_5</th>\n      <th>_brr_wgt_6</th>\n      <th>_brr_wgt_7</th>\n      <th>_brr_wgt_8</th>\n    </tr>\n  </thead>\n  <tbody>\n    <tr>\n      <th>0</th>\n      <td>1</td>\n      <td>7</td>\n      <td>46.166667</td>\n      <td>0.000000</td>\n      <td>92.333333</td>\n      <td>0.000000</td>\n      <td>92.333333</td>\n      <td>0.000000</td>\n      <td>92.333333</td>\n      <td>0.000000</td>\n      <td>92.333333</td>\n    </tr>\n    <tr>\n      <th>15</th>\n      <td>1</td>\n      <td>10</td>\n      <td>50.783333</td>\n      <td>101.566667</td>\n      <td>0.000000</td>\n      <td>101.566667</td>\n      <td>0.000000</td>\n      <td>101.566667</td>\n      <td>0.000000</td>\n      <td>101.566667</td>\n      <td>0.000000</td>\n    </tr>\n    <tr>\n      <th>30</th>\n      <td>2</td>\n      <td>16</td>\n      <td>62.149123</td>\n      <td>0.000000</td>\n      <td>0.000000</td>\n      <td>124.298246</td>\n      <td>124.298246</td>\n      <td>0.000000</td>\n      <td>0.000000</td>\n      <td>124.298246</td>\n      <td>124.298246</td>\n    </tr>\n    <tr>\n      <th>45</th>\n      <td>2</td>\n      <td>24</td>\n      <td>58.940741</td>\n      <td>117.881481</td>\n      <td>117.881481</td>\n      <td>0.000000</td>\n      <td>0.000000</td>\n      <td>117.881481</td>\n      <td>117.881481</td>\n      <td>0.000000</td>\n      <td>0.000000</td>\n    </tr>\n    <tr>\n      <th>60</th>\n      <td>3</td>\n      <td>29</td>\n      <td>65.702778</td>\n      <td>0.000000</td>\n      <td>131.405556</td>\n      <td>131.405556</td>\n      <td>0.000000</td>\n      <td>0.000000</td>\n      <td>131.405556</td>\n      <td>131.405556</td>\n      <td>0.000000</td>\n    </tr>\n    <tr>\n      <th>75</th>\n      <td>3</td>\n      <td>34</td>\n      <td>75.661566</td>\n      <td>151.323133</td>\n      <td>0.000000</td>\n      <td>0.000000</td>\n      <td>151.323133</td>\n      <td>151.323133</td>\n      <td>0.000000</td>\n      <td>0.000000</td>\n      <td>151.323133</td>\n    </tr>\n    <tr>\n      <th>90</th>\n      <td>4</td>\n      <td>45</td>\n      <td>85.398025</td>\n      <td>0.000000</td>\n      <td>0.000000</td>\n      <td>0.000000</td>\n      <td>0.000000</td>\n      <td>170.796049</td>\n      <td>170.796049</td>\n      <td>170.796049</td>\n      <td>170.796049</td>\n    </tr>\n    <tr>\n      <th>105</th>\n      <td>4</td>\n      <td>52</td>\n      <td>85.520635</td>\n      <td>171.041270</td>\n      <td>171.041270</td>\n      <td>171.041270</td>\n      <td>171.041270</td>\n      <td>0.000000</td>\n      <td>0.000000</td>\n      <td>0.000000</td>\n      <td>0.000000</td>\n    </tr>\n    <tr>\n      <th>120</th>\n      <td>5</td>\n      <td>64</td>\n      <td>218.893889</td>\n      <td>0.000000</td>\n      <td>437.787778</td>\n      <td>0.000000</td>\n      <td>437.787778</td>\n      <td>437.787778</td>\n      <td>0.000000</td>\n      <td>437.787778</td>\n      <td>0.000000</td>\n    </tr>\n    <tr>\n      <th>135</th>\n      <td>5</td>\n      <td>86</td>\n      <td>213.491667</td>\n      <td>426.983333</td>\n      <td>0.000000</td>\n      <td>426.983333</td>\n      <td>0.000000</td>\n      <td>0.000000</td>\n      <td>426.983333</td>\n      <td>0.000000</td>\n      <td>426.983333</td>\n    </tr>\n  </tbody>\n</table>\n</div>"
     },
     "metadata": {},
     "execution_count": 4
    }
   ],
   "source": [
    "brr = ReplicateWeight(method=\"brr\", stratification=False)\n",
    "brr_wgt = brr.replicate(full_sample[\"design_weight\"], full_sample[\"cluster\"])\n",
    "\n",
    "brr_wgt.drop_duplicates().head(10)"
   ]
  },
  {
   "cell_type": "markdown",
   "metadata": {},
   "source": [
    "An extension of BRR is the Fay's method. In the Fay's approach, instead of multiplying one half-sample by zero, we multiple the sampel weights by a factor $\\alpha$ and the other halh-sample by $2-\\alpha$. We refer to $\\alpha$ as the fay coefficient. Note that when $\\alpha=0$ then teh Fay's method reduces to BRR. "
   ]
  },
  {
   "cell_type": "code",
   "execution_count": 5,
   "metadata": {},
   "outputs": [
    {
     "output_type": "execute_result",
     "data": {
      "text/plain": [
       "     stratum  cluster  _samp_weight  ...  fay_weight_6  fay_weight_7  fay_weight_8\n",
       "0          1        7     46.166667  ...     78.483333     13.850000     78.483333\n",
       "15         1       10     50.783333  ...     15.235000     86.331667     15.235000\n",
       "30         2       16     62.149123  ...     18.644737    105.653509    105.653509\n",
       "45         2       24     58.940741  ...    100.199259     17.682222     17.682222\n",
       "60         3       29     65.702778  ...    111.694722    111.694722     19.710833\n",
       "75         3       34     75.661566  ...     22.698470     22.698470    128.624663\n",
       "90         4       45     85.398025  ...    145.176642    145.176642    145.176642\n",
       "105        4       52     85.520635  ...     25.656190     25.656190     25.656190\n",
       "120        5       64    218.893889  ...     65.668167    372.119611     65.668167\n",
       "135        5       86    213.491667  ...    362.935833     64.047500    362.935833\n",
       "\n",
       "[10 rows x 11 columns]"
      ],
      "text/html": "<div>\n<style scoped>\n    .dataframe tbody tr th:only-of-type {\n        vertical-align: middle;\n    }\n\n    .dataframe tbody tr th {\n        vertical-align: top;\n    }\n\n    .dataframe thead th {\n        text-align: right;\n    }\n</style>\n<table border=\"1\" class=\"dataframe\">\n  <thead>\n    <tr style=\"text-align: right;\">\n      <th></th>\n      <th>stratum</th>\n      <th>cluster</th>\n      <th>_samp_weight</th>\n      <th>fay_weight_1</th>\n      <th>fay_weight_2</th>\n      <th>fay_weight_3</th>\n      <th>fay_weight_4</th>\n      <th>fay_weight_5</th>\n      <th>fay_weight_6</th>\n      <th>fay_weight_7</th>\n      <th>fay_weight_8</th>\n    </tr>\n  </thead>\n  <tbody>\n    <tr>\n      <th>0</th>\n      <td>1</td>\n      <td>7</td>\n      <td>46.166667</td>\n      <td>13.850000</td>\n      <td>78.483333</td>\n      <td>13.850000</td>\n      <td>78.483333</td>\n      <td>13.850000</td>\n      <td>78.483333</td>\n      <td>13.850000</td>\n      <td>78.483333</td>\n    </tr>\n    <tr>\n      <th>15</th>\n      <td>1</td>\n      <td>10</td>\n      <td>50.783333</td>\n      <td>86.331667</td>\n      <td>15.235000</td>\n      <td>86.331667</td>\n      <td>15.235000</td>\n      <td>86.331667</td>\n      <td>15.235000</td>\n      <td>86.331667</td>\n      <td>15.235000</td>\n    </tr>\n    <tr>\n      <th>30</th>\n      <td>2</td>\n      <td>16</td>\n      <td>62.149123</td>\n      <td>18.644737</td>\n      <td>18.644737</td>\n      <td>105.653509</td>\n      <td>105.653509</td>\n      <td>18.644737</td>\n      <td>18.644737</td>\n      <td>105.653509</td>\n      <td>105.653509</td>\n    </tr>\n    <tr>\n      <th>45</th>\n      <td>2</td>\n      <td>24</td>\n      <td>58.940741</td>\n      <td>100.199259</td>\n      <td>100.199259</td>\n      <td>17.682222</td>\n      <td>17.682222</td>\n      <td>100.199259</td>\n      <td>100.199259</td>\n      <td>17.682222</td>\n      <td>17.682222</td>\n    </tr>\n    <tr>\n      <th>60</th>\n      <td>3</td>\n      <td>29</td>\n      <td>65.702778</td>\n      <td>19.710833</td>\n      <td>111.694722</td>\n      <td>111.694722</td>\n      <td>19.710833</td>\n      <td>19.710833</td>\n      <td>111.694722</td>\n      <td>111.694722</td>\n      <td>19.710833</td>\n    </tr>\n    <tr>\n      <th>75</th>\n      <td>3</td>\n      <td>34</td>\n      <td>75.661566</td>\n      <td>128.624663</td>\n      <td>22.698470</td>\n      <td>22.698470</td>\n      <td>128.624663</td>\n      <td>128.624663</td>\n      <td>22.698470</td>\n      <td>22.698470</td>\n      <td>128.624663</td>\n    </tr>\n    <tr>\n      <th>90</th>\n      <td>4</td>\n      <td>45</td>\n      <td>85.398025</td>\n      <td>25.619407</td>\n      <td>25.619407</td>\n      <td>25.619407</td>\n      <td>25.619407</td>\n      <td>145.176642</td>\n      <td>145.176642</td>\n      <td>145.176642</td>\n      <td>145.176642</td>\n    </tr>\n    <tr>\n      <th>105</th>\n      <td>4</td>\n      <td>52</td>\n      <td>85.520635</td>\n      <td>145.385079</td>\n      <td>145.385079</td>\n      <td>145.385079</td>\n      <td>145.385079</td>\n      <td>25.656190</td>\n      <td>25.656190</td>\n      <td>25.656190</td>\n      <td>25.656190</td>\n    </tr>\n    <tr>\n      <th>120</th>\n      <td>5</td>\n      <td>64</td>\n      <td>218.893889</td>\n      <td>65.668167</td>\n      <td>372.119611</td>\n      <td>65.668167</td>\n      <td>372.119611</td>\n      <td>372.119611</td>\n      <td>65.668167</td>\n      <td>372.119611</td>\n      <td>65.668167</td>\n    </tr>\n    <tr>\n      <th>135</th>\n      <td>5</td>\n      <td>86</td>\n      <td>213.491667</td>\n      <td>362.935833</td>\n      <td>64.047500</td>\n      <td>362.935833</td>\n      <td>64.047500</td>\n      <td>64.047500</td>\n      <td>362.935833</td>\n      <td>64.047500</td>\n      <td>362.935833</td>\n    </tr>\n  </tbody>\n</table>\n</div>"
     },
     "metadata": {},
     "execution_count": 5
    }
   ],
   "source": [
    "fay = ReplicateWeight(method=\"brr\", stratification=False, fay_coef=0.3)\n",
    "fay_wgt = fay.replicate(\n",
    "    full_sample[\"design_weight\"], \n",
    "    full_sample[\"cluster\"], \n",
    "    rep_prefix=\"fay_weight_\",\n",
    "    psu_varname=\"cluster\", \n",
    "    str_varname=\"stratum\"\n",
    ")\n",
    "\n",
    "fay_wgt.drop_duplicates().head(10)"
   ]
  },
  {
   "cell_type": "markdown",
   "metadata": {},
   "source": [
    "### Bootstrap <a name=\"section2\"></a>\n",
    "\n",
    "For the bootstrap replicates, we need to provide the number of replicates. When the number of replicates is not provided, *ReplicateWeight* will default to 500. The bootstrap consists of selecting the same number of psus as in the sample but with replacement. The selection is independently repeated for each replicate. "
   ]
  },
  {
   "cell_type": "code",
   "execution_count": 6,
   "metadata": {},
   "outputs": [
    {
     "output_type": "execute_result",
     "data": {
      "text/plain": [
       "     _psu  _samp_weight  _boot_wgt_1  ...  _boot_wgt_48  _boot_wgt_49  _boot_wgt_50\n",
       "0       7     46.166667    51.296296  ...    102.592593      0.000000      0.000000\n",
       "15     10     50.783333   112.851852  ...      0.000000    112.851852      0.000000\n",
       "30     16     62.149123     0.000000  ...    138.109162      0.000000      0.000000\n",
       "45     24     58.940741    65.489712  ...    130.979424    130.979424      0.000000\n",
       "60     29     65.702778     0.000000  ...      0.000000    146.006173     73.003086\n",
       "75     34     75.661566   252.205222  ...     84.068407      0.000000    168.136814\n",
       "90     45     85.398025     0.000000  ...     94.886694     94.886694      0.000000\n",
       "105    52     85.520635     0.000000  ...      0.000000     95.022928    190.045855\n",
       "120    64    218.893889   243.215432  ...    243.215432      0.000000    243.215432\n",
       "135    86    213.491667   237.212963  ...      0.000000    237.212963    711.638889\n",
       "\n",
       "[10 rows x 52 columns]"
      ],
      "text/html": "<div>\n<style scoped>\n    .dataframe tbody tr th:only-of-type {\n        vertical-align: middle;\n    }\n\n    .dataframe tbody tr th {\n        vertical-align: top;\n    }\n\n    .dataframe thead th {\n        text-align: right;\n    }\n</style>\n<table border=\"1\" class=\"dataframe\">\n  <thead>\n    <tr style=\"text-align: right;\">\n      <th></th>\n      <th>_psu</th>\n      <th>_samp_weight</th>\n      <th>_boot_wgt_1</th>\n      <th>_boot_wgt_2</th>\n      <th>_boot_wgt_3</th>\n      <th>_boot_wgt_4</th>\n      <th>_boot_wgt_5</th>\n      <th>_boot_wgt_6</th>\n      <th>_boot_wgt_7</th>\n      <th>_boot_wgt_8</th>\n      <th>_boot_wgt_9</th>\n      <th>_boot_wgt_10</th>\n      <th>_boot_wgt_11</th>\n      <th>_boot_wgt_12</th>\n      <th>_boot_wgt_13</th>\n      <th>_boot_wgt_14</th>\n      <th>_boot_wgt_15</th>\n      <th>_boot_wgt_16</th>\n      <th>_boot_wgt_17</th>\n      <th>_boot_wgt_18</th>\n      <th>_boot_wgt_19</th>\n      <th>_boot_wgt_20</th>\n      <th>_boot_wgt_21</th>\n      <th>_boot_wgt_22</th>\n      <th>_boot_wgt_23</th>\n      <th>_boot_wgt_24</th>\n      <th>_boot_wgt_25</th>\n      <th>_boot_wgt_26</th>\n      <th>_boot_wgt_27</th>\n      <th>_boot_wgt_28</th>\n      <th>_boot_wgt_29</th>\n      <th>_boot_wgt_30</th>\n      <th>_boot_wgt_31</th>\n      <th>_boot_wgt_32</th>\n      <th>_boot_wgt_33</th>\n      <th>_boot_wgt_34</th>\n      <th>_boot_wgt_35</th>\n      <th>_boot_wgt_36</th>\n      <th>_boot_wgt_37</th>\n      <th>_boot_wgt_38</th>\n      <th>_boot_wgt_39</th>\n      <th>_boot_wgt_40</th>\n      <th>_boot_wgt_41</th>\n      <th>_boot_wgt_42</th>\n      <th>_boot_wgt_43</th>\n      <th>_boot_wgt_44</th>\n      <th>_boot_wgt_45</th>\n      <th>_boot_wgt_46</th>\n      <th>_boot_wgt_47</th>\n      <th>_boot_wgt_48</th>\n      <th>_boot_wgt_49</th>\n      <th>_boot_wgt_50</th>\n    </tr>\n  </thead>\n  <tbody>\n    <tr>\n      <th>0</th>\n      <td>7</td>\n      <td>46.166667</td>\n      <td>51.296296</td>\n      <td>0.000000</td>\n      <td>51.296296</td>\n      <td>0.000000</td>\n      <td>51.296296</td>\n      <td>0.000000</td>\n      <td>102.592593</td>\n      <td>51.296296</td>\n      <td>51.296296</td>\n      <td>51.296296</td>\n      <td>51.296296</td>\n      <td>0.000000</td>\n      <td>0.000000</td>\n      <td>102.592593</td>\n      <td>51.296296</td>\n      <td>0.000000</td>\n      <td>0.000000</td>\n      <td>0.000000</td>\n      <td>0.000000</td>\n      <td>0.000000</td>\n      <td>153.888889</td>\n      <td>0.000000</td>\n      <td>51.296296</td>\n      <td>0.000000</td>\n      <td>51.296296</td>\n      <td>51.296296</td>\n      <td>0.000000</td>\n      <td>102.592593</td>\n      <td>102.592593</td>\n      <td>51.296296</td>\n      <td>51.296296</td>\n      <td>102.592593</td>\n      <td>205.185185</td>\n      <td>51.296296</td>\n      <td>51.296296</td>\n      <td>0.000000</td>\n      <td>0.000000</td>\n      <td>51.296296</td>\n      <td>0.000000</td>\n      <td>51.296296</td>\n      <td>102.592593</td>\n      <td>205.185185</td>\n      <td>0.000000</td>\n      <td>102.592593</td>\n      <td>102.592593</td>\n      <td>0.000000</td>\n      <td>51.296296</td>\n      <td>102.592593</td>\n      <td>0.000000</td>\n      <td>0.000000</td>\n    </tr>\n    <tr>\n      <th>15</th>\n      <td>10</td>\n      <td>50.783333</td>\n      <td>112.851852</td>\n      <td>56.425926</td>\n      <td>0.000000</td>\n      <td>56.425926</td>\n      <td>56.425926</td>\n      <td>112.851852</td>\n      <td>0.000000</td>\n      <td>0.000000</td>\n      <td>0.000000</td>\n      <td>0.000000</td>\n      <td>56.425926</td>\n      <td>169.277778</td>\n      <td>169.277778</td>\n      <td>0.000000</td>\n      <td>112.851852</td>\n      <td>0.000000</td>\n      <td>56.425926</td>\n      <td>56.425926</td>\n      <td>169.277778</td>\n      <td>56.425926</td>\n      <td>0.000000</td>\n      <td>56.425926</td>\n      <td>0.000000</td>\n      <td>0.000000</td>\n      <td>0.000000</td>\n      <td>0.000000</td>\n      <td>56.425926</td>\n      <td>0.000000</td>\n      <td>0.000000</td>\n      <td>0.000000</td>\n      <td>56.425926</td>\n      <td>56.425926</td>\n      <td>169.277778</td>\n      <td>56.425926</td>\n      <td>56.425926</td>\n      <td>0.000000</td>\n      <td>169.277778</td>\n      <td>0.000000</td>\n      <td>0.000000</td>\n      <td>56.425926</td>\n      <td>0.000000</td>\n      <td>56.425926</td>\n      <td>0.000000</td>\n      <td>112.851852</td>\n      <td>0.000000</td>\n      <td>56.425926</td>\n      <td>56.425926</td>\n      <td>0.000000</td>\n      <td>112.851852</td>\n      <td>0.000000</td>\n    </tr>\n    <tr>\n      <th>30</th>\n      <td>16</td>\n      <td>62.149123</td>\n      <td>0.000000</td>\n      <td>0.000000</td>\n      <td>207.163743</td>\n      <td>0.000000</td>\n      <td>138.109162</td>\n      <td>0.000000</td>\n      <td>0.000000</td>\n      <td>69.054581</td>\n      <td>138.109162</td>\n      <td>69.054581</td>\n      <td>69.054581</td>\n      <td>0.000000</td>\n      <td>69.054581</td>\n      <td>69.054581</td>\n      <td>69.054581</td>\n      <td>0.000000</td>\n      <td>207.163743</td>\n      <td>0.000000</td>\n      <td>0.000000</td>\n      <td>0.000000</td>\n      <td>0.000000</td>\n      <td>69.054581</td>\n      <td>69.054581</td>\n      <td>138.109162</td>\n      <td>207.163743</td>\n      <td>69.054581</td>\n      <td>0.000000</td>\n      <td>69.054581</td>\n      <td>0.000000</td>\n      <td>0.000000</td>\n      <td>0.000000</td>\n      <td>0.000000</td>\n      <td>0.000000</td>\n      <td>0.000000</td>\n      <td>69.054581</td>\n      <td>207.163743</td>\n      <td>138.109162</td>\n      <td>69.054581</td>\n      <td>138.109162</td>\n      <td>69.054581</td>\n      <td>69.054581</td>\n      <td>0.000000</td>\n      <td>0.000000</td>\n      <td>0.000000</td>\n      <td>138.109162</td>\n      <td>138.109162</td>\n      <td>0.000000</td>\n      <td>138.109162</td>\n      <td>0.000000</td>\n      <td>0.000000</td>\n    </tr>\n    <tr>\n      <th>45</th>\n      <td>24</td>\n      <td>58.940741</td>\n      <td>65.489712</td>\n      <td>65.489712</td>\n      <td>65.489712</td>\n      <td>65.489712</td>\n      <td>0.000000</td>\n      <td>0.000000</td>\n      <td>0.000000</td>\n      <td>0.000000</td>\n      <td>65.489712</td>\n      <td>0.000000</td>\n      <td>0.000000</td>\n      <td>0.000000</td>\n      <td>65.489712</td>\n      <td>65.489712</td>\n      <td>0.000000</td>\n      <td>65.489712</td>\n      <td>0.000000</td>\n      <td>65.489712</td>\n      <td>65.489712</td>\n      <td>261.958848</td>\n      <td>65.489712</td>\n      <td>130.979424</td>\n      <td>0.000000</td>\n      <td>65.489712</td>\n      <td>261.958848</td>\n      <td>0.000000</td>\n      <td>130.979424</td>\n      <td>130.979424</td>\n      <td>130.979424</td>\n      <td>65.489712</td>\n      <td>65.489712</td>\n      <td>65.489712</td>\n      <td>0.000000</td>\n      <td>65.489712</td>\n      <td>65.489712</td>\n      <td>130.979424</td>\n      <td>0.000000</td>\n      <td>65.489712</td>\n      <td>65.489712</td>\n      <td>0.000000</td>\n      <td>65.489712</td>\n      <td>0.000000</td>\n      <td>65.489712</td>\n      <td>0.000000</td>\n      <td>0.000000</td>\n      <td>0.000000</td>\n      <td>65.489712</td>\n      <td>130.979424</td>\n      <td>130.979424</td>\n      <td>0.000000</td>\n    </tr>\n    <tr>\n      <th>60</th>\n      <td>29</td>\n      <td>65.702778</td>\n      <td>0.000000</td>\n      <td>146.006173</td>\n      <td>0.000000</td>\n      <td>0.000000</td>\n      <td>73.003086</td>\n      <td>73.003086</td>\n      <td>73.003086</td>\n      <td>73.003086</td>\n      <td>146.006173</td>\n      <td>146.006173</td>\n      <td>146.006173</td>\n      <td>73.003086</td>\n      <td>146.006173</td>\n      <td>73.003086</td>\n      <td>73.003086</td>\n      <td>0.000000</td>\n      <td>73.003086</td>\n      <td>73.003086</td>\n      <td>73.003086</td>\n      <td>0.000000</td>\n      <td>0.000000</td>\n      <td>0.000000</td>\n      <td>0.000000</td>\n      <td>0.000000</td>\n      <td>0.000000</td>\n      <td>0.000000</td>\n      <td>73.003086</td>\n      <td>73.003086</td>\n      <td>73.003086</td>\n      <td>73.003086</td>\n      <td>73.003086</td>\n      <td>73.003086</td>\n      <td>0.000000</td>\n      <td>146.006173</td>\n      <td>73.003086</td>\n      <td>0.000000</td>\n      <td>73.003086</td>\n      <td>73.003086</td>\n      <td>0.000000</td>\n      <td>73.003086</td>\n      <td>0.000000</td>\n      <td>73.003086</td>\n      <td>73.003086</td>\n      <td>73.003086</td>\n      <td>73.003086</td>\n      <td>219.009259</td>\n      <td>73.003086</td>\n      <td>0.000000</td>\n      <td>146.006173</td>\n      <td>73.003086</td>\n    </tr>\n    <tr>\n      <th>75</th>\n      <td>34</td>\n      <td>75.661566</td>\n      <td>252.205222</td>\n      <td>0.000000</td>\n      <td>84.068407</td>\n      <td>0.000000</td>\n      <td>84.068407</td>\n      <td>84.068407</td>\n      <td>84.068407</td>\n      <td>84.068407</td>\n      <td>0.000000</td>\n      <td>168.136814</td>\n      <td>84.068407</td>\n      <td>84.068407</td>\n      <td>0.000000</td>\n      <td>0.000000</td>\n      <td>168.136814</td>\n      <td>168.136814</td>\n      <td>168.136814</td>\n      <td>168.136814</td>\n      <td>84.068407</td>\n      <td>0.000000</td>\n      <td>252.205222</td>\n      <td>252.205222</td>\n      <td>168.136814</td>\n      <td>84.068407</td>\n      <td>84.068407</td>\n      <td>84.068407</td>\n      <td>84.068407</td>\n      <td>168.136814</td>\n      <td>0.000000</td>\n      <td>168.136814</td>\n      <td>84.068407</td>\n      <td>0.000000</td>\n      <td>84.068407</td>\n      <td>168.136814</td>\n      <td>84.068407</td>\n      <td>84.068407</td>\n      <td>84.068407</td>\n      <td>0.000000</td>\n      <td>252.205222</td>\n      <td>84.068407</td>\n      <td>0.000000</td>\n      <td>0.000000</td>\n      <td>84.068407</td>\n      <td>0.000000</td>\n      <td>168.136814</td>\n      <td>0.000000</td>\n      <td>84.068407</td>\n      <td>84.068407</td>\n      <td>0.000000</td>\n      <td>168.136814</td>\n    </tr>\n    <tr>\n      <th>90</th>\n      <td>45</td>\n      <td>85.398025</td>\n      <td>0.000000</td>\n      <td>94.886694</td>\n      <td>94.886694</td>\n      <td>379.546776</td>\n      <td>0.000000</td>\n      <td>94.886694</td>\n      <td>189.773388</td>\n      <td>0.000000</td>\n      <td>94.886694</td>\n      <td>0.000000</td>\n      <td>0.000000</td>\n      <td>94.886694</td>\n      <td>0.000000</td>\n      <td>94.886694</td>\n      <td>0.000000</td>\n      <td>94.886694</td>\n      <td>94.886694</td>\n      <td>189.773388</td>\n      <td>189.773388</td>\n      <td>94.886694</td>\n      <td>0.000000</td>\n      <td>94.886694</td>\n      <td>189.773388</td>\n      <td>189.773388</td>\n      <td>0.000000</td>\n      <td>94.886694</td>\n      <td>94.886694</td>\n      <td>0.000000</td>\n      <td>94.886694</td>\n      <td>94.886694</td>\n      <td>94.886694</td>\n      <td>94.886694</td>\n      <td>0.000000</td>\n      <td>0.000000</td>\n      <td>0.000000</td>\n      <td>0.000000</td>\n      <td>0.000000</td>\n      <td>0.000000</td>\n      <td>94.886694</td>\n      <td>0.000000</td>\n      <td>189.773388</td>\n      <td>0.000000</td>\n      <td>0.000000</td>\n      <td>189.773388</td>\n      <td>0.000000</td>\n      <td>94.886694</td>\n      <td>0.000000</td>\n      <td>94.886694</td>\n      <td>94.886694</td>\n      <td>0.000000</td>\n    </tr>\n    <tr>\n      <th>105</th>\n      <td>52</td>\n      <td>85.520635</td>\n      <td>0.000000</td>\n      <td>190.045855</td>\n      <td>0.000000</td>\n      <td>0.000000</td>\n      <td>95.022928</td>\n      <td>0.000000</td>\n      <td>95.022928</td>\n      <td>190.045855</td>\n      <td>0.000000</td>\n      <td>0.000000</td>\n      <td>190.045855</td>\n      <td>285.068783</td>\n      <td>95.022928</td>\n      <td>190.045855</td>\n      <td>95.022928</td>\n      <td>95.022928</td>\n      <td>0.000000</td>\n      <td>0.000000</td>\n      <td>0.000000</td>\n      <td>0.000000</td>\n      <td>95.022928</td>\n      <td>0.000000</td>\n      <td>95.022928</td>\n      <td>0.000000</td>\n      <td>0.000000</td>\n      <td>285.068783</td>\n      <td>95.022928</td>\n      <td>0.000000</td>\n      <td>95.022928</td>\n      <td>95.022928</td>\n      <td>0.000000</td>\n      <td>0.000000</td>\n      <td>0.000000</td>\n      <td>95.022928</td>\n      <td>190.045855</td>\n      <td>285.068783</td>\n      <td>0.000000</td>\n      <td>285.068783</td>\n      <td>190.045855</td>\n      <td>0.000000</td>\n      <td>95.022928</td>\n      <td>0.000000</td>\n      <td>285.068783</td>\n      <td>95.022928</td>\n      <td>0.000000</td>\n      <td>95.022928</td>\n      <td>190.045855</td>\n      <td>0.000000</td>\n      <td>95.022928</td>\n      <td>190.045855</td>\n    </tr>\n    <tr>\n      <th>120</th>\n      <td>64</td>\n      <td>218.893889</td>\n      <td>243.215432</td>\n      <td>486.430864</td>\n      <td>243.215432</td>\n      <td>729.646296</td>\n      <td>243.215432</td>\n      <td>729.646296</td>\n      <td>243.215432</td>\n      <td>0.000000</td>\n      <td>486.430864</td>\n      <td>729.646296</td>\n      <td>243.215432</td>\n      <td>0.000000</td>\n      <td>243.215432</td>\n      <td>243.215432</td>\n      <td>0.000000</td>\n      <td>729.646296</td>\n      <td>0.000000</td>\n      <td>243.215432</td>\n      <td>243.215432</td>\n      <td>243.215432</td>\n      <td>0.000000</td>\n      <td>0.000000</td>\n      <td>486.430864</td>\n      <td>486.430864</td>\n      <td>0.000000</td>\n      <td>486.430864</td>\n      <td>486.430864</td>\n      <td>243.215432</td>\n      <td>243.215432</td>\n      <td>243.215432</td>\n      <td>729.646296</td>\n      <td>0.000000</td>\n      <td>0.000000</td>\n      <td>243.215432</td>\n      <td>243.215432</td>\n      <td>0.000000</td>\n      <td>0.000000</td>\n      <td>243.215432</td>\n      <td>0.000000</td>\n      <td>243.215432</td>\n      <td>243.215432</td>\n      <td>243.215432</td>\n      <td>729.646296</td>\n      <td>0.000000</td>\n      <td>243.215432</td>\n      <td>243.215432</td>\n      <td>0.000000</td>\n      <td>243.215432</td>\n      <td>0.000000</td>\n      <td>243.215432</td>\n    </tr>\n    <tr>\n      <th>135</th>\n      <td>86</td>\n      <td>213.491667</td>\n      <td>237.212963</td>\n      <td>0.000000</td>\n      <td>237.212963</td>\n      <td>0.000000</td>\n      <td>237.212963</td>\n      <td>237.212963</td>\n      <td>237.212963</td>\n      <td>711.638889</td>\n      <td>0.000000</td>\n      <td>0.000000</td>\n      <td>0.000000</td>\n      <td>0.000000</td>\n      <td>0.000000</td>\n      <td>0.000000</td>\n      <td>237.212963</td>\n      <td>237.212963</td>\n      <td>237.212963</td>\n      <td>237.212963</td>\n      <td>0.000000</td>\n      <td>474.425926</td>\n      <td>237.212963</td>\n      <td>237.212963</td>\n      <td>0.000000</td>\n      <td>237.212963</td>\n      <td>0.000000</td>\n      <td>0.000000</td>\n      <td>0.000000</td>\n      <td>0.000000</td>\n      <td>237.212963</td>\n      <td>237.212963</td>\n      <td>0.000000</td>\n      <td>711.638889</td>\n      <td>237.212963</td>\n      <td>0.000000</td>\n      <td>0.000000</td>\n      <td>0.000000</td>\n      <td>474.425926</td>\n      <td>237.212963</td>\n      <td>0.000000</td>\n      <td>711.638889</td>\n      <td>237.212963</td>\n      <td>474.425926</td>\n      <td>0.000000</td>\n      <td>237.212963</td>\n      <td>237.212963</td>\n      <td>0.000000</td>\n      <td>474.425926</td>\n      <td>0.000000</td>\n      <td>237.212963</td>\n      <td>711.638889</td>\n    </tr>\n  </tbody>\n</table>\n</div>"
     },
     "metadata": {},
     "execution_count": 6
    }
   ],
   "source": [
    "bootstrap = ReplicateWeight(method=\"bootstrap\", stratification=False, number_reps=50)\n",
    "boot_wgt = bootstrap.replicate(full_sample[\"design_weight\"], full_sample[\"cluster\"])\n",
    "\n",
    "boot_wgt.drop_duplicates().head(10)"
   ]
  },
  {
   "cell_type": "markdown",
   "metadata": {},
   "source": [
    "### Jackknife <a name=\"section3\"></a>\n",
    "\n",
    "Below, we illustrate the API for creating replicate weights using the jackknife method. "
   ]
  },
  {
   "cell_type": "code",
   "execution_count": 7,
   "metadata": {},
   "outputs": [
    {
     "output_type": "execute_result",
     "data": {
      "text/plain": [
       "     _psu  _samp_weight   _jk_wgt_1  ...   _jk_wgt_8   _jk_wgt_9  _jk_wgt_10\n",
       "0       7     46.166667    0.000000  ...   51.296296   51.296296   51.296296\n",
       "15     10     50.783333   56.425926  ...   56.425926   56.425926   56.425926\n",
       "30     16     62.149123   69.054581  ...   69.054581   69.054581   69.054581\n",
       "45     24     58.940741   65.489712  ...   65.489712   65.489712   65.489712\n",
       "60     29     65.702778   73.003086  ...   73.003086   73.003086   73.003086\n",
       "75     34     75.661566   84.068407  ...   84.068407   84.068407   84.068407\n",
       "90     45     85.398025   94.886694  ...   94.886694   94.886694   94.886694\n",
       "105    52     85.520635   95.022928  ...    0.000000   95.022928   95.022928\n",
       "120    64    218.893889  243.215432  ...  243.215432    0.000000  243.215432\n",
       "135    86    213.491667  237.212963  ...  237.212963  237.212963    0.000000\n",
       "\n",
       "[10 rows x 12 columns]"
      ],
      "text/html": "<div>\n<style scoped>\n    .dataframe tbody tr th:only-of-type {\n        vertical-align: middle;\n    }\n\n    .dataframe tbody tr th {\n        vertical-align: top;\n    }\n\n    .dataframe thead th {\n        text-align: right;\n    }\n</style>\n<table border=\"1\" class=\"dataframe\">\n  <thead>\n    <tr style=\"text-align: right;\">\n      <th></th>\n      <th>_psu</th>\n      <th>_samp_weight</th>\n      <th>_jk_wgt_1</th>\n      <th>_jk_wgt_2</th>\n      <th>_jk_wgt_3</th>\n      <th>_jk_wgt_4</th>\n      <th>_jk_wgt_5</th>\n      <th>_jk_wgt_6</th>\n      <th>_jk_wgt_7</th>\n      <th>_jk_wgt_8</th>\n      <th>_jk_wgt_9</th>\n      <th>_jk_wgt_10</th>\n    </tr>\n  </thead>\n  <tbody>\n    <tr>\n      <th>0</th>\n      <td>7</td>\n      <td>46.166667</td>\n      <td>0.000000</td>\n      <td>51.296296</td>\n      <td>51.296296</td>\n      <td>51.296296</td>\n      <td>51.296296</td>\n      <td>51.296296</td>\n      <td>51.296296</td>\n      <td>51.296296</td>\n      <td>51.296296</td>\n      <td>51.296296</td>\n    </tr>\n    <tr>\n      <th>15</th>\n      <td>10</td>\n      <td>50.783333</td>\n      <td>56.425926</td>\n      <td>0.000000</td>\n      <td>56.425926</td>\n      <td>56.425926</td>\n      <td>56.425926</td>\n      <td>56.425926</td>\n      <td>56.425926</td>\n      <td>56.425926</td>\n      <td>56.425926</td>\n      <td>56.425926</td>\n    </tr>\n    <tr>\n      <th>30</th>\n      <td>16</td>\n      <td>62.149123</td>\n      <td>69.054581</td>\n      <td>69.054581</td>\n      <td>0.000000</td>\n      <td>69.054581</td>\n      <td>69.054581</td>\n      <td>69.054581</td>\n      <td>69.054581</td>\n      <td>69.054581</td>\n      <td>69.054581</td>\n      <td>69.054581</td>\n    </tr>\n    <tr>\n      <th>45</th>\n      <td>24</td>\n      <td>58.940741</td>\n      <td>65.489712</td>\n      <td>65.489712</td>\n      <td>65.489712</td>\n      <td>0.000000</td>\n      <td>65.489712</td>\n      <td>65.489712</td>\n      <td>65.489712</td>\n      <td>65.489712</td>\n      <td>65.489712</td>\n      <td>65.489712</td>\n    </tr>\n    <tr>\n      <th>60</th>\n      <td>29</td>\n      <td>65.702778</td>\n      <td>73.003086</td>\n      <td>73.003086</td>\n      <td>73.003086</td>\n      <td>73.003086</td>\n      <td>0.000000</td>\n      <td>73.003086</td>\n      <td>73.003086</td>\n      <td>73.003086</td>\n      <td>73.003086</td>\n      <td>73.003086</td>\n    </tr>\n    <tr>\n      <th>75</th>\n      <td>34</td>\n      <td>75.661566</td>\n      <td>84.068407</td>\n      <td>84.068407</td>\n      <td>84.068407</td>\n      <td>84.068407</td>\n      <td>84.068407</td>\n      <td>0.000000</td>\n      <td>84.068407</td>\n      <td>84.068407</td>\n      <td>84.068407</td>\n      <td>84.068407</td>\n    </tr>\n    <tr>\n      <th>90</th>\n      <td>45</td>\n      <td>85.398025</td>\n      <td>94.886694</td>\n      <td>94.886694</td>\n      <td>94.886694</td>\n      <td>94.886694</td>\n      <td>94.886694</td>\n      <td>94.886694</td>\n      <td>0.000000</td>\n      <td>94.886694</td>\n      <td>94.886694</td>\n      <td>94.886694</td>\n    </tr>\n    <tr>\n      <th>105</th>\n      <td>52</td>\n      <td>85.520635</td>\n      <td>95.022928</td>\n      <td>95.022928</td>\n      <td>95.022928</td>\n      <td>95.022928</td>\n      <td>95.022928</td>\n      <td>95.022928</td>\n      <td>95.022928</td>\n      <td>0.000000</td>\n      <td>95.022928</td>\n      <td>95.022928</td>\n    </tr>\n    <tr>\n      <th>120</th>\n      <td>64</td>\n      <td>218.893889</td>\n      <td>243.215432</td>\n      <td>243.215432</td>\n      <td>243.215432</td>\n      <td>243.215432</td>\n      <td>243.215432</td>\n      <td>243.215432</td>\n      <td>243.215432</td>\n      <td>243.215432</td>\n      <td>0.000000</td>\n      <td>243.215432</td>\n    </tr>\n    <tr>\n      <th>135</th>\n      <td>86</td>\n      <td>213.491667</td>\n      <td>237.212963</td>\n      <td>237.212963</td>\n      <td>237.212963</td>\n      <td>237.212963</td>\n      <td>237.212963</td>\n      <td>237.212963</td>\n      <td>237.212963</td>\n      <td>237.212963</td>\n      <td>237.212963</td>\n      <td>0.000000</td>\n    </tr>\n  </tbody>\n</table>\n</div>"
     },
     "metadata": {},
     "execution_count": 7
    }
   ],
   "source": [
    "jackknife = ReplicateWeight(method=\"jackknife\", stratification=False)\n",
    "jkn_wgt = jackknife.replicate(full_sample[\"design_weight\"], full_sample[\"cluster\"])\n",
    "\n",
    "jkn_wgt.drop_duplicates().head(10)"
   ]
  },
  {
   "cell_type": "markdown",
   "metadata": {},
   "source": [
    "With stratification..."
   ]
  },
  {
   "cell_type": "code",
   "execution_count": 8,
   "metadata": {},
   "outputs": [
    {
     "output_type": "execute_result",
     "data": {
      "text/plain": [
       "    _stratum  _psu  _samp_weight  ...   _jk_wgt_8   _jk_wgt_9  _jk_wgt_10\n",
       "0      North     7     46.166667  ...   46.166667   46.166667   46.166667\n",
       "15     North    10     50.783333  ...   50.783333   50.783333   50.783333\n",
       "30     South    16     62.149123  ...    0.000000   62.149123   62.149123\n",
       "45     South    24     58.940741  ...   88.411111   58.940741   58.940741\n",
       "60     South    29     65.702778  ...   98.554167   65.702778   65.702778\n",
       "75      East    34     75.661566  ...   75.661566   75.661566   75.661566\n",
       "90      East    45     85.398025  ...   85.398025   85.398025   85.398025\n",
       "105     East    52     85.520635  ...   85.520635   85.520635   85.520635\n",
       "120     West    64    218.893889  ...  218.893889  437.787778    0.000000\n",
       "135     West    86    213.491667  ...  213.491667    0.000000  426.983333\n",
       "\n",
       "[10 rows x 13 columns]"
      ],
      "text/html": "<div>\n<style scoped>\n    .dataframe tbody tr th:only-of-type {\n        vertical-align: middle;\n    }\n\n    .dataframe tbody tr th {\n        vertical-align: top;\n    }\n\n    .dataframe thead th {\n        text-align: right;\n    }\n</style>\n<table border=\"1\" class=\"dataframe\">\n  <thead>\n    <tr style=\"text-align: right;\">\n      <th></th>\n      <th>_stratum</th>\n      <th>_psu</th>\n      <th>_samp_weight</th>\n      <th>_jk_wgt_1</th>\n      <th>_jk_wgt_2</th>\n      <th>_jk_wgt_3</th>\n      <th>_jk_wgt_4</th>\n      <th>_jk_wgt_5</th>\n      <th>_jk_wgt_6</th>\n      <th>_jk_wgt_7</th>\n      <th>_jk_wgt_8</th>\n      <th>_jk_wgt_9</th>\n      <th>_jk_wgt_10</th>\n    </tr>\n  </thead>\n  <tbody>\n    <tr>\n      <th>0</th>\n      <td>North</td>\n      <td>7</td>\n      <td>46.166667</td>\n      <td>46.166667</td>\n      <td>46.166667</td>\n      <td>46.166667</td>\n      <td>0.000000</td>\n      <td>92.333333</td>\n      <td>46.166667</td>\n      <td>46.166667</td>\n      <td>46.166667</td>\n      <td>46.166667</td>\n      <td>46.166667</td>\n    </tr>\n    <tr>\n      <th>15</th>\n      <td>North</td>\n      <td>10</td>\n      <td>50.783333</td>\n      <td>50.783333</td>\n      <td>50.783333</td>\n      <td>50.783333</td>\n      <td>101.566667</td>\n      <td>0.000000</td>\n      <td>50.783333</td>\n      <td>50.783333</td>\n      <td>50.783333</td>\n      <td>50.783333</td>\n      <td>50.783333</td>\n    </tr>\n    <tr>\n      <th>30</th>\n      <td>South</td>\n      <td>16</td>\n      <td>62.149123</td>\n      <td>62.149123</td>\n      <td>62.149123</td>\n      <td>62.149123</td>\n      <td>62.149123</td>\n      <td>62.149123</td>\n      <td>93.223684</td>\n      <td>93.223684</td>\n      <td>0.000000</td>\n      <td>62.149123</td>\n      <td>62.149123</td>\n    </tr>\n    <tr>\n      <th>45</th>\n      <td>South</td>\n      <td>24</td>\n      <td>58.940741</td>\n      <td>58.940741</td>\n      <td>58.940741</td>\n      <td>58.940741</td>\n      <td>58.940741</td>\n      <td>58.940741</td>\n      <td>88.411111</td>\n      <td>0.000000</td>\n      <td>88.411111</td>\n      <td>58.940741</td>\n      <td>58.940741</td>\n    </tr>\n    <tr>\n      <th>60</th>\n      <td>South</td>\n      <td>29</td>\n      <td>65.702778</td>\n      <td>65.702778</td>\n      <td>65.702778</td>\n      <td>65.702778</td>\n      <td>65.702778</td>\n      <td>65.702778</td>\n      <td>0.000000</td>\n      <td>98.554167</td>\n      <td>98.554167</td>\n      <td>65.702778</td>\n      <td>65.702778</td>\n    </tr>\n    <tr>\n      <th>75</th>\n      <td>East</td>\n      <td>34</td>\n      <td>75.661566</td>\n      <td>113.492350</td>\n      <td>113.492350</td>\n      <td>0.000000</td>\n      <td>75.661566</td>\n      <td>75.661566</td>\n      <td>75.661566</td>\n      <td>75.661566</td>\n      <td>75.661566</td>\n      <td>75.661566</td>\n      <td>75.661566</td>\n    </tr>\n    <tr>\n      <th>90</th>\n      <td>East</td>\n      <td>45</td>\n      <td>85.398025</td>\n      <td>128.097037</td>\n      <td>0.000000</td>\n      <td>128.097037</td>\n      <td>85.398025</td>\n      <td>85.398025</td>\n      <td>85.398025</td>\n      <td>85.398025</td>\n      <td>85.398025</td>\n      <td>85.398025</td>\n      <td>85.398025</td>\n    </tr>\n    <tr>\n      <th>105</th>\n      <td>East</td>\n      <td>52</td>\n      <td>85.520635</td>\n      <td>0.000000</td>\n      <td>128.280952</td>\n      <td>128.280952</td>\n      <td>85.520635</td>\n      <td>85.520635</td>\n      <td>85.520635</td>\n      <td>85.520635</td>\n      <td>85.520635</td>\n      <td>85.520635</td>\n      <td>85.520635</td>\n    </tr>\n    <tr>\n      <th>120</th>\n      <td>West</td>\n      <td>64</td>\n      <td>218.893889</td>\n      <td>218.893889</td>\n      <td>218.893889</td>\n      <td>218.893889</td>\n      <td>218.893889</td>\n      <td>218.893889</td>\n      <td>218.893889</td>\n      <td>218.893889</td>\n      <td>218.893889</td>\n      <td>437.787778</td>\n      <td>0.000000</td>\n    </tr>\n    <tr>\n      <th>135</th>\n      <td>West</td>\n      <td>86</td>\n      <td>213.491667</td>\n      <td>213.491667</td>\n      <td>213.491667</td>\n      <td>213.491667</td>\n      <td>213.491667</td>\n      <td>213.491667</td>\n      <td>213.491667</td>\n      <td>213.491667</td>\n      <td>213.491667</td>\n      <td>0.000000</td>\n      <td>426.983333</td>\n    </tr>\n  </tbody>\n</table>\n</div>"
     },
     "metadata": {},
     "execution_count": 8
    }
   ],
   "source": [
    "jackknife = ReplicateWeight(method=\"jackknife\", stratification=True)\n",
    "jkn_wgt = jackknife.replicate(full_sample[\"design_weight\"], full_sample[\"cluster\"], full_sample[\"region\"])\n",
    "\n",
    "jkn_wgt.drop_duplicates().head(10)"
   ]
  },
  {
   "cell_type": "markdown",
   "metadata": {},
   "source": [
    "**Important.** For any of the three methods, we can request the replicate coefficient instead of the replicate weights by *rep_coefs=True*. "
   ]
  },
  {
   "cell_type": "code",
   "execution_count": 9,
   "metadata": {},
   "outputs": [
    {
     "output_type": "execute_result",
     "data": {
      "text/plain": [
       "    _stratum  _psu  _samp_weight  ...  _jk_wgt_8  _jk_wgt_9  _jk_wgt_10\n",
       "75      East    34     75.661566  ...        1.0        1.0         1.0\n",
       "90      East    45     85.398025  ...        1.0        1.0         1.0\n",
       "105     East    52     85.520635  ...        1.0        1.0         1.0\n",
       "0      North     7     46.166667  ...        1.0        1.0         1.0\n",
       "15     North    10     50.783333  ...        1.0        1.0         1.0\n",
       "30     South    16     62.149123  ...        0.0        1.0         1.0\n",
       "45     South    24     58.940741  ...        1.5        1.0         1.0\n",
       "60     South    29     65.702778  ...        1.5        1.0         1.0\n",
       "120     West    64    218.893889  ...        1.0        2.0         0.0\n",
       "135     West    86    213.491667  ...        1.0        0.0         2.0\n",
       "\n",
       "[10 rows x 13 columns]"
      ],
      "text/html": "<div>\n<style scoped>\n    .dataframe tbody tr th:only-of-type {\n        vertical-align: middle;\n    }\n\n    .dataframe tbody tr th {\n        vertical-align: top;\n    }\n\n    .dataframe thead th {\n        text-align: right;\n    }\n</style>\n<table border=\"1\" class=\"dataframe\">\n  <thead>\n    <tr style=\"text-align: right;\">\n      <th></th>\n      <th>_stratum</th>\n      <th>_psu</th>\n      <th>_samp_weight</th>\n      <th>_jk_wgt_1</th>\n      <th>_jk_wgt_2</th>\n      <th>_jk_wgt_3</th>\n      <th>_jk_wgt_4</th>\n      <th>_jk_wgt_5</th>\n      <th>_jk_wgt_6</th>\n      <th>_jk_wgt_7</th>\n      <th>_jk_wgt_8</th>\n      <th>_jk_wgt_9</th>\n      <th>_jk_wgt_10</th>\n    </tr>\n  </thead>\n  <tbody>\n    <tr>\n      <th>75</th>\n      <td>East</td>\n      <td>34</td>\n      <td>75.661566</td>\n      <td>1.5</td>\n      <td>1.5</td>\n      <td>0.0</td>\n      <td>1.0</td>\n      <td>1.0</td>\n      <td>1.0</td>\n      <td>1.0</td>\n      <td>1.0</td>\n      <td>1.0</td>\n      <td>1.0</td>\n    </tr>\n    <tr>\n      <th>90</th>\n      <td>East</td>\n      <td>45</td>\n      <td>85.398025</td>\n      <td>1.5</td>\n      <td>0.0</td>\n      <td>1.5</td>\n      <td>1.0</td>\n      <td>1.0</td>\n      <td>1.0</td>\n      <td>1.0</td>\n      <td>1.0</td>\n      <td>1.0</td>\n      <td>1.0</td>\n    </tr>\n    <tr>\n      <th>105</th>\n      <td>East</td>\n      <td>52</td>\n      <td>85.520635</td>\n      <td>0.0</td>\n      <td>1.5</td>\n      <td>1.5</td>\n      <td>1.0</td>\n      <td>1.0</td>\n      <td>1.0</td>\n      <td>1.0</td>\n      <td>1.0</td>\n      <td>1.0</td>\n      <td>1.0</td>\n    </tr>\n    <tr>\n      <th>0</th>\n      <td>North</td>\n      <td>7</td>\n      <td>46.166667</td>\n      <td>1.0</td>\n      <td>1.0</td>\n      <td>1.0</td>\n      <td>0.0</td>\n      <td>2.0</td>\n      <td>1.0</td>\n      <td>1.0</td>\n      <td>1.0</td>\n      <td>1.0</td>\n      <td>1.0</td>\n    </tr>\n    <tr>\n      <th>15</th>\n      <td>North</td>\n      <td>10</td>\n      <td>50.783333</td>\n      <td>1.0</td>\n      <td>1.0</td>\n      <td>1.0</td>\n      <td>2.0</td>\n      <td>0.0</td>\n      <td>1.0</td>\n      <td>1.0</td>\n      <td>1.0</td>\n      <td>1.0</td>\n      <td>1.0</td>\n    </tr>\n    <tr>\n      <th>30</th>\n      <td>South</td>\n      <td>16</td>\n      <td>62.149123</td>\n      <td>1.0</td>\n      <td>1.0</td>\n      <td>1.0</td>\n      <td>1.0</td>\n      <td>1.0</td>\n      <td>1.5</td>\n      <td>1.5</td>\n      <td>0.0</td>\n      <td>1.0</td>\n      <td>1.0</td>\n    </tr>\n    <tr>\n      <th>45</th>\n      <td>South</td>\n      <td>24</td>\n      <td>58.940741</td>\n      <td>1.0</td>\n      <td>1.0</td>\n      <td>1.0</td>\n      <td>1.0</td>\n      <td>1.0</td>\n      <td>1.5</td>\n      <td>0.0</td>\n      <td>1.5</td>\n      <td>1.0</td>\n      <td>1.0</td>\n    </tr>\n    <tr>\n      <th>60</th>\n      <td>South</td>\n      <td>29</td>\n      <td>65.702778</td>\n      <td>1.0</td>\n      <td>1.0</td>\n      <td>1.0</td>\n      <td>1.0</td>\n      <td>1.0</td>\n      <td>0.0</td>\n      <td>1.5</td>\n      <td>1.5</td>\n      <td>1.0</td>\n      <td>1.0</td>\n    </tr>\n    <tr>\n      <th>120</th>\n      <td>West</td>\n      <td>64</td>\n      <td>218.893889</td>\n      <td>1.0</td>\n      <td>1.0</td>\n      <td>1.0</td>\n      <td>1.0</td>\n      <td>1.0</td>\n      <td>1.0</td>\n      <td>1.0</td>\n      <td>1.0</td>\n      <td>2.0</td>\n      <td>0.0</td>\n    </tr>\n    <tr>\n      <th>135</th>\n      <td>West</td>\n      <td>86</td>\n      <td>213.491667</td>\n      <td>1.0</td>\n      <td>1.0</td>\n      <td>1.0</td>\n      <td>1.0</td>\n      <td>1.0</td>\n      <td>1.0</td>\n      <td>1.0</td>\n      <td>1.0</td>\n      <td>0.0</td>\n      <td>2.0</td>\n    </tr>\n  </tbody>\n</table>\n</div>"
     },
     "metadata": {},
     "execution_count": 9
    }
   ],
   "source": [
    "#jackknife = ReplicateWeight(method=\"jackknife\", stratification=True)\n",
    "jkn_wgt = jackknife.replicate(\n",
    "    full_sample[\"design_weight\"], full_sample[\"cluster\"], full_sample[\"region\"], rep_coefs=True\n",
    ")\n",
    "\n",
    "jkn_wgt.drop_duplicates().sort_values(by=\"_stratum\").head(15)"
   ]
  },
  {
   "cell_type": "code",
   "execution_count": 10,
   "metadata": {},
   "outputs": [
    {
     "output_type": "execute_result",
     "data": {
      "text/plain": [
       "     stratum  cluster  _samp_weight  ...  fay_weight_6  fay_weight_7  fay_weight_8\n",
       "0          1        7     46.166667  ...           1.7           0.3           1.7\n",
       "15         1       10     50.783333  ...           0.3           1.7           0.3\n",
       "30         2       16     62.149123  ...           0.3           1.7           1.7\n",
       "45         2       24     58.940741  ...           1.7           0.3           0.3\n",
       "60         3       29     65.702778  ...           1.7           1.7           0.3\n",
       "75         3       34     75.661566  ...           0.3           0.3           1.7\n",
       "90         4       45     85.398025  ...           1.7           1.7           1.7\n",
       "105        4       52     85.520635  ...           0.3           0.3           0.3\n",
       "120        5       64    218.893889  ...           0.3           1.7           0.3\n",
       "135        5       86    213.491667  ...           1.7           0.3           1.7\n",
       "\n",
       "[10 rows x 11 columns]"
      ],
      "text/html": "<div>\n<style scoped>\n    .dataframe tbody tr th:only-of-type {\n        vertical-align: middle;\n    }\n\n    .dataframe tbody tr th {\n        vertical-align: top;\n    }\n\n    .dataframe thead th {\n        text-align: right;\n    }\n</style>\n<table border=\"1\" class=\"dataframe\">\n  <thead>\n    <tr style=\"text-align: right;\">\n      <th></th>\n      <th>stratum</th>\n      <th>cluster</th>\n      <th>_samp_weight</th>\n      <th>fay_weight_1</th>\n      <th>fay_weight_2</th>\n      <th>fay_weight_3</th>\n      <th>fay_weight_4</th>\n      <th>fay_weight_5</th>\n      <th>fay_weight_6</th>\n      <th>fay_weight_7</th>\n      <th>fay_weight_8</th>\n    </tr>\n  </thead>\n  <tbody>\n    <tr>\n      <th>0</th>\n      <td>1</td>\n      <td>7</td>\n      <td>46.166667</td>\n      <td>0.3</td>\n      <td>1.7</td>\n      <td>0.3</td>\n      <td>1.7</td>\n      <td>0.3</td>\n      <td>1.7</td>\n      <td>0.3</td>\n      <td>1.7</td>\n    </tr>\n    <tr>\n      <th>15</th>\n      <td>1</td>\n      <td>10</td>\n      <td>50.783333</td>\n      <td>1.7</td>\n      <td>0.3</td>\n      <td>1.7</td>\n      <td>0.3</td>\n      <td>1.7</td>\n      <td>0.3</td>\n      <td>1.7</td>\n      <td>0.3</td>\n    </tr>\n    <tr>\n      <th>30</th>\n      <td>2</td>\n      <td>16</td>\n      <td>62.149123</td>\n      <td>0.3</td>\n      <td>0.3</td>\n      <td>1.7</td>\n      <td>1.7</td>\n      <td>0.3</td>\n      <td>0.3</td>\n      <td>1.7</td>\n      <td>1.7</td>\n    </tr>\n    <tr>\n      <th>45</th>\n      <td>2</td>\n      <td>24</td>\n      <td>58.940741</td>\n      <td>1.7</td>\n      <td>1.7</td>\n      <td>0.3</td>\n      <td>0.3</td>\n      <td>1.7</td>\n      <td>1.7</td>\n      <td>0.3</td>\n      <td>0.3</td>\n    </tr>\n    <tr>\n      <th>60</th>\n      <td>3</td>\n      <td>29</td>\n      <td>65.702778</td>\n      <td>0.3</td>\n      <td>1.7</td>\n      <td>1.7</td>\n      <td>0.3</td>\n      <td>0.3</td>\n      <td>1.7</td>\n      <td>1.7</td>\n      <td>0.3</td>\n    </tr>\n    <tr>\n      <th>75</th>\n      <td>3</td>\n      <td>34</td>\n      <td>75.661566</td>\n      <td>1.7</td>\n      <td>0.3</td>\n      <td>0.3</td>\n      <td>1.7</td>\n      <td>1.7</td>\n      <td>0.3</td>\n      <td>0.3</td>\n      <td>1.7</td>\n    </tr>\n    <tr>\n      <th>90</th>\n      <td>4</td>\n      <td>45</td>\n      <td>85.398025</td>\n      <td>0.3</td>\n      <td>0.3</td>\n      <td>0.3</td>\n      <td>0.3</td>\n      <td>1.7</td>\n      <td>1.7</td>\n      <td>1.7</td>\n      <td>1.7</td>\n    </tr>\n    <tr>\n      <th>105</th>\n      <td>4</td>\n      <td>52</td>\n      <td>85.520635</td>\n      <td>1.7</td>\n      <td>1.7</td>\n      <td>1.7</td>\n      <td>1.7</td>\n      <td>0.3</td>\n      <td>0.3</td>\n      <td>0.3</td>\n      <td>0.3</td>\n    </tr>\n    <tr>\n      <th>120</th>\n      <td>5</td>\n      <td>64</td>\n      <td>218.893889</td>\n      <td>0.3</td>\n      <td>1.7</td>\n      <td>0.3</td>\n      <td>1.7</td>\n      <td>1.7</td>\n      <td>0.3</td>\n      <td>1.7</td>\n      <td>0.3</td>\n    </tr>\n    <tr>\n      <th>135</th>\n      <td>5</td>\n      <td>86</td>\n      <td>213.491667</td>\n      <td>1.7</td>\n      <td>0.3</td>\n      <td>1.7</td>\n      <td>0.3</td>\n      <td>0.3</td>\n      <td>1.7</td>\n      <td>0.3</td>\n      <td>1.7</td>\n    </tr>\n  </tbody>\n</table>\n</div>"
     },
     "metadata": {},
     "execution_count": 10
    }
   ],
   "source": [
    "#fay = ReplicateWeight(method=\"brr\", stratification=False, fay_coef=0.3)\n",
    "fay_wgt = fay.replicate(\n",
    "    full_sample[\"design_weight\"], \n",
    "    full_sample[\"cluster\"], \n",
    "    rep_prefix=\"fay_weight_\",\n",
    "    psu_varname=\"cluster\", \n",
    "    str_varname=\"stratum\",\n",
    "    rep_coefs=True\n",
    ")\n",
    "\n",
    "fay_wgt.drop_duplicates().head(10)"
   ]
  }
 ],
 "metadata": {
  "kernelspec": {
   "name": "python3",
   "display_name": "Python 3.8.3 64-bit ('.venv': venv)"
  },
  "language_info": {
   "codemirror_mode": {
    "name": "ipython",
    "version": 3
   },
   "file_extension": ".py",
   "mimetype": "text/x-python",
   "name": "python",
   "nbconvert_exporter": "python",
   "pygments_lexer": "ipython3",
   "version": "3.8.3"
  },
  "interpreter": {
   "hash": "8d97b6f81b6225c1c1000b41275f653c5a6af17bec8cb42dd9c57e68affc81e3"
  }
 },
 "nbformat": 4,
 "nbformat_minor": 4
}