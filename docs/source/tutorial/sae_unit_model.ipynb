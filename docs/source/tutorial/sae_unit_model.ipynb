{
 "cells": [
  {
   "cell_type": "markdown",
   "metadata": {},
   "source": [
    "## Small Area Estimation (SAE): Area Level Model"
   ]
  },
  {
   "cell_type": "markdown",
   "metadata": {},
   "source": [
    "Explain the concept of estimating a parameter of the population from the sample"
   ]
  },
  {
   "cell_type": "code",
   "execution_count": 4,
   "metadata": {},
   "outputs": [],
   "source": [
    "import numpy as np\n",
    "import pandas as pd\n",
    "\n",
    "import samplics \n",
    "from samplics.sae import EblupAreaModel"
   ]
  },
  {
   "cell_type": "markdown",
   "metadata": {},
   "source": [
    "## Calculate the indicators"
   ]
  },
  {
   "cell_type": "markdown",
   "metadata": {},
   "source": [
    "We can do DTP, drop out, manipulate dates, etc"
   ]
  },
  {
   "cell_type": "markdown",
   "metadata": {},
   "source": [
    "## Calculate coverage estimates"
   ]
  },
  {
   "cell_type": "code",
   "execution_count": 11,
   "metadata": {},
   "outputs": [
    {
     "data": {
      "text/html": [
       "<div>\n",
       "<style scoped>\n",
       "    .dataframe tbody tr th:only-of-type {\n",
       "        vertical-align: middle;\n",
       "    }\n",
       "\n",
       "    .dataframe tbody tr th {\n",
       "        vertical-align: top;\n",
       "    }\n",
       "\n",
       "    .dataframe thead th {\n",
       "        text-align: right;\n",
       "    }\n",
       "</style>\n",
       "<table border=\"1\" class=\"dataframe\">\n",
       "  <thead>\n",
       "    <tr style=\"text-align: right;\">\n",
       "      <th></th>\n",
       "      <th>County</th>\n",
       "      <th>CornHec</th>\n",
       "      <th>SoyBeansHec</th>\n",
       "      <th>CornPix</th>\n",
       "      <th>SoyBeansPix</th>\n",
       "    </tr>\n",
       "  </thead>\n",
       "  <tbody>\n",
       "    <tr>\n",
       "      <th>0</th>\n",
       "      <td>1</td>\n",
       "      <td>165.76</td>\n",
       "      <td>8.09</td>\n",
       "      <td>374</td>\n",
       "      <td>55</td>\n",
       "    </tr>\n",
       "    <tr>\n",
       "      <th>1</th>\n",
       "      <td>2</td>\n",
       "      <td>96.32</td>\n",
       "      <td>106.03</td>\n",
       "      <td>209</td>\n",
       "      <td>218</td>\n",
       "    </tr>\n",
       "    <tr>\n",
       "      <th>2</th>\n",
       "      <td>3</td>\n",
       "      <td>76.08</td>\n",
       "      <td>103.60</td>\n",
       "      <td>253</td>\n",
       "      <td>250</td>\n",
       "    </tr>\n",
       "    <tr>\n",
       "      <th>3</th>\n",
       "      <td>4</td>\n",
       "      <td>185.35</td>\n",
       "      <td>6.47</td>\n",
       "      <td>432</td>\n",
       "      <td>96</td>\n",
       "    </tr>\n",
       "    <tr>\n",
       "      <th>4</th>\n",
       "      <td>4</td>\n",
       "      <td>116.43</td>\n",
       "      <td>63.82</td>\n",
       "      <td>367</td>\n",
       "      <td>178</td>\n",
       "    </tr>\n",
       "    <tr>\n",
       "      <th>5</th>\n",
       "      <td>5</td>\n",
       "      <td>162.08</td>\n",
       "      <td>43.50</td>\n",
       "      <td>361</td>\n",
       "      <td>137</td>\n",
       "    </tr>\n",
       "    <tr>\n",
       "      <th>6</th>\n",
       "      <td>5</td>\n",
       "      <td>152.04</td>\n",
       "      <td>71.43</td>\n",
       "      <td>288</td>\n",
       "      <td>206</td>\n",
       "    </tr>\n",
       "    <tr>\n",
       "      <th>7</th>\n",
       "      <td>5</td>\n",
       "      <td>161.75</td>\n",
       "      <td>42.49</td>\n",
       "      <td>369</td>\n",
       "      <td>165</td>\n",
       "    </tr>\n",
       "    <tr>\n",
       "      <th>8</th>\n",
       "      <td>6</td>\n",
       "      <td>92.88</td>\n",
       "      <td>105.26</td>\n",
       "      <td>206</td>\n",
       "      <td>218</td>\n",
       "    </tr>\n",
       "    <tr>\n",
       "      <th>9</th>\n",
       "      <td>6</td>\n",
       "      <td>149.94</td>\n",
       "      <td>76.49</td>\n",
       "      <td>316</td>\n",
       "      <td>221</td>\n",
       "    </tr>\n",
       "    <tr>\n",
       "      <th>10</th>\n",
       "      <td>6</td>\n",
       "      <td>64.75</td>\n",
       "      <td>174.34</td>\n",
       "      <td>145</td>\n",
       "      <td>338</td>\n",
       "    </tr>\n",
       "    <tr>\n",
       "      <th>11</th>\n",
       "      <td>7</td>\n",
       "      <td>127.07</td>\n",
       "      <td>95.67</td>\n",
       "      <td>355</td>\n",
       "      <td>128</td>\n",
       "    </tr>\n",
       "  </tbody>\n",
       "</table>\n",
       "</div>"
      ],
      "text/plain": [
       "    County  CornHec  SoyBeansHec  CornPix  SoyBeansPix\n",
       "0        1   165.76         8.09      374           55\n",
       "1        2    96.32       106.03      209          218\n",
       "2        3    76.08       103.60      253          250\n",
       "3        4   185.35         6.47      432           96\n",
       "4        4   116.43        63.82      367          178\n",
       "5        5   162.08        43.50      361          137\n",
       "6        5   152.04        71.43      288          206\n",
       "7        5   161.75        42.49      369          165\n",
       "8        6    92.88       105.26      206          218\n",
       "9        6   149.94        76.49      316          221\n",
       "10       6    64.75       174.34      145          338\n",
       "11       7   127.07        95.67      355          128"
      ]
     },
     "execution_count": 11,
     "metadata": {},
     "output_type": "execute_result"
    }
   ],
   "source": [
    "cornsoybeans = pd.read_csv(\"../../../datasets/docs/cornsoybeans.csv\")\n",
    "\n",
    "cornsoybeans.head(12)"
   ]
  },
  {
   "cell_type": "code",
   "execution_count": null,
   "metadata": {},
   "outputs": [],
   "source": [
    "area = milk[\"SmallArea\"]\n",
    "yhat = milk[\"yi\"]\n",
    "X = pd.get_dummies(milk[\"MajorArea\"])\n",
    "X.loc[:, 1] = 1\n",
    "print(X)\n",
    "sigma_e = milk[\"SD\"]\n",
    "\n",
    "## REML method\n",
    "fh_model_reml = EblupAreaModel(method=\"REML\")\n",
    "fh_model_reml.fit(\n",
    "    yhat=yhat, X=X, area=area, error_std=sigma_e, abstol=1e-4,\n",
    ")\n",
    "fh_model_reml.predict(\n",
    "    X=X, area=area,\n",
    ")\n",
    "\n"
   ]
  }
 ],
 "metadata": {
  "kernelspec": {
   "display_name": "Python 3",
   "language": "python",
   "name": "python3"
  },
  "language_info": {
   "codemirror_mode": {
    "name": "ipython",
    "version": 3
   },
   "file_extension": ".py",
   "mimetype": "text/x-python",
   "name": "python",
   "nbconvert_exporter": "python",
   "pygments_lexer": "ipython3",
   "version": "3.7.6"
  }
 },
 "nbformat": 4,
 "nbformat_minor": 4
}
